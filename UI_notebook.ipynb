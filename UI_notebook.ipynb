{
 "cells": [
  {
   "cell_type": "markdown",
   "id": "739cd835",
   "metadata": {},
   "source": [
    "# User interface for the RT1_Assignment3"
   ]
  },
  {
   "cell_type": "code",
   "execution_count": 29,
   "id": "242ad53b",
   "metadata": {
    "scrolled": true
   },
   "outputs": [],
   "source": [
    "# import\n",
    "from jupyros import ros3d \n",
    "import os"
   ]
  },
  {
   "cell_type": "code",
   "execution_count": null,
   "id": "651a3741",
   "metadata": {},
   "outputs": [],
   "source": [
    "# initializaion\n",
    "v = ros3d.Viewer()\n",
    "rc = ros3d.ROSConnection(url=\"ws://localhost:9090\")\n",
    "tf_client = ros3d.TFClient(ros=rc, fixed_frame='map')\n",
    "laser_view = ros3d.LaserScan(topic=\"/scan\", ros=rc, tf_client=tf_client)\n",
    "map_view = ros3d.OccupancyGrid(topic=\"/map\", ros=rc, tf_client=tf_client)\n",
    "path = ros3d.Path(topic=\"/move_base/NavfnROS/plan\", ros=rc, tf_client=tf_client)\n",
    "urdf = ros3d.URDFModel(ros=rc, tf_client=tf_client, path=os.environ.get('JUPYROS_ASSETS_URL', 'http://localhost:3000')) \n",
    "g = ros3d.GridModel()\n",
    "v.objects = [g, laser_view, map_view, path, urdf]"
   ]
  },
  {
   "cell_type": "code",
   "execution_count": null,
   "id": "a5cfb535",
   "metadata": {},
   "outputs": [],
   "source": [
    "# visualization of the elements\n",
    "v"
   ]
  },
  {
   "cell_type": "markdown",
   "id": "de91cb3c",
   "metadata": {},
   "source": [
    "## Buttons to decide the modality"
   ]
  },
  {
   "cell_type": "markdown",
   "id": "75278d65",
   "metadata": {},
   "source": [
    "### Code to publish a position (modality 1 of the UI node)"
   ]
  },
  {
   "cell_type": "code",
   "execution_count": 45,
   "id": "4fe9ea99",
   "metadata": {},
   "outputs": [],
   "source": [
    "# import\n",
    "from IPython.display import display\n",
    "import ipywidgets as widgets\n",
    "from ipywidgets import Button, Layout\n",
    "from ipywidgets import Button, Layout, ButtonStyle, GridBox, VBox, HBox \n",
    "import ipywidgets as widgets"
   ]
  },
  {
   "cell_type": "code",
   "execution_count": 46,
   "id": "46463729",
   "metadata": {},
   "outputs": [],
   "source": [
    "# definition of the 3 buttons\n",
    "# b1 for the position publish\n",
    "b1 = Button(description='Publish a (x,y) position',\n",
    "            layout=Layout(width='auto', align=\"center\", grid_area='b1'), style=ButtonStyle(button_color='lightgreen'))\n",
    "# b2 for the drive with the keyboard\n",
    "b2 = Button(description='Drive with the keyboard', \n",
    "            layout=Layout(width='auto', grid_area='b2'), style=ButtonStyle(button_color='lightblue'))\n",
    "# b3 for the cancellation of the goal\n",
    "b3 = Button(description='Cancel the current goal', \n",
    "            layout=Layout(width='auto', grid_area='b3'), style=ButtonStyle(button_color='orange'))"
   ]
  },
  {
   "cell_type": "code",
   "execution_count": 47,
   "id": "832d2a9f",
   "metadata": {},
   "outputs": [],
   "source": [
    "# output of the 3 buttons\n",
    "output1 = widgets.Output()\n",
    "output2 = widgets.Output()\n",
    "output3 = widgets.Output()"
   ]
  },
  {
   "cell_type": "code",
   "execution_count": 52,
   "id": "481ac502",
   "metadata": {},
   "outputs": [
    {
     "data": {
      "application/vnd.jupyter.widget-view+json": {
       "model_id": "024e35e23fc34c5680a4d04c2921fe26",
       "version_major": 2,
       "version_minor": 0
      },
      "text/plain": [
       "Button(description='Publish a (x,y) position', layout=Layout(grid_area='b1', width='auto'), style=ButtonStyle(…"
      ]
     },
     "metadata": {},
     "output_type": "display_data"
    },
    {
     "data": {
      "application/vnd.jupyter.widget-view+json": {
       "model_id": "63c4b98cc93444159f136efc26006d3b",
       "version_major": 2,
       "version_minor": 0
      },
      "text/plain": [
       "Output()"
      ]
     },
     "metadata": {},
     "output_type": "display_data"
    },
    {
     "data": {
      "application/vnd.jupyter.widget-view+json": {
       "model_id": "30581c7d3c9e4c409af6af46b822147c",
       "version_major": 2,
       "version_minor": 0
      },
      "text/plain": [
       "Button(description='Drive with the keyboard', layout=Layout(grid_area='b2', width='auto'), style=ButtonStyle(b…"
      ]
     },
     "metadata": {},
     "output_type": "display_data"
    },
    {
     "data": {
      "application/vnd.jupyter.widget-view+json": {
       "model_id": "a70cca4a67044be5b73dbef0211669f8",
       "version_major": 2,
       "version_minor": 0
      },
      "text/plain": [
       "Output()"
      ]
     },
     "metadata": {},
     "output_type": "display_data"
    },
    {
     "data": {
      "application/vnd.jupyter.widget-view+json": {
       "model_id": "2d6e032e88ad4387827f3266f13e4962",
       "version_major": 2,
       "version_minor": 0
      },
      "text/plain": [
       "Button(description='Cancel the current goal', layout=Layout(grid_area='b3', width='auto'), style=ButtonStyle(b…"
      ]
     },
     "metadata": {},
     "output_type": "display_data"
    },
    {
     "data": {
      "application/vnd.jupyter.widget-view+json": {
       "model_id": "0eeec2dd7740464ebcb0db8bad30ff67",
       "version_major": 2,
       "version_minor": 0
      },
      "text/plain": [
       "Output()"
      ]
     },
     "metadata": {},
     "output_type": "display_data"
    }
   ],
   "source": [
    "# associate the 3 buttons to their output\n",
    "display(b1, output1)\n",
    "display(b2, output2)\n",
    "display(b3, output3)"
   ]
  },
  {
   "cell_type": "code",
   "execution_count": 49,
   "id": "634004a3",
   "metadata": {},
   "outputs": [],
   "source": [
    "# varaible inizialization\n",
    "publish_position = False\n",
    "use_keyboard = False\n",
    "cancel_goal = False"
   ]
  },
  {
   "cell_type": "code",
   "execution_count": 50,
   "id": "94fe7157",
   "metadata": {},
   "outputs": [],
   "source": [
    "# definition of the function for the click on the button \n",
    "def on_b1_clicked(b1):\n",
    "    with output1: publish_position = True\n",
    "    print(\"ok1\")\n",
    "        \n",
    "def on_b2_clicked(b2):\n",
    "    with output2: use_keyboard = True\n",
    "    print(\"ok2\")\n",
    "        \n",
    "def on_b3_clicked(b3):\n",
    "    with output3: cancel_goal = True\n",
    "    print(\"ok3\")"
   ]
  },
  {
   "cell_type": "code",
   "execution_count": 51,
   "id": "9985bfff",
   "metadata": {
    "scrolled": true
   },
   "outputs": [],
   "source": [
    "# initialize the 3 buttons ready to manage a click\n",
    "b1.on_click(on_b1_clicked)\n",
    "b2.on_click(on_b2_clicked)\n",
    "b3.on_click(on_b3_clicked)"
   ]
  },
  {
   "cell_type": "markdown",
   "id": "31221822",
   "metadata": {},
   "source": [
    "### Publication of the position"
   ]
  },
  {
   "cell_type": "code",
   "execution_count": 30,
   "id": "cd7d937f",
   "metadata": {
    "scrolled": true
   },
   "outputs": [],
   "source": [
    "# import\n",
    "import jupyros as jr\n",
    "import rospy\n",
    "from move_base_msgs.msg import MoveBaseActionGoal"
   ]
  },
  {
   "cell_type": "code",
   "execution_count": null,
   "id": "b68c4de4",
   "metadata": {},
   "outputs": [],
   "source": [
    "# initialize the node\n",
    "rospy.init_node('UI_node_jupyter')"
   ]
  },
  {
   "cell_type": "code",
   "execution_count": null,
   "id": "410b9e81",
   "metadata": {},
   "outputs": [],
   "source": [
    "# publish the position\n",
    "jr.publish('/move_base/goal', MoveBaseActionGoal)"
   ]
  }
 ],
 "metadata": {
  "kernelspec": {
   "display_name": "Python 3 (ipykernel)",
   "language": "python",
   "name": "python3"
  },
  "language_info": {
   "codemirror_mode": {
    "name": "ipython",
    "version": 3
   },
   "file_extension": ".py",
   "mimetype": "text/x-python",
   "name": "python",
   "nbconvert_exporter": "python",
   "pygments_lexer": "ipython3",
   "version": "3.8.5"
  }
 },
 "nbformat": 4,
 "nbformat_minor": 5
}

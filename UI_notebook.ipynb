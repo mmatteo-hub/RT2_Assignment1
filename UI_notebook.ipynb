{
 "cells": [
  {
   "cell_type": "markdown",
   "id": "739cd835",
   "metadata": {},
   "source": [
    "# User interface for the RT1_Assignment3"
   ]
  },
  {
   "cell_type": "code",
   "execution_count": 29,
   "id": "242ad53b",
   "metadata": {
    "scrolled": true
   },
   "outputs": [],
   "source": [
    "from jupyros import ros3d \n",
    "import os\n",
    "\n",
    "v = ros3d.Viewer()\n",
    "rc = ros3d.ROSConnection(url=\"ws://localhost:9090\")\n",
    "tf_client = ros3d.TFClient(ros=rc, fixed_frame='map')\n",
    "laser_view = ros3d.LaserScan(topic=\"/scan\", ros=rc, tf_client=tf_client)\n",
    "map_view = ros3d.OccupancyGrid(topic=\"/map\", ros=rc, tf_client=tf_client)\n",
    "path = ros3d.Path(topic=\"/move_base/NavfnROS/plan\", ros=rc, tf_client=tf_client)\n",
    "urdf = ros3d.URDFModel(ros=rc, tf_client=tf_client, path=os.environ.get('JUPYROS_ASSETS_URL', 'http://localhost:3000')) \n",
    "g = ros3d.GridModel()\n",
    "v.objects = [g, laser_view, map_view, path, urdf]"
   ]
  },
  {
   "cell_type": "markdown",
   "id": "75278d65",
   "metadata": {},
   "source": [
    "## Code to publish a position (modality 1 of the UI node)"
   ]
  },
  {
   "cell_type": "code",
   "execution_count": 36,
   "id": "cd7d937f",
   "metadata": {
    "scrolled": true
   },
   "outputs": [
    {
     "data": {
      "application/vnd.jupyter.widget-view+json": {
       "model_id": "5d4dd0df66054e0faaf4f389a2f32796",
       "version_major": 2,
       "version_minor": 0
      },
      "text/plain": [
       "VBox(children=(Label(value='header'), HBox(children=(Label(value='seq', layout=Layout(width='100px')), IntText…"
      ]
     },
     "metadata": {},
     "output_type": "display_data"
    }
   ],
   "source": [
    "import jupyros as jr\n",
    "import rospy\n",
    "from move_base_msgs.msg import MoveBaseActionGoal\n",
    "\n",
    "rospy.init_node('UI_node_jupyter')\n",
    "jr.publish('/move_base/goal', MoveBaseActionGoal)"
   ]
  },
  {
   "cell_type": "code",
   "execution_count": null,
   "id": "e575f005",
   "metadata": {},
   "outputs": [],
   "source": []
  }
 ],
 "metadata": {
  "kernelspec": {
   "display_name": "Python 3 (ipykernel)",
   "language": "python",
   "name": "python3"
  },
  "language_info": {
   "codemirror_mode": {
    "name": "ipython",
    "version": 3
   },
   "file_extension": ".py",
   "mimetype": "text/x-python",
   "name": "python",
   "nbconvert_exporter": "python",
   "pygments_lexer": "ipython3",
   "version": "3.8.5"
  }
 },
 "nbformat": 4,
 "nbformat_minor": 5
}

{
 "cells": [
  {
   "cell_type": "markdown",
   "id": "4b86663c",
   "metadata": {
    "hide_input": true
   },
   "source": [
    "# UI for RT1_Assignment3"
   ]
  },
  {
   "cell_type": "code",
   "execution_count": 1,
   "id": "f8daa6f5",
   "metadata": {
    "ExecuteTime": {
     "end_time": "2022-03-30T10:56:17.584191Z",
     "start_time": "2022-03-30T10:56:09.479111Z"
    },
    "hide_input": false
   },
   "outputs": [],
   "source": [
    "# import\n",
    "from IPython.display import display\n",
    "from move_base_msgs.msg import MoveBaseActionGoal, MoveBaseGoal\n",
    "from geometry_msgs.msg import Twist\n",
    "import actionlib\n",
    "from actionlib_msgs.msg import GoalID\n",
    "import rospy\n",
    "import ipywidgets as widgets\n",
    "from ipywidgets import Button, Layout, ButtonStyle, GridBox, VBox, HBox, interact, interactive, fixed, interact_manual\n",
    "from __future__ import print_function\n",
    "from jupyros import ros3d \n",
    "import jupyros as jr\n",
    "import os"
   ]
  },
  {
   "cell_type": "code",
   "execution_count": 2,
   "id": "7513522e",
   "metadata": {
    "ExecuteTime": {
     "end_time": "2022-03-30T10:56:18.762893Z",
     "start_time": "2022-03-30T10:56:17.585908Z"
    },
    "hide_input": false
   },
   "outputs": [],
   "source": [
    "rospy.init_node('UI_node_jupyter')"
   ]
  },
  {
   "cell_type": "code",
   "execution_count": 3,
   "id": "24ce7644",
   "metadata": {
    "ExecuteTime": {
     "end_time": "2022-03-30T10:56:18.878006Z",
     "start_time": "2022-03-30T10:56:18.810492Z"
    },
    "hide_input": false
   },
   "outputs": [],
   "source": [
    "# Publishers definition\n",
    "pub = rospy.Publisher(\"/move_base/goal\", MoveBaseActionGoal, queue_size = 10)\n",
    "pubC = rospy.Publisher(\"/move_base/cancel\", GoalID, queue_size = 10)\n",
    "pubV = rospy.Publisher(\"/cmd_vel\", Twist, queue_size = 10)\n",
    "\n",
    "# Variable for the goal and the cancellation\n",
    "g = MoveBaseActionGoal()\n",
    "gCanc = GoalID()\n",
    "\n",
    "# Variables for the linear and angular velocity\n",
    "vLin = 0.5\n",
    "vAng = 1.0\n",
    "vMaxLin = 2.0\n",
    "vMaxAng = 4.0\n",
    "vMinLin = 0.25\n",
    "vMinAng = 0.5\n",
    "\n",
    "# Variable for the modality switch (initialized 0)\n",
    "# Goal publication: mod = 1\n",
    "# Keyboard use: mod = 2\n",
    "# Goal Cancellation: mod = 3\n",
    "# Quit the program: mod = 4\n",
    "mod = 0;"
   ]
  },
  {
   "cell_type": "markdown",
   "id": "fc835b8b",
   "metadata": {},
   "source": [
    "## Menù"
   ]
  },
  {
   "cell_type": "markdown",
   "id": "85267963",
   "metadata": {
    "ExecuteTime": {
     "end_time": "2022-03-30T09:31:05.443705Z",
     "start_time": "2022-03-30T09:31:05.409638Z"
    },
    "hide_input": false
   },
   "source": [
    "#### UI widgets"
   ]
  },
  {
   "cell_type": "code",
   "execution_count": 4,
   "id": "3b098076",
   "metadata": {
    "ExecuteTime": {
     "end_time": "2022-03-30T10:56:20.095596Z",
     "start_time": "2022-03-30T10:56:18.896424Z"
    },
    "hide_input": false
   },
   "outputs": [],
   "source": [
    "# definition of the widgets for the position publication\n",
    "xBox = widgets.BoundedFloatText(\n",
    "    value = 0.0,\n",
    "    min = -20.00,\n",
    "    max = 20.0,\n",
    "    step = 1,\n",
    "    description = 'X:',\n",
    "    disabled = False\n",
    ")\n",
    "yBox = widgets.BoundedFloatText(\n",
    "    value = 0.0,\n",
    "    min = -20.00,\n",
    "    max = 20.0,\n",
    "    step = 1,\n",
    "    description = 'Y:',\n",
    "    disabled = False\n",
    ")\n",
    "# definition of the buttons\n",
    "bc = widgets.Button(\n",
    "    description = 'Cancel the goal',\n",
    "    disabled = False,\n",
    "    button_style='',\n",
    "    tootltip = 'Click me',\n",
    "    icon = ''\n",
    ")\n",
    "bt = widgets.Button(\n",
    "    description = 'PUBLISH',\n",
    "    disabled = False,\n",
    "    button_style='',\n",
    "    tootltip = 'Click me',\n",
    "    icon = ''\n",
    ")\n",
    "\n",
    "\n",
    "# Buttons for the keyboard drive\n",
    "b_front = widgets.Button(\n",
    "    description = 'FRONT',\n",
    "    disabled = False,\n",
    "    button_style='',\n",
    "    tootltip = 'Click me',\n",
    "    icon = ''\n",
    ")\n",
    "b_front_r = widgets.Button(\n",
    "    description = 'FRONT-R',\n",
    "    disabled = False,\n",
    "    button_style='',\n",
    "    tootltip = 'Click me',\n",
    "    icon = ''\n",
    ")\n",
    "b_front_l = widgets.Button(\n",
    "    description = 'FRONT-L',\n",
    "    disabled = False,\n",
    "    button_style='',\n",
    "    tootltip = 'Click me',\n",
    "    icon = ''\n",
    ")\n",
    "b_stop = widgets.Button(\n",
    "    description = 'STOP',\n",
    "    disabled = False,\n",
    "    button_style='',\n",
    "    tootltip = 'Click me',\n",
    "    icon = ''\n",
    ")\n",
    "b_turn_l = widgets.Button(\n",
    "    description = 'TURN-L',\n",
    "    disabled = False,\n",
    "    button_style='',\n",
    "    tootltip = 'Click me',\n",
    "    icon = ''\n",
    ")\n",
    "b_turn_r = widgets.Button(\n",
    "    description = 'TURN-R',\n",
    "    disabled = False,\n",
    "    button_style='',\n",
    "    tootltip = 'Click me',\n",
    "    icon = ''\n",
    ")\n",
    "b_decrease = widgets.Button(\n",
    "    description = 'DEC VEL',\n",
    "    disabled = False,\n",
    "    button_style='',\n",
    "    tootltip = 'Click me',\n",
    "    icon = ''\n",
    ")\n",
    "b_increase = widgets.Button(\n",
    "    description = 'INC VEL',\n",
    "    disabled = False,\n",
    "    button_style='',\n",
    "    tootltip = 'Click me',\n",
    "    icon = ''\n",
    ")\n",
    "b_back = widgets.Button(\n",
    "    description = 'BACK',\n",
    "    disabled = False,\n",
    "    button_style='',\n",
    "    tootltip = 'Click me',\n",
    "    icon = ''\n",
    ")\n",
    "\n",
    "# Buttons for the enable\n",
    "en_goal = widgets.Button(\n",
    "    description = 'Enable publication',\n",
    "    disabled = False,\n",
    "    button_style='',\n",
    "    tootltip = 'Click me',\n",
    "    icon = ''\n",
    ")\n",
    "\n",
    "en_keyboard = widgets.Button(\n",
    "    description = 'Enable buttons',\n",
    "    disabled = False,\n",
    "    button_style='',\n",
    "    tootltip = 'Click me',\n",
    "    icon = ''\n",
    ")\n",
    "\n",
    "en_cancel = widgets.Button(\n",
    "    description = 'Enable cancellation',\n",
    "    disabled = False,\n",
    "    button_style='',\n",
    "    tootltip = 'Click me',\n",
    "    icon = ''\n",
    ")\n",
    "\n",
    "# Definition of the rows to show\n",
    "first_row = widgets.HBox([b_front_l, b_front, b_front_r])\n",
    "second_row = widgets.HBox([b_turn_l, b_stop, b_turn_r])\n",
    "third_row = widgets.HBox([b_back, b_increase, b_decrease])"
   ]
  },
  {
   "cell_type": "markdown",
   "id": "14f12511",
   "metadata": {
    "ExecuteTime": {
     "end_time": "2022-03-30T09:31:06.948126Z",
     "start_time": "2022-03-30T09:31:06.921943Z"
    },
    "hide_input": false
   },
   "source": [
    "#### Widgets' function"
   ]
  },
  {
   "cell_type": "code",
   "execution_count": 5,
   "id": "245c5577",
   "metadata": {
    "ExecuteTime": {
     "end_time": "2022-03-30T10:56:20.163511Z",
     "start_time": "2022-03-30T10:56:20.099572Z"
    },
    "hide_input": false
   },
   "outputs": [],
   "source": [
    "# Functions for the enable buttons\n",
    "def enable_goal():\n",
    "    publication_goal = True\n",
    "    publication_cancel = False\n",
    "    publication_keyboard = False\n",
    "\n",
    "def enable_cancel():\n",
    "    publication_goal = False\n",
    "    publication_cancel = True\n",
    "    publication_keyboard = False\n",
    "\n",
    "def enable_keyboard():\n",
    "    publication_goal = False\n",
    "    publication_cancel = False\n",
    "    publication_keyboard = True\n",
    "\n",
    "# Functions for the click button of the keyboard\n",
    "def front_vel(b_front):\n",
    "    global vLin\n",
    "    global pubV\n",
    "    global v\n",
    "    v = Twist()\n",
    "    v.linear.x = vLin\n",
    "    v.angular.z = 0.0\n",
    "    pubV.publish(v)\n",
    "    \n",
    "def front_r_vel(b_front_r):\n",
    "    global vLin\n",
    "    global vAng\n",
    "    global v\n",
    "    v = Twist()\n",
    "    v.linear.x = vLin\n",
    "    v.angular.z = -vAng\n",
    "    pubV.publish(v)\n",
    "    \n",
    "def front_l_vel(b_front_l):\n",
    "    print(\"Here\")\n",
    "    global vLin\n",
    "    global vAng\n",
    "    global v\n",
    "    v = Twist()\n",
    "    v.linear.x = vLin\n",
    "    v.angular.z = vAng\n",
    "    pubV.publish(v)\n",
    "    \n",
    "def turn_r_vel(b_turn_r):\n",
    "    global vAng\n",
    "    global v\n",
    "    v = Twist()\n",
    "    v.linear.x = 0.0\n",
    "    v.angular.z = -vAng\n",
    "    pubV.publish(v)\n",
    "    \n",
    "def turn_l_vel(b_turn_l):\n",
    "    global vAng\n",
    "    global v\n",
    "    v = Twist()\n",
    "    v.linear.x = 0.0\n",
    "    v.angular.z = vAng\n",
    "    pubV.publish(v)\n",
    "    \n",
    "def back_vel(b_back):\n",
    "    global vLin\n",
    "    global v\n",
    "    v = Twist()\n",
    "    v.linear.x = -vLin\n",
    "    v.angular.z = 0.0\n",
    "    pubV.publish(v)\n",
    "    \n",
    "def stop_vel(b_stop):\n",
    "    global v\n",
    "    v = Twist()\n",
    "    v.linear.x = 0.0\n",
    "    v.angular.z = 0.0\n",
    "    pubV.publish(v)\n",
    "    \n",
    "def inc_vel(b_increase):\n",
    "    global vLin\n",
    "    global vAng\n",
    "    global vMaxLin\n",
    "    global vMaxAng\n",
    "    global vMinLin\n",
    "    global vMinAng\n",
    "    global v\n",
    "    v = Twist()\n",
    "    if((vLin <= vMaxLin) and (vAng <= vMaxAng)):\n",
    "        vLin += 0.1*vLin\n",
    "        vAng += 0.1*vAng\n",
    "    else:\n",
    "        vLin = vMaxLin\n",
    "        vAng = vMaxAng\n",
    "    \n",
    "def dec_vel(b_decrease):\n",
    "    global vLin\n",
    "    global vAng\n",
    "    global vMaxLin\n",
    "    global vMaxAng\n",
    "    global vMinLin\n",
    "    global vMinAng\n",
    "    global v\n",
    "    v = Twist()\n",
    "    if((vLin >= vMinLin) and (vAng >= vMinAng)):\n",
    "        vLin -= 0.1*vLin\n",
    "        vAng -= 0.1*vAng\n",
    "    else:\n",
    "        vLin = vMinLin\n",
    "        vAng = vMinAng\n",
    "    \n",
    "# Definition of the function for the button click\n",
    "# Function for the button bt to publish the position\n",
    "def pub_pos(bt):\n",
    "    global g\n",
    "    global mod\n",
    "    \n",
    "    if(mod == 1):\n",
    "        g.goal.target_pose.header.frame_id = \"map\"\n",
    "        g.goal.target_pose.pose.position.x = xBox.value\n",
    "        g.goal.target_pose.pose.position.y = yBox.value\n",
    "        g.goal.target_pose.pose.orientation.w = 1.0\n",
    "        g.goal_id.id = \"goal\"\n",
    "        pub.publish(g)\n",
    "    \n",
    "# Function for the button bc to cancel the goal\n",
    "def bc_observer(bc):\n",
    "    global gCanc\n",
    "    global g\n",
    "    global mod\n",
    "    \n",
    "    if(mod == 3):\n",
    "        if(g.goal_id.id == \"goal\"):\n",
    "            gCanc.id = g.goal_id.id\n",
    "            pubC.publish(gCanc)\n",
    "            g.goal_id.id = \"\"\n",
    "        \n",
    "# Function for the button en_goal\n",
    "def goal_fun(en_goal):\n",
    "    global mod\n",
    "    mod = 1\n",
    "    \n",
    "# Function for the button en_cancel\n",
    "def canc_fun(en_cancel):\n",
    "    global mod\n",
    "    mod = 3\n",
    "    \n",
    "# Function for the button en_keybord\n",
    "def key_fun(en_keyboard):\n",
    "    global mod\n",
    "    mod = 2"
   ]
  },
  {
   "cell_type": "markdown",
   "id": "16efe8d5",
   "metadata": {
    "hide_input": true
   },
   "source": [
    "## Publish a (x,y) position"
   ]
  },
  {
   "cell_type": "code",
   "execution_count": 6,
   "id": "2bc38796",
   "metadata": {
    "ExecuteTime": {
     "end_time": "2022-03-30T10:56:20.255520Z",
     "start_time": "2022-03-30T10:56:20.167391Z"
    },
    "hide_input": false,
    "scrolled": true
   },
   "outputs": [
    {
     "data": {
      "application/vnd.jupyter.widget-view+json": {
       "model_id": "394d2ff1f44c45d79fcd90165e048d63",
       "version_major": 2,
       "version_minor": 0
      },
      "text/plain": [
       "Button(description='Enable publication', style=ButtonStyle())"
      ]
     },
     "metadata": {},
     "output_type": "display_data"
    },
    {
     "data": {
      "application/vnd.jupyter.widget-view+json": {
       "model_id": "fe83e06e68304f20bc7bfefaf77fc5be",
       "version_major": 2,
       "version_minor": 0
      },
      "text/plain": [
       "VBox(children=(BoundedFloatText(value=0.0, description='X:', max=20.0, min=-20.0, step=1.0), BoundedFloatText(…"
      ]
     },
     "metadata": {},
     "output_type": "display_data"
    },
    {
     "data": {
      "application/vnd.jupyter.widget-view+json": {
       "model_id": "2c6f9703b37444b58113080e2e67c447",
       "version_major": 2,
       "version_minor": 0
      },
      "text/plain": [
       "Button(description='PUBLISH', style=ButtonStyle())"
      ]
     },
     "metadata": {},
     "output_type": "display_data"
    }
   ],
   "source": [
    "# Button to enable the goal publication\n",
    "display(en_goal)\n",
    "en_goal.on_click(goal_fun)\n",
    "\n",
    "# Code fot the publication with the bt button\n",
    "display(widgets.VBox([xBox, yBox]))\n",
    "display(bt)\n",
    "\n",
    "bt.on_click(pub_pos)"
   ]
  },
  {
   "cell_type": "markdown",
   "id": "3e2b51b4",
   "metadata": {
    "hide_input": true
   },
   "source": [
    "## Cancel the current goal"
   ]
  },
  {
   "cell_type": "code",
   "execution_count": 7,
   "id": "1e04d55a",
   "metadata": {
    "ExecuteTime": {
     "end_time": "2022-03-30T10:56:20.309217Z",
     "start_time": "2022-03-30T10:56:20.270208Z"
    },
    "hide_input": false
   },
   "outputs": [
    {
     "data": {
      "application/vnd.jupyter.widget-view+json": {
       "model_id": "9dcb5ab91c9843f08c76c2c7a7921786",
       "version_major": 2,
       "version_minor": 0
      },
      "text/plain": [
       "Button(description='Enable cancellation', style=ButtonStyle())"
      ]
     },
     "metadata": {},
     "output_type": "display_data"
    },
    {
     "data": {
      "application/vnd.jupyter.widget-view+json": {
       "model_id": "6aecc8ea90994efba69d63f3ee08bd93",
       "version_major": 2,
       "version_minor": 0
      },
      "text/plain": [
       "Button(description='Cancel the goal', style=ButtonStyle())"
      ]
     },
     "metadata": {},
     "output_type": "display_data"
    }
   ],
   "source": [
    "# Button to enable the goal cancellation\n",
    "display(en_cancel)\n",
    "en_cancel.on_click(canc_fun)\n",
    "\n",
    "# Code to cancel the current goal set\n",
    "display(bc)\n",
    "\n",
    "bc.on_click(bc_observer)"
   ]
  },
  {
   "cell_type": "markdown",
   "id": "cc06b25d",
   "metadata": {},
   "source": [
    "## Drive by keyboard"
   ]
  },
  {
   "cell_type": "code",
   "execution_count": 8,
   "id": "afdafd28",
   "metadata": {
    "ExecuteTime": {
     "end_time": "2022-03-30T10:56:20.465467Z",
     "start_time": "2022-03-30T10:56:20.312478Z"
    },
    "hide_input": false,
    "scrolled": true
   },
   "outputs": [
    {
     "data": {
      "application/vnd.jupyter.widget-view+json": {
       "model_id": "064bda13fd64441990433197968b5878",
       "version_major": 2,
       "version_minor": 0
      },
      "text/plain": [
       "Button(description='Enable buttons', style=ButtonStyle())"
      ]
     },
     "metadata": {},
     "output_type": "display_data"
    },
    {
     "data": {
      "application/vnd.jupyter.widget-view+json": {
       "model_id": "75498bf8c8d9429e816c5f61a24dec32",
       "version_major": 2,
       "version_minor": 0
      },
      "text/plain": [
       "VBox(children=(HBox(children=(Button(description='FRONT-L', style=ButtonStyle()), Button(description='FRONT', …"
      ]
     },
     "metadata": {},
     "output_type": "display_data"
    }
   ],
   "source": [
    "# Button to enable the keyboard use\n",
    "display(en_keyboard)\n",
    "en_keyboard.on_click(key_fun)\n",
    "\n",
    "# Code to drive the robot by the keyboard use\n",
    "display(widgets.VBox([first_row, second_row, third_row]))\n",
    "\n",
    "b_front.on_click(front_vel)\n",
    "b_front_r.on_click(front_r_vel)\n",
    "b_front_l.on_click(front_l_vel)\n",
    "b_turn_r.on_click(turn_r_vel)\n",
    "b_turn_l.on_click(turn_l_vel)\n",
    "b_back.on_click(back_vel)\n",
    "b_stop.on_click(stop_vel)\n",
    "b_increase.on_click(inc_vel)\n",
    "b_decrease.on_click(dec_vel)"
   ]
  },
  {
   "cell_type": "markdown",
   "id": "b4e8d6f8",
   "metadata": {},
   "source": [
    "## Map"
   ]
  },
  {
   "cell_type": "code",
   "execution_count": 9,
   "id": "df02ca28",
   "metadata": {
    "ExecuteTime": {
     "end_time": "2022-03-30T10:56:20.908834Z",
     "start_time": "2022-03-30T10:56:20.488947Z"
    },
    "hide_input": false,
    "scrolled": true
   },
   "outputs": [],
   "source": [
    "# Definition of the elements needed for the map\n",
    "view = ros3d.Viewer()\n",
    "rc = ros3d.ROSConnection(url = \"ws://localhost:9090\") \n",
    "tf_client = ros3d.TFClient(ros = rc, fixed_frame = 'map')\n",
    "laser_view = ros3d.LaserScan(topic = \"/scan\", ros = rc, tf_client = tf_client) \n",
    "map_view = ros3d.OccupancyGrid(topic = \"/map\", ros = rc, tf_client = tf_client) \n",
    "path = ros3d.Path(topic = \"/move_base/NavfnROS/plan\", ros = rc, tf_client = tf_client)\n",
    "urdf = ros3d.URDFModel(ros = rc, tf_client = tf_client, path = os.environ.get('JUPYROS_ASSETS_URL', 'http://localhost:3000')) \n",
    "grid = ros3d.GridModel()\n",
    "view.objects = [grid, laser_view, map_view, path, urdf]\n",
    "\n",
    "# Map visualization\n",
    "#view"
   ]
  }
 ],
 "metadata": {
  "kernelspec": {
   "display_name": "Python 3 (ipykernel)",
   "language": "python",
   "name": "python3"
  },
  "language_info": {
   "codemirror_mode": {
    "name": "ipython",
    "version": 3
   },
   "file_extension": ".py",
   "mimetype": "text/x-python",
   "name": "python",
   "nbconvert_exporter": "python",
   "pygments_lexer": "ipython3",
   "version": "3.8.5"
  }
 },
 "nbformat": 4,
 "nbformat_minor": 5
}

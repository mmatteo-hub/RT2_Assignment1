{
 "cells": [
  {
   "cell_type": "markdown",
   "id": "4b86663c",
   "metadata": {
    "hide_input": true
   },
   "source": [
    "# UI for RT1_Assignment3"
   ]
  },
  {
   "cell_type": "code",
   "execution_count": 1,
   "id": "f8daa6f5",
   "metadata": {
    "ExecuteTime": {
     "end_time": "2022-03-28T09:25:36.696254Z",
     "start_time": "2022-03-28T09:25:27.625458Z"
    },
    "hide_input": false
   },
   "outputs": [],
   "source": [
    "# import\n",
    "from IPython.display import display\n",
    "from move_base_msgs.msg import MoveBaseActionGoal, MoveBaseGoal\n",
    "from geometry_msgs.msg import Twist\n",
    "import actionlib\n",
    "from actionlib_msgs.msg import GoalID\n",
    "import rospy\n",
    "import ipywidgets as widgets\n",
    "from ipywidgets import Button, Layout, ButtonStyle, GridBox, VBox, HBox, interact, interactive, fixed, interact_manual\n",
    "from __future__ import print_function\n",
    "from jupyros import ros3d \n",
    "import os"
   ]
  },
  {
   "cell_type": "code",
   "execution_count": 2,
   "id": "7513522e",
   "metadata": {
    "ExecuteTime": {
     "end_time": "2022-03-28T09:25:37.845262Z",
     "start_time": "2022-03-28T09:25:36.751889Z"
    },
    "hide_input": false
   },
   "outputs": [],
   "source": [
    "rospy.init_node('UI_node_jupyter') "
   ]
  },
  {
   "cell_type": "code",
   "execution_count": 3,
   "id": "7777dc2a",
   "metadata": {
    "ExecuteTime": {
     "end_time": "2022-03-28T09:25:38.031416Z",
     "start_time": "2022-03-28T09:25:37.859138Z"
    }
   },
   "outputs": [],
   "source": [
    "global pub\n",
    "pub = rospy.Publisher(\"/move_base/goal\", MoveBaseActionGoal, queue_size=10)\n",
    "global pubC\n",
    "pubC = rospy.Publisher(\"/move_base/cancel\", GoalID, queue_size=10)\n",
    "global pubV\n",
    "pubV = rospy.Publisher(\"/cmd_vel\", Twist, queue_size=10)"
   ]
  },
  {
   "cell_type": "markdown",
   "id": "fc835b8b",
   "metadata": {},
   "source": [
    "## Menù"
   ]
  },
  {
   "cell_type": "code",
   "execution_count": 4,
   "id": "3b098076",
   "metadata": {
    "ExecuteTime": {
     "end_time": "2022-03-28T09:25:38.357931Z",
     "start_time": "2022-03-28T09:25:38.092214Z"
    },
    "hide_input": false
   },
   "outputs": [],
   "source": [
    "# definition of the widgets for the position publication\n",
    "xBox = widgets.BoundedFloatText(\n",
    "    value=0.0,\n",
    "    min=-10.00,\n",
    "    max=10.0,\n",
    "    step=1,\n",
    "    description='X:',\n",
    "    disabled=False\n",
    ")\n",
    "yBox = widgets.BoundedFloatText(\n",
    "    value=0.0,\n",
    "    min=-10.0,\n",
    "    max=10.0,\n",
    "    step=1,\n",
    "    description='Y:',\n",
    "    disabled=False\n",
    ")\n",
    "# definition of the buttons\n",
    "bc = widgets.Button(\n",
    "    description='Cancel the goal',\n",
    "    disabled=False,\n",
    "    button_style='',\n",
    "    tootltip='Click me',\n",
    "    icon=''\n",
    ")\n",
    "bt = widgets.Button(\n",
    "    description='PUBLISH!',\n",
    "    disabled=False,\n",
    "    button_style='',\n",
    "    tootltip='Click me',\n",
    "    icon=''\n",
    ")\n",
    "\n",
    "\n",
    "# Buttons for the keyboard drive\n",
    "b_front = widgets.Button(\n",
    "    description='FRONT',\n",
    "    disabled=False,\n",
    "    button_style='',\n",
    "    tootltip='Click me',\n",
    "    icon=''\n",
    ")\n",
    "b_front_r = widgets.Button(\n",
    "    description='FRONT-R',\n",
    "    disabled=False,\n",
    "    button_style='',\n",
    "    tootltip='Click me',\n",
    "    icon=''\n",
    ")\n",
    "b_front_l = widgets.Button(\n",
    "    description='FRONT-L',\n",
    "    disabled=False,\n",
    "    button_style='',\n",
    "    tootltip='Click me',\n",
    "    icon=''\n",
    ")\n",
    "b_stop = widgets.Button(\n",
    "    description='STOP',\n",
    "    disabled=False,\n",
    "    button_style='',\n",
    "    tootltip='Click me',\n",
    "    icon=''\n",
    ")\n",
    "b_turn_l = widgets.Button(\n",
    "    description='TURN-L',\n",
    "    disabled=False,\n",
    "    button_style='',\n",
    "    tootltip='Click me',\n",
    "    icon=''\n",
    ")\n",
    "b_turn_r = widgets.Button(\n",
    "    description='TURN-R',\n",
    "    disabled=False,\n",
    "    button_style='',\n",
    "    tootltip='Click me',\n",
    "    icon=''\n",
    ")\n",
    "b_decrease = widgets.Button(\n",
    "    description='DEC. VEL',\n",
    "    disabled=False,\n",
    "    button_style='',\n",
    "    tootltip='Click me',\n",
    "    icon=''\n",
    ")\n",
    "b_increase = widgets.Button(\n",
    "    description='INC. VEL',\n",
    "    disabled=False,\n",
    "    button_style='',\n",
    "    tootltip='Click me',\n",
    "    icon=''\n",
    ")\n",
    "b_back = widgets.Button(\n",
    "    description='BACK',\n",
    "    disabled=False,\n",
    "    button_style='',\n",
    "    tootltip='Click me',\n",
    "    icon=''\n",
    ")\n",
    "\n",
    "# Definition of the rows to show\n",
    "first_row=widgets.HBox([b_front_l, b_front, b_front_r])\n",
    "second_row=widgets.HBox([b_turn_l, b_stop, b_turn_r])\n",
    "third_row=widgets.HBox([b_back, b_increase, b_decrease])"
   ]
  },
  {
   "cell_type": "code",
   "execution_count": 7,
   "id": "6920a9b3",
   "metadata": {
    "ExecuteTime": {
     "end_time": "2022-03-28T09:25:40.731799Z",
     "start_time": "2022-03-28T09:25:40.647581Z"
    }
   },
   "outputs": [],
   "source": [
    "vLin = 0.5\n",
    "vAng = 1.0\n",
    "vMaxLin = 2.0\n",
    "vMaxAng = 4.0\n",
    "vMinLin = 0.25\n",
    "vMinAng = 0.5"
   ]
  },
  {
   "cell_type": "code",
   "execution_count": 8,
   "id": "eec9d10f",
   "metadata": {
    "ExecuteTime": {
     "end_time": "2022-03-28T09:25:40.793453Z",
     "start_time": "2022-03-28T09:25:40.765495Z"
    }
   },
   "outputs": [],
   "source": [
    "# Functions for the enable buttons\n",
    "def enable_goal():\n",
    "    publication_goal = True\n",
    "    publication_cancel = False\n",
    "    publication_keyboard = False\n",
    "\n",
    "def enable_cancel():\n",
    "    publication_goal = False\n",
    "    publication_cancel = True\n",
    "    publication_keyboard = False\n",
    "\n",
    "def enable_keyboard():\n",
    "    publication_goal = False\n",
    "    publication_cancel = False\n",
    "    publication_keyboard = True"
   ]
  },
  {
   "cell_type": "code",
   "execution_count": 9,
   "id": "245c5577",
   "metadata": {
    "ExecuteTime": {
     "end_time": "2022-03-28T09:25:40.910130Z",
     "start_time": "2022-03-28T09:25:40.812401Z"
    }
   },
   "outputs": [],
   "source": [
    "# Functions for the click button of the keyboard\n",
    "def front_vel(b_front):\n",
    "    global vLin\n",
    "    global pubV\n",
    "    global v\n",
    "    v = Twist()\n",
    "    v.linear.x = vLin\n",
    "    v.angular.z = 0.0\n",
    "    pubV.publish(v)\n",
    "    \n",
    "def front_r_vel(b_front_r):\n",
    "    global vLin\n",
    "    global vAng\n",
    "    global v\n",
    "    v = Twist()\n",
    "    v.linear.x = vLin\n",
    "    v.angular.z = -vAng\n",
    "    pubV.publish(v)\n",
    "    \n",
    "def front_l_vel(b_front_l):\n",
    "    global vLin\n",
    "    global vAng\n",
    "    global v\n",
    "    v = Twist()\n",
    "    v.linear.x = vLin\n",
    "    v.angular.z = vAng\n",
    "    pubV.publish(v)\n",
    "    \n",
    "def turn_r_vel(b_turn_r):\n",
    "    global vAng\n",
    "    global v\n",
    "    v = Twist()\n",
    "    v.linear.x = 0.0\n",
    "    v.angular.z = -vAng\n",
    "    pubV.publish(v)\n",
    "    \n",
    "def turn_l_vel(b_turn_l):\n",
    "    global vAng\n",
    "    global v\n",
    "    v = Twist()\n",
    "    v.linear.x = 0.0\n",
    "    v.angular.z = vAng\n",
    "    pubV.publish(v)\n",
    "    \n",
    "def back_vel(b_back):\n",
    "    global vLin\n",
    "    global v\n",
    "    v = Twist()\n",
    "    v.linear.x = -vLin\n",
    "    v.angular.z = 0.0\n",
    "    pubV.publish(v)\n",
    "    \n",
    "def stop_vel(b_stop):\n",
    "    global v\n",
    "    v = Twist()\n",
    "    v.linear.x = 0.0\n",
    "    v.angular.z = 0.0\n",
    "    pubV.publish(v)\n",
    "    \n",
    "def inc_vel(b_increase):\n",
    "    global vLin\n",
    "    global vAng\n",
    "    global vMaxLin\n",
    "    global vMaxAng\n",
    "    global vMinLin\n",
    "    global vMinAng\n",
    "    global v\n",
    "    v = Twist()\n",
    "    if((vLin <= vMaxLin) and (vAng <= vMaxAng)):\n",
    "        vLin += 0.1*vLin\n",
    "        vAng += 0.1*vAng\n",
    "    else:\n",
    "        vLin = vMaxLin\n",
    "        vAng = vMaxAng\n",
    "        \n",
    "    v.linear.x = Vlin\n",
    "    v.angular.z = Vang\n",
    "    \n",
    "    pubV.publish(v)\n",
    "    \n",
    "def dec_vel(b_decrease):\n",
    "    global vLin\n",
    "    global vAng\n",
    "    global vMaxLin\n",
    "    global vMaxAng\n",
    "    global vMinLin\n",
    "    global vMinAng\n",
    "    global v\n",
    "    v = Twist()\n",
    "    if((vLin >= vMinLin) and (vAng >= vMinAng)):\n",
    "        vLin -= 0.1*vLin\n",
    "        vAng -= 0.1*vAng\n",
    "    else:\n",
    "        vLin = vMinLin\n",
    "        vAng = vMinAng\n",
    "        \n",
    "    v.linear.x = Vlin\n",
    "    v.angular.z = Vang\n",
    "    \n",
    "    pubV.publish(v)"
   ]
  },
  {
   "cell_type": "code",
   "execution_count": 10,
   "id": "3a1d55dc",
   "metadata": {
    "ExecuteTime": {
     "end_time": "2022-03-28T09:25:41.154806Z",
     "start_time": "2022-03-28T09:25:40.980115Z"
    },
    "hide_input": false,
    "scrolled": true
   },
   "outputs": [],
   "source": [
    "# Definition of the function for the button click\n",
    "# Function of the button bt to publish the position\n",
    "def pub_pos(bt):\n",
    "    global g\n",
    "    g = MoveBaseActionGoal()\n",
    "    g.goal.target_pose.header.frame_id = \"map\"\n",
    "    g.goal.target_pose.pose.position.x = xBox.value\n",
    "    g.goal.target_pose.pose.position.y = yBox.value\n",
    "    g.goal.target_pose.pose.orientation.w = 1.0\n",
    "    g.goal_id.id = \"g\"\n",
    "    pub.publish(g)\n",
    "    \n",
    "# Function of the button bc to cancel the goal\n",
    "def bc_observer(bc):\n",
    "    global gCanc\n",
    "    global g\n",
    "    gCanc = GoalID()\n",
    "    if(g.goal_id.id == \"g\"):\n",
    "        gCanc.id = g.goal_id.id\n",
    "        pubC.publish(gCanc)\n",
    "        g.goal_id.id = \"\"\n",
    "        print(\"Goal cancelled successfully\")\n",
    "    else:\n",
    "        print(\"No goal to cancel\")"
   ]
  },
  {
   "cell_type": "markdown",
   "id": "95691946",
   "metadata": {},
   "source": [
    "## Publish a (x,y) position"
   ]
  },
  {
   "cell_type": "code",
   "execution_count": 11,
   "id": "67fc5cce",
   "metadata": {
    "ExecuteTime": {
     "end_time": "2022-03-28T09:25:41.471186Z",
     "start_time": "2022-03-28T09:25:41.226367Z"
    }
   },
   "outputs": [
    {
     "data": {
      "application/vnd.jupyter.widget-view+json": {
       "model_id": "1375484b86014a70b42d47d0f11a156e",
       "version_major": 2,
       "version_minor": 0
      },
      "text/plain": [
       "VBox(children=(BoundedFloatText(value=0.0, description='X:', max=10.0, min=-10.0, step=1.0), BoundedFloatText(…"
      ]
     },
     "metadata": {},
     "output_type": "display_data"
    },
    {
     "data": {
      "application/vnd.jupyter.widget-view+json": {
       "model_id": "dd09dee953774b88a7f40ee303136e1e",
       "version_major": 2,
       "version_minor": 0
      },
      "text/plain": [
       "Button(description='PUBLISH!', style=ButtonStyle())"
      ]
     },
     "metadata": {},
     "output_type": "display_data"
    }
   ],
   "source": [
    "# Code fot the publication with the bt button\n",
    "display(widgets.VBox([xBox, yBox]))\n",
    "display(bt)\n",
    "bt.on_click(pub_pos)"
   ]
  },
  {
   "cell_type": "markdown",
   "id": "4aabbd4a",
   "metadata": {},
   "source": [
    "## Cancel the current goal"
   ]
  },
  {
   "cell_type": "code",
   "execution_count": 12,
   "id": "0c68aae7",
   "metadata": {
    "ExecuteTime": {
     "end_time": "2022-03-28T09:25:41.516173Z",
     "start_time": "2022-03-28T09:25:41.482459Z"
    }
   },
   "outputs": [
    {
     "data": {
      "application/vnd.jupyter.widget-view+json": {
       "model_id": "971965371b214b2ba4dcfef05d6a6325",
       "version_major": 2,
       "version_minor": 0
      },
      "text/plain": [
       "Button(description='Cancel the goal', style=ButtonStyle())"
      ]
     },
     "metadata": {},
     "output_type": "display_data"
    },
    {
     "name": "stdout",
     "output_type": "stream",
     "text": [
      "Goal cancelled successfully\n"
     ]
    }
   ],
   "source": [
    "# Code to cancel the current goal set\n",
    "display(bc)\n",
    "bc.on_click(bc_observer)"
   ]
  },
  {
   "cell_type": "markdown",
   "id": "c44d6f27",
   "metadata": {},
   "source": [
    "## Drive by keyboard"
   ]
  },
  {
   "cell_type": "code",
   "execution_count": 13,
   "id": "47919060",
   "metadata": {
    "ExecuteTime": {
     "end_time": "2022-03-28T09:25:41.707719Z",
     "start_time": "2022-03-28T09:25:41.543068Z"
    },
    "scrolled": true
   },
   "outputs": [
    {
     "data": {
      "application/vnd.jupyter.widget-view+json": {
       "model_id": "680c6682dab24115baeac8d2f7b2dfb1",
       "version_major": 2,
       "version_minor": 0
      },
      "text/plain": [
       "VBox(children=(HBox(children=(Button(description='FRONT-L', style=ButtonStyle()), Button(description='FRONT', …"
      ]
     },
     "metadata": {},
     "output_type": "display_data"
    },
    {
     "ename": "UnboundLocalError",
     "evalue": "local variable 'publication_keyboard' referenced before assignment",
     "output_type": "error",
     "traceback": [
      "\u001b[0;31m---------------------------------------------------------------------------\u001b[0m",
      "\u001b[0;31mUnboundLocalError\u001b[0m                         Traceback (most recent call last)",
      "\u001b[0;32m/tmp/ipykernel_5589/1220930100.py\u001b[0m in \u001b[0;36mfront_vel\u001b[0;34m(b_front)\u001b[0m\n\u001b[1;32m      8\u001b[0m     \u001b[0mv\u001b[0m\u001b[0;34m.\u001b[0m\u001b[0mlinear\u001b[0m\u001b[0;34m.\u001b[0m\u001b[0mx\u001b[0m \u001b[0;34m=\u001b[0m \u001b[0mvLin\u001b[0m\u001b[0;34m\u001b[0m\u001b[0;34m\u001b[0m\u001b[0m\n\u001b[1;32m      9\u001b[0m     \u001b[0mv\u001b[0m\u001b[0;34m.\u001b[0m\u001b[0mangular\u001b[0m\u001b[0;34m.\u001b[0m\u001b[0mz\u001b[0m \u001b[0;34m=\u001b[0m \u001b[0;36m0.0\u001b[0m\u001b[0;34m\u001b[0m\u001b[0;34m\u001b[0m\u001b[0m\n\u001b[0;32m---> 10\u001b[0;31m     \u001b[0;32mif\u001b[0m\u001b[0;34m(\u001b[0m\u001b[0mpublication_keyboard\u001b[0m\u001b[0;34m)\u001b[0m\u001b[0;34m:\u001b[0m\u001b[0;34m\u001b[0m\u001b[0;34m\u001b[0m\u001b[0m\n\u001b[0m\u001b[1;32m     11\u001b[0m         \u001b[0mpubV\u001b[0m\u001b[0;34m.\u001b[0m\u001b[0mpublish\u001b[0m\u001b[0;34m(\u001b[0m\u001b[0mv\u001b[0m\u001b[0;34m)\u001b[0m\u001b[0;34m\u001b[0m\u001b[0;34m\u001b[0m\u001b[0m\n\u001b[1;32m     12\u001b[0m \u001b[0;34m\u001b[0m\u001b[0m\n",
      "\u001b[0;31mUnboundLocalError\u001b[0m: local variable 'publication_keyboard' referenced before assignment"
     ]
    }
   ],
   "source": [
    "# Code to drive the robot by the keyboard use\n",
    "display(widgets.VBox([first_row, second_row, third_row]))\n",
    "\n",
    "b_front.on_click(front_vel)\n",
    "b_front_r.on_click(front_r_vel)\n",
    "b_front_l.on_click(front_l_vel)\n",
    "b_turn_r.on_click(turn_r_vel)\n",
    "b_turn_l.on_click(turn_l_vel)\n",
    "b_back.on_click(back_vel)\n",
    "b_stop.on_click(stop_vel)\n",
    "b_increase.on_click(inc_vel)\n",
    "b_decrease.on_click(dec_vel)"
   ]
  },
  {
   "cell_type": "markdown",
   "id": "b4e8d6f8",
   "metadata": {},
   "source": [
    "## Map"
   ]
  },
  {
   "cell_type": "code",
   "execution_count": 14,
   "id": "df02ca28",
   "metadata": {
    "ExecuteTime": {
     "end_time": "2022-03-28T09:25:42.391936Z",
     "start_time": "2022-03-28T09:25:41.779412Z"
    },
    "hide_input": false,
    "scrolled": true
   },
   "outputs": [
    {
     "data": {
      "application/vnd.jupyter.widget-view+json": {
       "model_id": "e9e0ddf0025243738579297dc8836b54",
       "version_major": 2,
       "version_minor": 0
      },
      "text/plain": [
       "Viewer(objects=[GridModel(), LaserScan(ros=ROSConnection(url='ws://localhost:9090'), tf_client=TFClient(fixed_…"
      ]
     },
     "metadata": {},
     "output_type": "display_data"
    }
   ],
   "source": [
    "# Definition of the elements needed for the map\n",
    "v = ros3d.Viewer()\n",
    "rc = ros3d.ROSConnection(url=\"ws://localhost:9090\") \n",
    "tf_client = ros3d.TFClient(ros=rc, fixed_frame='map')\n",
    "laser_view = ros3d.LaserScan(topic=\"/scan\", ros=rc, tf_client=tf_client) \n",
    "map_view = ros3d.OccupancyGrid(topic=\"/map\", ros=rc, tf_client=tf_client) \n",
    "path = ros3d.Path(topic=\"/move_base/NavfnROS/plan\", ros=rc, tf_client=tf_client)\n",
    "urdf = ros3d.URDFModel(ros=rc, tf_client=tf_client, path=os.environ.get('JUPYROS_ASSETS_URL', 'http://localhost:3000')) \n",
    "g = ros3d.GridModel()\n",
    "v.objects = [g, laser_view, map_view, path, urdf]\n",
    "\n",
    "# Map visualization\n",
    "v"
   ]
  },
  {
   "cell_type": "code",
   "execution_count": null,
   "id": "74c2b1e3",
   "metadata": {},
   "outputs": [],
   "source": []
  }
 ],
 "metadata": {
  "kernelspec": {
   "display_name": "Python 3 (ipykernel)",
   "language": "python",
   "name": "python3"
  },
  "language_info": {
   "codemirror_mode": {
    "name": "ipython",
    "version": 3
   },
   "file_extension": ".py",
   "mimetype": "text/x-python",
   "name": "python",
   "nbconvert_exporter": "python",
   "pygments_lexer": "ipython3",
   "version": "3.8.5"
  }
 },
 "nbformat": 4,
 "nbformat_minor": 5
}

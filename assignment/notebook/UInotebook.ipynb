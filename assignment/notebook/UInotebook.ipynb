{
 "cells": [
  {
   "cell_type": "markdown",
   "id": "4b86663c",
   "metadata": {
    "hide_input": true
   },
   "source": [
    "# UI for RT1_Assignment3"
   ]
  },
  {
   "cell_type": "code",
   "execution_count": 1,
   "id": "f8daa6f5",
   "metadata": {
    "ExecuteTime": {
     "end_time": "2022-04-08T09:57:35.763611Z",
     "start_time": "2022-04-08T09:57:16.798594Z"
    },
    "hide_input": false
   },
   "outputs": [],
   "source": [
    "# import\n",
    "from IPython.display import display\n",
    "from move_base_msgs.msg import MoveBaseActionGoal, MoveBaseGoal, MoveBaseActionFeedback\n",
    "from geometry_msgs.msg import Twist\n",
    "import actionlib\n",
    "from actionlib_msgs.msg import GoalID\n",
    "import rospy\n",
    "import ipywidgets as widgets\n",
    "from ipywidgets import Button, Layout, ButtonStyle, GridBox, VBox, HBox, interact, interactive, fixed, interact_manual\n",
    "from __future__ import print_function\n",
    "from jupyros import ros3d \n",
    "import jupyros as jr\n",
    "import os\n",
    "import matplotlib.pyplot as plt\n",
    "import tf\n",
    "import math\n",
    "from nav_msgs.msg import Odometry\n",
    "from sensor_msgs.msg import LaserScan\n",
    "from tf.transformations import quaternion_matrix \n",
    "import numpy as np\n",
    "from matplotlib.animation import FuncAnimation"
   ]
  },
  {
   "cell_type": "code",
   "execution_count": 2,
   "id": "e47d453e",
   "metadata": {
    "ExecuteTime": {
     "end_time": "2022-04-08T09:57:36.506858Z",
     "start_time": "2022-04-08T09:57:35.766260Z"
    }
   },
   "outputs": [],
   "source": [
    "rospy.init_node('UI_node_jupyter')"
   ]
  },
  {
   "cell_type": "code",
   "execution_count": 3,
   "id": "e44f3558",
   "metadata": {
    "ExecuteTime": {
     "end_time": "2022-04-08T09:57:36.541113Z",
     "start_time": "2022-04-08T09:57:36.509450Z"
    }
   },
   "outputs": [],
   "source": [
    "# Functions for the pub and sub\n",
    "def currGoal(m = MoveBaseActionGoal):\n",
    "    global xG \n",
    "    global yG\n",
    "    \n",
    "    xG = m.goal.target_pose.pose.position.x;\n",
    "    yG = m.goal.target_pose.pose.position.x;\n",
    "    \n",
    "def takeStatus(msg = MoveBaseActionFeedback):\n",
    "    global goal_id\n",
    "    global xG\n",
    "    global yG\n",
    "    global th\n",
    "    global tot_reached\n",
    "    \n",
    "    goal_id = msg.status.goal_id.id;\n",
    "    \n",
    "    if(G):\n",
    "        if(abs(msg.feedback.base_position.pose.position.x - xG) <= th and abs(msg.feedback.base_position.pose.position.y - yG) <= th):\n",
    "            cancelGoal()\n",
    "            tot_reached += 1\n",
    "            tot_notReached -= 1\n",
    "            \n",
    "def cancelGoal():\n",
    "    global goal_id\n",
    "    global G\n",
    "    global tot_notReached\n",
    "    \n",
    "    if(G):\n",
    "        goalToCancel = GoalID()\n",
    "        goalToCancel.id = goal_id\n",
    "        pubC.publish(goalToCancel)\n",
    "        G = False\n",
    "        tot_notReached += 1"
   ]
  },
  {
   "cell_type": "code",
   "execution_count": 4,
   "id": "94e5d11b",
   "metadata": {
    "ExecuteTime": {
     "end_time": "2022-04-08T09:57:36.818838Z",
     "start_time": "2022-04-08T09:57:36.567778Z"
    }
   },
   "outputs": [],
   "source": [
    "# Publishers definition\n",
    "pub = rospy.Publisher(\"/move_base/goal\", MoveBaseActionGoal, queue_size = 1)\n",
    "pubC = rospy.Publisher(\"/move_base/cancel\", GoalID, queue_size = 1)\n",
    "pubV = rospy.Publisher(\"/cmd_vel\", Twist, queue_size = 1)\n",
    "\n",
    "# Subscribers definition\n",
    "subM = rospy.Subscriber(\"/move_base/feedback\", MoveBaseActionFeedback, takeStatus);\n",
    "subG = rospy.Subscriber(\"/move_base/goal\", MoveBaseActionGoal, currGoal)"
   ]
  },
  {
   "cell_type": "code",
   "execution_count": 5,
   "id": "24ce7644",
   "metadata": {
    "ExecuteTime": {
     "end_time": "2022-04-08T09:57:36.945080Z",
     "start_time": "2022-04-08T09:57:36.931676Z"
    },
    "hide_input": false
   },
   "outputs": [],
   "source": [
    "# Variable for the goal and the cancellation\n",
    "g = MoveBaseActionGoal()\n",
    "v = Twist()\n",
    "\n",
    "# Variables for the linear and angular velocity\n",
    "vLin = 0.5\n",
    "vAng = 1.0\n",
    "vMaxLin = 2.0\n",
    "vMaxAng = 4.0\n",
    "vMinLin = 0.25\n",
    "vMinAng = 0.5\n",
    "\n",
    "# Variable to store the number of times a goal is reached or not reached/cancelled\n",
    "tot_reached = 0\n",
    "tot_notReached = 0\n",
    "\n",
    "# Variable to store the number of pression of a button\n",
    "publish_bt = 0\n",
    "cancel_bt = 0\n",
    "enable_bt = 0\n",
    "front_bt = 0\n",
    "frontR_bt = 0\n",
    "frontL_bt = 0\n",
    "turnR_bt = 0\n",
    "turnL_bt = 0\n",
    "stop_bt = 0\n",
    "back_bt = 0\n",
    "incV_bt = 0\n",
    "decV_bt = 0\n",
    "\n",
    "# Bool\n",
    "G = False\n",
    "\n",
    "# Variable for the current goal position\n",
    "xG = 0\n",
    "yG = 0\n",
    "\n",
    "# Threshold for the distance from the goal\n",
    "th = 0.5\n",
    "\n",
    "# variable defining the angle accuracy of the robot laser scan\n",
    "angle_interval = 0.25\n",
    "\n",
    "# Variable for the keyboard use (initialized to False)\n",
    "# Goal publication: mod = False\n",
    "# Keyboard use: mod = True\n",
    "# Goal Cancellation: mod = False\n",
    "mod = False;"
   ]
  },
  {
   "cell_type": "markdown",
   "id": "fc835b8b",
   "metadata": {},
   "source": [
    "## Menù"
   ]
  },
  {
   "cell_type": "markdown",
   "id": "85267963",
   "metadata": {
    "ExecuteTime": {
     "end_time": "2022-03-30T09:31:05.443705Z",
     "start_time": "2022-03-30T09:31:05.409638Z"
    },
    "hide_input": false
   },
   "source": [
    "#### UI widgets"
   ]
  },
  {
   "cell_type": "code",
   "execution_count": 6,
   "id": "3b098076",
   "metadata": {
    "ExecuteTime": {
     "end_time": "2022-04-08T09:57:38.986404Z",
     "start_time": "2022-04-08T09:57:36.953116Z"
    },
    "hide_input": false
   },
   "outputs": [],
   "source": [
    "# definition of the widgets for the position publication\n",
    "xBox = widgets.BoundedFloatText(\n",
    "    value = 0.0,\n",
    "    min = -20.00,\n",
    "    max = 20.0,\n",
    "    step = 1,\n",
    "    description = 'X:',\n",
    "    disabled = False\n",
    ")\n",
    "yBox = widgets.BoundedFloatText(\n",
    "    value = 0.0,\n",
    "    min = -20.00,\n",
    "    max = 20.0,\n",
    "    step = 1,\n",
    "    description = 'Y:',\n",
    "    disabled = False\n",
    ")\n",
    "\n",
    "\n",
    "# definition of the buttons\n",
    "bc = widgets.Button(\n",
    "    description = 'Cancel the goal',\n",
    "    disabled = False,\n",
    "    button_style='danger',\n",
    "    tootltip = 'Click me',\n",
    "    icon = ''\n",
    ")\n",
    "bt = widgets.Button(\n",
    "    description = 'PUBLISH',\n",
    "    disabled = False,\n",
    "    button_style='',\n",
    "    tootltip = 'Click me',\n",
    "    icon = '',\n",
    "    style = ButtonStyle(button_color = 'lightgreen',\n",
    "                        font_weight='bold')\n",
    ")\n",
    "\n",
    "\n",
    "# Buttons for the keyboard drive\n",
    "b_front = widgets.Button(\n",
    "    description = 'FRONT',\n",
    "    disabled = False,\n",
    "    button_style='',\n",
    "    tootltip = 'Click me',\n",
    "    icon = '',\n",
    "    style = ButtonStyle(button_color = 'lightblue',\n",
    "                        font_weight='bold')\n",
    ")\n",
    "b_front_r = widgets.Button(\n",
    "    description = 'FRONT-R',\n",
    "    disabled = False,\n",
    "    button_style='',\n",
    "    tootltip = 'Click me',\n",
    "    icon = '',\n",
    "    style = ButtonStyle(button_color = 'lightblue',\n",
    "                        font_weight='bold')\n",
    ")\n",
    "b_front_l = widgets.Button(\n",
    "    description = 'FRONT-L',\n",
    "    disabled = False,\n",
    "    button_style='',\n",
    "    tootltip = 'Click me',\n",
    "    icon = '',\n",
    "    style = ButtonStyle(button_color = 'lightblue',\n",
    "                        font_weight='bold')\n",
    ")\n",
    "b_stop = widgets.Button(\n",
    "    description = 'STOP',\n",
    "    disabled = False,\n",
    "    button_style='',\n",
    "    tootltip = 'Click me',\n",
    "    icon = '',\n",
    "    style = ButtonStyle(button_color = 'red',\n",
    "                        font_weight='bold')\n",
    ")\n",
    "b_turn_l = widgets.Button(\n",
    "    description = 'TURN-L',\n",
    "    disabled = False,\n",
    "    button_style='',\n",
    "    tootltip = 'Click me',\n",
    "    icon = '',\n",
    "    style = ButtonStyle(button_color = 'lightblue',\n",
    "                        font_weight='bold')\n",
    ")\n",
    "b_turn_r = widgets.Button(\n",
    "    description = 'TURN-R',\n",
    "    disabled = False,\n",
    "    button_style = '',\n",
    "    tootltip = 'Click me',\n",
    "    icon = '',\n",
    "    style = ButtonStyle(button_color = 'lightblue',\n",
    "                        font_weight='bold')\n",
    ")\n",
    "b_decrease = widgets.Button(\n",
    "    description = 'DEC VEL',\n",
    "    disabled = False,\n",
    "    tootltip = 'Click me',\n",
    "    icon = '',\n",
    "    style = ButtonStyle(button_color = 'yellow',\n",
    "                        font_weight='bold')\n",
    ")\n",
    "b_increase = widgets.Button(\n",
    "    description = 'INC VEL',\n",
    "    disabled = False,\n",
    "    button_style = '',\n",
    "    tootltip = 'Click me',\n",
    "    icon = '',\n",
    "    style = ButtonStyle(button_color = 'green',\n",
    "                        font_weight='bold')\n",
    ")\n",
    "b_back = widgets.Button(\n",
    "    description = 'BACK',\n",
    "    disabled = False,\n",
    "    button_style='',\n",
    "    tootltip = 'Click me',\n",
    "    icon = '',\n",
    "    style = ButtonStyle(button_color = 'lightblue',\n",
    "                        font_weight='bold')\n",
    ")\n",
    "\n",
    "\n",
    "# Buttons for the enable\n",
    "en_keyboard = widgets.Button(\n",
    "    description = 'ENABLE MANUAL',\n",
    "    disabled = False,\n",
    "    button_style='warning',\n",
    "    tootltip = 'Click me',\n",
    "    icon = '',\n",
    "    style = ButtonStyle(font_weight='bold')\n",
    ")\n",
    "\n",
    "# Definition of the rows to show\n",
    "first_row = widgets.HBox([b_front_l, b_front, b_front_r])\n",
    "second_row = widgets.HBox([b_turn_l, b_stop, b_turn_r])\n",
    "third_row = widgets.HBox([b_back, b_increase, b_decrease])"
   ]
  },
  {
   "cell_type": "markdown",
   "id": "14f12511",
   "metadata": {
    "ExecuteTime": {
     "end_time": "2022-03-30T09:31:06.948126Z",
     "start_time": "2022-03-30T09:31:06.921943Z"
    },
    "hide_input": false
   },
   "source": [
    "#### Widgets' function"
   ]
  },
  {
   "cell_type": "code",
   "execution_count": 7,
   "id": "245c5577",
   "metadata": {
    "ExecuteTime": {
     "end_time": "2022-04-08T09:57:39.248278Z",
     "start_time": "2022-04-08T09:57:39.017635Z"
    },
    "hide_input": false
   },
   "outputs": [],
   "source": [
    "# Functions for the click button of the keyboard\n",
    "def front_vel(b_front):\n",
    "    global pubV\n",
    "    global vLin\n",
    "    global v\n",
    "    global mod\n",
    "    global front_bt\n",
    "    \n",
    "    front_bt += 1\n",
    "    \n",
    "    if(mod):\n",
    "        v.linear.x = vLin\n",
    "        v.angular.z = 0.0\n",
    "        pubV.publish(v)\n",
    "    \n",
    "def front_r_vel(b_front_r):\n",
    "    global pubV\n",
    "    global vLin\n",
    "    global vAng\n",
    "    global v\n",
    "    global mod\n",
    "    global frontR_bt\n",
    "    \n",
    "    frontR_bt += 1\n",
    "    \n",
    "    if(mod):\n",
    "        v.linear.x = vLin\n",
    "        v.angular.z = -vAng\n",
    "        pubV.publish(v)\n",
    "    \n",
    "def front_l_vel(b_front_l):\n",
    "    global pubV\n",
    "    global vLin\n",
    "    global vAng\n",
    "    global v\n",
    "    global mod\n",
    "    global frontL_bt\n",
    "    \n",
    "    frontL_bt += 1\n",
    "    \n",
    "    if(mod):\n",
    "        v.linear.x = vLin\n",
    "        v.angular.z = vAng\n",
    "        pubV.publish(v)\n",
    "    \n",
    "def turn_r_vel(b_turn_r):\n",
    "    global pubV\n",
    "    global vAng\n",
    "    global v\n",
    "    global mod\n",
    "    global turnR_bt\n",
    "    \n",
    "    turnR_bt += 1\n",
    "    \n",
    "    if(mod):\n",
    "        v.linear.x = 0.0\n",
    "        v.angular.z = -vAng\n",
    "        pubV.publish(v)\n",
    "    \n",
    "def turn_l_vel(b_turn_l):\n",
    "    global pubV\n",
    "    global vAng\n",
    "    global v\n",
    "    global mod\n",
    "    global turnL_bt\n",
    "    \n",
    "    turnL_bt += 1\n",
    "    \n",
    "    if(mod):\n",
    "        v.linear.x = 0.0\n",
    "        v.angular.z = vAng\n",
    "        pubV.publish(v)\n",
    "    \n",
    "def back_vel(b_back):\n",
    "    global pubV\n",
    "    global vLin\n",
    "    global v\n",
    "    global mod\n",
    "    global back_bt\n",
    "    \n",
    "    back_bt += 1\n",
    "    \n",
    "    if(mod):\n",
    "        v.linear.x = -vLin\n",
    "        v.angular.z = 0.0\n",
    "        pubV.publish(v)\n",
    "    \n",
    "def stop_vel(b_stop):\n",
    "    global pubV\n",
    "    global v\n",
    "    global mod\n",
    "    global stop_bt\n",
    "    \n",
    "    stop_bt += 1\n",
    "    \n",
    "    if(mod):\n",
    "        v.linear.x = 0.0\n",
    "        v.angular.z = 0.0\n",
    "        pubV.publish(v)\n",
    "    \n",
    "def inc_vel(b_increase):\n",
    "    global vLin\n",
    "    global vAng\n",
    "    global vMaxLin\n",
    "    global vMaxAng\n",
    "    global vMinLin\n",
    "    global vMinAng\n",
    "    global mod\n",
    "    global incV_bt\n",
    "    \n",
    "    incV_bt += 1\n",
    "    \n",
    "    if(mod):\n",
    "        if((vLin <= vMaxLin) and (vAng <= vMaxAng)):\n",
    "            vLin += 0.1*vLin\n",
    "            vAng += 0.1*vAng\n",
    "        else:\n",
    "            vLin = vMaxLin\n",
    "            vAng = vMaxAng\n",
    "    \n",
    "def dec_vel(b_decrease):\n",
    "    global vLin\n",
    "    global vAng\n",
    "    global vMaxLin\n",
    "    global vMaxAng\n",
    "    global vMinLin\n",
    "    global vMinAng\n",
    "    global mod\n",
    "    global decV_bt\n",
    "    \n",
    "    decV_bt += 1\n",
    "    \n",
    "    if(mod):\n",
    "        if((vLin >= vMinLin) and (vAng >= vMinAng)):\n",
    "            vLin -= 0.1*vLin\n",
    "            vAng -= 0.1*vAng\n",
    "        else:\n",
    "            vLin = vMinLin\n",
    "            vAng = vMinAng\n",
    "    \n",
    "# Definition of the function for the button click\n",
    "# Function for the button bt to publish the position\n",
    "def pub_pos(bt):\n",
    "    global G\n",
    "    global pub\n",
    "    global g\n",
    "    global mod\n",
    "    global v\n",
    "    global pub\n",
    "    global publish_bt\n",
    "    \n",
    "    publish_bt += 1\n",
    "    \n",
    "    if(mod):\n",
    "        mod = False\n",
    "    \n",
    "    # if there is already a goal it will be cancelled\n",
    "    if(G):\n",
    "        cancelGoal()\n",
    "    \n",
    "    g.goal.target_pose.header.frame_id = \"map\"\n",
    "    g.goal.target_pose.pose.position.x = xBox.value\n",
    "    g.goal.target_pose.pose.position.y = yBox.value\n",
    "    g.goal.target_pose.pose.orientation.w = 1.0\n",
    "    pub.publish(g)\n",
    "    G = True\n",
    "    \n",
    "# Function for the button bc to cancel the goal\n",
    "def bc_observer(bc):\n",
    "    global mod\n",
    "    global cancel_bt\n",
    "    \n",
    "    cancel_bt += 1\n",
    "    \n",
    "    mod = False\n",
    "    cancelGoal()\n",
    "\n",
    "# Function for the button en_keybord\n",
    "def key_fun(en_keyboard):\n",
    "    global mod\n",
    "    global enable_bt\n",
    "    \n",
    "    enable_bt += 1\n",
    "    \n",
    "    mod = True\n",
    "    cancelGoal()"
   ]
  },
  {
   "cell_type": "markdown",
   "id": "16efe8d5",
   "metadata": {
    "hide_input": true
   },
   "source": [
    "## Publish a (x,y) position"
   ]
  },
  {
   "cell_type": "code",
   "execution_count": 8,
   "id": "2bc38796",
   "metadata": {
    "ExecuteTime": {
     "end_time": "2022-04-08T09:57:39.388464Z",
     "start_time": "2022-04-08T09:57:39.272252Z"
    },
    "hide_input": false,
    "scrolled": true
   },
   "outputs": [
    {
     "data": {
      "application/vnd.jupyter.widget-view+json": {
       "model_id": "0ffcc7a7a0fc4be783979a4741dde320",
       "version_major": 2,
       "version_minor": 0
      },
      "text/plain": [
       "VBox(children=(BoundedFloatText(value=0.0, description='X:', max=20.0, min=-20.0, step=1.0), BoundedFloatText(…"
      ]
     },
     "metadata": {},
     "output_type": "display_data"
    },
    {
     "data": {
      "application/vnd.jupyter.widget-view+json": {
       "model_id": "41b75be691e74e20a6a781db3e3fe725",
       "version_major": 2,
       "version_minor": 0
      },
      "text/plain": [
       "Button(description='PUBLISH', style=ButtonStyle(button_color='lightgreen', font_weight='bold'))"
      ]
     },
     "metadata": {},
     "output_type": "display_data"
    }
   ],
   "source": [
    "# Code fot the publication with the bt button\n",
    "display(widgets.VBox([xBox, yBox]))\n",
    "display(bt)\n",
    "\n",
    "bt.on_click(pub_pos)"
   ]
  },
  {
   "cell_type": "markdown",
   "id": "3e2b51b4",
   "metadata": {
    "hide_input": true
   },
   "source": [
    "## Cancel the current goal"
   ]
  },
  {
   "cell_type": "code",
   "execution_count": 9,
   "id": "1e04d55a",
   "metadata": {
    "ExecuteTime": {
     "end_time": "2022-04-08T09:57:39.508657Z",
     "start_time": "2022-04-08T09:57:39.396185Z"
    },
    "hide_input": false
   },
   "outputs": [
    {
     "data": {
      "application/vnd.jupyter.widget-view+json": {
       "model_id": "15046611289749e4a754917c41072a31",
       "version_major": 2,
       "version_minor": 0
      },
      "text/plain": [
       "Button(button_style='danger', description='Cancel the goal', style=ButtonStyle())"
      ]
     },
     "metadata": {},
     "output_type": "display_data"
    }
   ],
   "source": [
    "# Code to cancel the current goal set\n",
    "display(bc)\n",
    "\n",
    "bc.on_click(bc_observer)"
   ]
  },
  {
   "cell_type": "markdown",
   "id": "cc06b25d",
   "metadata": {},
   "source": [
    "## Drive by keyboard"
   ]
  },
  {
   "cell_type": "markdown",
   "id": "e853a28f",
   "metadata": {
    "ExecuteTime": {
     "end_time": "2022-04-03T09:03:51.622496Z",
     "start_time": "2022-04-03T09:03:51.594961Z"
    }
   },
   "source": [
    "### In order to use the keyboard below, you first need to enable it by clicking the button.\n",
    "#### To increment or decrement the velocity click the button and then press a command to make the differences visible"
   ]
  },
  {
   "cell_type": "code",
   "execution_count": 10,
   "id": "afdafd28",
   "metadata": {
    "ExecuteTime": {
     "end_time": "2022-04-08T09:57:39.857120Z",
     "start_time": "2022-04-08T09:57:39.541347Z"
    },
    "hide_input": false,
    "scrolled": true
   },
   "outputs": [
    {
     "data": {
      "application/vnd.jupyter.widget-view+json": {
       "model_id": "99b3e8cc480e4a16802bf0f3ea8e3db0",
       "version_major": 2,
       "version_minor": 0
      },
      "text/plain": [
       "Button(button_style='warning', description='ENABLE MANUAL', style=ButtonStyle(font_weight='bold'))"
      ]
     },
     "metadata": {},
     "output_type": "display_data"
    },
    {
     "data": {
      "application/vnd.jupyter.widget-view+json": {
       "model_id": "e34bd23185f7443190bde68d768e29fe",
       "version_major": 2,
       "version_minor": 0
      },
      "text/plain": [
       "VBox(children=(HBox(children=(Button(description='FRONT-L', style=ButtonStyle(button_color='lightblue', font_w…"
      ]
     },
     "metadata": {},
     "output_type": "display_data"
    }
   ],
   "source": [
    "# Button to enable the keyboard use\n",
    "display(en_keyboard)\n",
    "\n",
    "en_keyboard.on_click(key_fun)\n",
    "\n",
    "# Code to drive the robot by the keyboard use\n",
    "display(widgets.VBox([first_row, second_row, third_row]))\n",
    "\n",
    "b_front.on_click(front_vel)\n",
    "b_front_r.on_click(front_r_vel)\n",
    "b_front_l.on_click(front_l_vel)\n",
    "b_turn_r.on_click(turn_r_vel)\n",
    "b_turn_l.on_click(turn_l_vel)\n",
    "b_back.on_click(back_vel)\n",
    "b_stop.on_click(stop_vel)\n",
    "b_increase.on_click(inc_vel)\n",
    "b_decrease.on_click(dec_vel)"
   ]
  },
  {
   "cell_type": "markdown",
   "id": "b4e8d6f8",
   "metadata": {},
   "source": [
    "## Map"
   ]
  },
  {
   "cell_type": "code",
   "execution_count": 11,
   "id": "df02ca28",
   "metadata": {
    "ExecuteTime": {
     "end_time": "2022-04-08T09:57:40.365233Z",
     "start_time": "2022-04-08T09:57:39.877748Z"
    },
    "hide_input": false,
    "scrolled": true
   },
   "outputs": [
    {
     "data": {
      "application/vnd.jupyter.widget-view+json": {
       "model_id": "d1181967fb784c869baa9b5d8a2bc0b9",
       "version_major": 2,
       "version_minor": 0
      },
      "text/plain": [
       "Viewer(objects=[GridModel(), LaserScan(ros=ROSConnection(url='ws://localhost:9090'), tf_client=TFClient(fixed_…"
      ]
     },
     "metadata": {},
     "output_type": "display_data"
    }
   ],
   "source": [
    "# Definition of the elements needed for the map\n",
    "view = ros3d.Viewer()\n",
    "rc = ros3d.ROSConnection(url = \"ws://localhost:9090\") \n",
    "tf_client = ros3d.TFClient(ros = rc, fixed_frame = 'map')\n",
    "laser_view = ros3d.LaserScan(topic = \"/scan\", ros = rc, tf_client = tf_client) \n",
    "map_view = ros3d.OccupancyGrid(topic = \"/map\", ros = rc, tf_client = tf_client) \n",
    "path = ros3d.Path(topic = \"/move_base/NavfnROS/plan\", ros = rc, tf_client = tf_client)\n",
    "urdf = ros3d.URDFModel(ros = rc, tf_client = tf_client, path = os.environ.get('JUPYROS_ASSETS_URL', 'http://localhost:3000')) \n",
    "grid = ros3d.GridModel()\n",
    "view.objects = [grid, laser_view, map_view, path, urdf]\n",
    "\n",
    "# Map visualization\n",
    "view"
   ]
  },
  {
   "cell_type": "markdown",
   "id": "2152cb9d",
   "metadata": {},
   "source": [
    "## Histogram chart to store the amount of goal reached and not reached or cancelled"
   ]
  },
  {
   "cell_type": "code",
   "execution_count": 12,
   "id": "6d50c081",
   "metadata": {
    "ExecuteTime": {
     "end_time": "2022-04-08T09:57:41.196823Z",
     "start_time": "2022-04-08T09:57:40.424842Z"
    },
    "scrolled": true
   },
   "outputs": [
    {
     "data": {
      "application/vnd.jupyter.widget-view+json": {
       "model_id": "d611cc4391d142edaa98d33aa49d552d",
       "version_major": 2,
       "version_minor": 0
      },
      "text/plain": [
       "Canvas(toolbar=Toolbar(toolitems=[('Home', 'Reset original view', 'home', 'home'), ('Back', 'Back to previous …"
      ]
     },
     "metadata": {},
     "output_type": "display_data"
    }
   ],
   "source": [
    "%matplotlib widget\n",
    "\n",
    "class HistVisualiser:\n",
    "    def __init__(self):\n",
    "        self.fig, self.ax = plt.subplots() \n",
    "        self.ln, = plt.plot([], [], 'ro')\n",
    "        \n",
    "    def hist_init(self):\n",
    "        return self.ln\n",
    "    \n",
    "    def hist_callback(self, msg):\n",
    "        global tot_reached\n",
    "        global tot_notReached\n",
    "        \n",
    "        index = np.arange(1);\n",
    "        eConf = {'ecolor': '0.3'}\n",
    "        num_reached = (tot_reached); std_reached = (0) \n",
    "        num_notReached = (tot_notReached); std_notReached = (0)\n",
    "        plt.bar(index, num_reached, align = 'edge', width = 0.4, alpha = 1, color = 'g', yerr = std_reached, error_kw = eConf, label = 'Goal Reached') \n",
    "        plt.bar(index+0.5, num_notReached, align = 'edge', width = 0.4, alpha = 1, color = 'r', yerr = std_notReached, error_kw = eConf, label = 'Goal Not Reached/Cancelled')\n",
    "        plt.title('Goal reached vs not reached/cancelled')\n",
    "        \n",
    "    def update_hist(self, frame):  \n",
    "        return self.ln\n",
    "    \n",
    "visH = HistVisualiser()\n",
    "# Used a subscription to the /odom topic to have the possibility to spin the program automatically\n",
    "subH = rospy.Subscriber('/odom', Odometry, visH.hist_callback)\n",
    "aniH = FuncAnimation(visH.fig, visH.update_hist, init_func = visH.hist_init)\n",
    "plt.show(block = True)"
   ]
  },
  {
   "cell_type": "markdown",
   "id": "91876c83",
   "metadata": {},
   "source": [
    "## Path trajectory followed by the robot"
   ]
  },
  {
   "cell_type": "code",
   "execution_count": 13,
   "id": "b2c561c6",
   "metadata": {
    "ExecuteTime": {
     "end_time": "2022-04-08T09:57:42.308791Z",
     "start_time": "2022-04-08T09:57:41.341631Z"
    }
   },
   "outputs": [
    {
     "data": {
      "application/vnd.jupyter.widget-view+json": {
       "model_id": "aa4701e7ba4f491d9d82b294135b13f7",
       "version_major": 2,
       "version_minor": 0
      },
      "text/plain": [
       "Canvas(toolbar=Toolbar(toolitems=[('Home', 'Reset original view', 'home', 'home'), ('Back', 'Back to previous …"
      ]
     },
     "metadata": {},
     "output_type": "display_data"
    }
   ],
   "source": [
    "%matplotlib widget\n",
    "\n",
    "class Visualiser:\n",
    "    def __init__(self):\n",
    "        self.fig, self.ax = plt.subplots() \n",
    "        self.ln, = plt.plot([], [], 'ro') \n",
    "        self.x_data, self.y_data = [] , []\n",
    "        \n",
    "    def plot_init(self): \n",
    "        self.ax.set_xlim(-10, 10) \n",
    "        self.ax.set_ylim(-10, 10) \n",
    "        return self.ln\n",
    "    \n",
    "    def odom_callback(self, msg): \n",
    "        self.y_data.append(msg.pose.pose.position.y) \n",
    "        self.x_data.append(msg.pose.pose.position.x)\n",
    "        \n",
    "    def update_plot(self, frame): \n",
    "        self.ln.set_data(self.x_data, self.y_data) \n",
    "        return self.ln\n",
    "    \n",
    "vis = Visualiser()\n",
    "subO = rospy.Subscriber('/odom', Odometry, vis.odom_callback)\n",
    "ani = FuncAnimation(vis.fig, vis.update_plot, init_func = vis.plot_init) \n",
    "plt.show(block = True)"
   ]
  },
  {
   "cell_type": "markdown",
   "id": "c5f7984d",
   "metadata": {},
   "source": [
    "## Laser scan in the robot frame"
   ]
  },
  {
   "cell_type": "code",
   "execution_count": 14,
   "id": "17653be5",
   "metadata": {
    "ExecuteTime": {
     "end_time": "2022-04-08T09:57:43.230249Z",
     "start_time": "2022-04-08T09:57:42.314559Z"
    }
   },
   "outputs": [
    {
     "data": {
      "application/vnd.jupyter.widget-view+json": {
       "model_id": "c0b2dd252d6346b8a51f859054e4ec04",
       "version_major": 2,
       "version_minor": 0
      },
      "text/plain": [
       "Canvas(toolbar=Toolbar(toolitems=[('Home', 'Reset original view', 'home', 'home'), ('Back', 'Back to previous …"
      ]
     },
     "metadata": {},
     "output_type": "display_data"
    },
    {
     "data": {
      "application/vnd.jupyter.widget-view+json": {
       "model_id": "37ccd46579ca4b0d910eef436de34be4",
       "version_major": 2,
       "version_minor": 0
      },
      "text/plain": [
       "Canvas(toolbar=Toolbar(toolitems=[('Home', 'Reset original view', 'home', 'home'), ('Back', 'Back to previous …"
      ]
     },
     "metadata": {},
     "output_type": "display_data"
    }
   ],
   "source": [
    "%matplotlib widget\n",
    "\n",
    "class LaserVisualiser:\n",
    "    \n",
    "    global angle_interval\n",
    "    \n",
    "    def __init__(self):\n",
    "        self.fig, self.ax = plt.subplots() \n",
    "        self.ln, = plt.plot([], [], 'r-') \n",
    "        self.x_data, self.y_data = [] , []\n",
    "    \n",
    "    def laser_init(self): \n",
    "        self.ax.set_xlim(-360, 360) \n",
    "        self.ax.set_ylim(0, 15) \n",
    "        return self.ln\n",
    "    \n",
    "    def laser_callback(self, msg):\n",
    "        rng = LaserScan()\n",
    "        rng = msg.ranges\n",
    "        \n",
    "        for sns in range(-360,360,1):\n",
    "            intensity = rng(sns)\n",
    "            theta = (90 - angle_interval * abs(sns)) * 2 * math.pi/360\n",
    "            if(sns < 0):\n",
    "                x_datum = intensity * math.cos(theta)\n",
    "            \n",
    "            elif(sns > 0):\n",
    "                x_datum = - intensity * math.cos(theta)\n",
    "                \n",
    "            y_datum = intensity * math.sin(theta)\n",
    "            \n",
    "        self.x_data.append(x_datum)\n",
    "        self.y_data.append(y_datum)\n",
    "    \n",
    "    def update_laserPlot(self, frame): \n",
    "        self.ln.set_data(self.x_data, self.y_data) \n",
    "        return self.ln\n",
    "    \n",
    "visL = LaserVisualiser()\n",
    "subL = rospy.Subscriber('/scan', LaserScan, visL.laser_callback)\n",
    "aniL = FuncAnimation(visL.fig, visL.update_laserPlot, init_func = visL.laser_init) \n",
    "plt.show(block = True)"
   ]
  },
  {
   "cell_type": "code",
   "execution_count": null,
   "id": "a77d2e7d",
   "metadata": {},
   "outputs": [],
   "source": []
  }
 ],
 "metadata": {
  "kernelspec": {
   "display_name": "Python 3 (ipykernel)",
   "language": "python",
   "name": "python3"
  },
  "language_info": {
   "codemirror_mode": {
    "name": "ipython",
    "version": 3
   },
   "file_extension": ".py",
   "mimetype": "text/x-python",
   "name": "python",
   "nbconvert_exporter": "python",
   "pygments_lexer": "ipython3",
   "version": "3.8.5"
  }
 },
 "nbformat": 4,
 "nbformat_minor": 5
}

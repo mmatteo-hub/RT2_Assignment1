{
 "cells": [
  {
   "cell_type": "markdown",
   "id": "4b86663c",
   "metadata": {
    "hide_input": true
   },
   "source": [
    "# UI for RT1_Assignment3"
   ]
  },
  {
   "cell_type": "code",
   "execution_count": 1,
   "id": "f8daa6f5",
   "metadata": {
    "ExecuteTime": {
     "end_time": "2022-04-09T15:20:43.680979Z",
     "start_time": "2022-04-09T15:20:23.364557Z"
    },
    "hide_input": false
   },
   "outputs": [],
   "source": [
    "# import\n",
    "from IPython.display import display\n",
    "from move_base_msgs.msg import MoveBaseActionGoal, MoveBaseGoal, MoveBaseActionFeedback\n",
    "from geometry_msgs.msg import Twist\n",
    "import actionlib\n",
    "from actionlib_msgs.msg import GoalID\n",
    "import rospy\n",
    "import ipywidgets as widgets\n",
    "from ipywidgets import Button, Layout, ButtonStyle, GridBox, VBox, HBox, interact, interactive, fixed, interact_manual\n",
    "from __future__ import print_function\n",
    "from jupyros import ros3d \n",
    "import jupyros as jr\n",
    "import os\n",
    "import matplotlib.pyplot as plt\n",
    "import tf\n",
    "import math\n",
    "from nav_msgs.msg import Odometry\n",
    "from rosgraph_msgs.msg import Clock\n",
    "from sensor_msgs.msg import LaserScan\n",
    "from tf.transformations import quaternion_matrix \n",
    "import numpy as np\n",
    "from matplotlib.animation import FuncAnimation"
   ]
  },
  {
   "cell_type": "code",
   "execution_count": 2,
   "id": "e47d453e",
   "metadata": {
    "ExecuteTime": {
     "end_time": "2022-04-09T15:20:44.720489Z",
     "start_time": "2022-04-09T15:20:43.701176Z"
    }
   },
   "outputs": [],
   "source": [
    "rospy.init_node('UI_node_jupyter')"
   ]
  },
  {
   "cell_type": "code",
   "execution_count": 3,
   "id": "e44f3558",
   "metadata": {
    "ExecuteTime": {
     "end_time": "2022-04-09T15:20:44.866087Z",
     "start_time": "2022-04-09T15:20:44.801456Z"
    }
   },
   "outputs": [],
   "source": [
    "# Functions for the pub and sub\n",
    "def currGoal(m = MoveBaseActionGoal):\n",
    "    global xG \n",
    "    global yG\n",
    "    \n",
    "    xG = m.goal.target_pose.pose.position.x;\n",
    "    yG = m.goal.target_pose.pose.position.x;\n",
    "    \n",
    "def takeStatus(msg = MoveBaseActionFeedback):\n",
    "    global goal_id\n",
    "    global xG\n",
    "    global yG\n",
    "    global th\n",
    "    global tot_reached\n",
    "    \n",
    "    goal_id = msg.status.goal_id.id;\n",
    "    \n",
    "    if(G):\n",
    "        if(abs(msg.feedback.base_position.pose.position.x - xG) <= th and abs(msg.feedback.base_position.pose.position.y - yG) <= th):\n",
    "            cancelGoal(True)\n",
    "            tot_reached += 1\n",
    "            \n",
    "def cancelGoal(reached):\n",
    "    global goal_id\n",
    "    global G\n",
    "    global tot_notReached\n",
    "    \n",
    "    if(G):\n",
    "        goalToCancel = GoalID()\n",
    "        goalToCancel.id = goal_id\n",
    "        pubC.publish(goalToCancel)\n",
    "        G = False\n",
    "        if(not(reached)): # goal not reached\n",
    "            tot_notReached += 1"
   ]
  },
  {
   "cell_type": "code",
   "execution_count": 4,
   "id": "94e5d11b",
   "metadata": {
    "ExecuteTime": {
     "end_time": "2022-04-09T15:20:45.058474Z",
     "start_time": "2022-04-09T15:20:44.896989Z"
    }
   },
   "outputs": [],
   "source": [
    "# Publishers definition\n",
    "pub = rospy.Publisher(\"/move_base/goal\", MoveBaseActionGoal, queue_size = 1)\n",
    "pubC = rospy.Publisher(\"/move_base/cancel\", GoalID, queue_size = 1)\n",
    "pubV = rospy.Publisher(\"/cmd_vel\", Twist, queue_size = 1)\n",
    "\n",
    "# Subscribers definition\n",
    "subM = rospy.Subscriber(\"/move_base/feedback\", MoveBaseActionFeedback, takeStatus);\n",
    "subG = rospy.Subscriber(\"/move_base/goal\", MoveBaseActionGoal, currGoal)"
   ]
  },
  {
   "cell_type": "code",
   "execution_count": 5,
   "id": "24ce7644",
   "metadata": {
    "ExecuteTime": {
     "end_time": "2022-04-09T15:20:45.386361Z",
     "start_time": "2022-04-09T15:20:45.125490Z"
    },
    "hide_input": false
   },
   "outputs": [],
   "source": [
    "# Variable for the goal and the cancellation\n",
    "g = MoveBaseActionGoal()\n",
    "v = Twist()\n",
    "\n",
    "# Variables for the linear and angular velocity\n",
    "vLin = 0.5\n",
    "vAng = 1.0\n",
    "vMaxLin = 2.0\n",
    "vMaxAng = 4.0\n",
    "vMinLin = 0.25\n",
    "vMinAng = 0.5\n",
    "\n",
    "# Variable to store the number of times a goal is reached or not reached/cancelled\n",
    "tot_reached = 0\n",
    "tot_notReached = 0\n",
    "\n",
    "# Variable to store the number of pression of a button\n",
    "publish_bt = 0\n",
    "cancel_bt = 0\n",
    "enable_bt = 0\n",
    "front_bt = 0\n",
    "frontR_bt = 0\n",
    "frontL_bt = 0\n",
    "turnR_bt = 0\n",
    "turnL_bt = 0\n",
    "stop_bt = 0\n",
    "back_bt = 0\n",
    "incV_bt = 0\n",
    "decV_bt = 0\n",
    "\n",
    "# Bool\n",
    "G = False\n",
    "\n",
    "# Variable for the current goal position\n",
    "xG = 0\n",
    "yG = 0\n",
    "\n",
    "# Threshold for the distance from the goal\n",
    "th = 0.5\n",
    "\n",
    "# variable defining the angle accuracy of the robot laser scan\n",
    "angle_interval = 0.25\n",
    "\n",
    "# Variable for the keyboard use (initialized to False)\n",
    "# Goal publication: mod = False\n",
    "# Keyboard use: mod = True\n",
    "# Goal Cancellation: mod = False\n",
    "mod = False;"
   ]
  },
  {
   "cell_type": "markdown",
   "id": "fc835b8b",
   "metadata": {},
   "source": [
    "## Menù"
   ]
  },
  {
   "cell_type": "markdown",
   "id": "85267963",
   "metadata": {
    "ExecuteTime": {
     "end_time": "2022-03-30T09:31:05.443705Z",
     "start_time": "2022-03-30T09:31:05.409638Z"
    },
    "hide_input": false
   },
   "source": [
    "#### UI widgets"
   ]
  },
  {
   "cell_type": "code",
   "execution_count": 6,
   "id": "3b098076",
   "metadata": {
    "ExecuteTime": {
     "end_time": "2022-04-09T15:20:47.833957Z",
     "start_time": "2022-04-09T15:20:45.401364Z"
    },
    "hide_input": false
   },
   "outputs": [],
   "source": [
    "# definition of the widgets for the position publication\n",
    "xBox = widgets.BoundedFloatText(\n",
    "    value = 0.0,\n",
    "    min = -20.00,\n",
    "    max = 20.0,\n",
    "    step = 1,\n",
    "    description = 'X:',\n",
    "    disabled = False\n",
    ")\n",
    "yBox = widgets.BoundedFloatText(\n",
    "    value = 0.0,\n",
    "    min = -20.00,\n",
    "    max = 20.0,\n",
    "    step = 1,\n",
    "    description = 'Y:',\n",
    "    disabled = False\n",
    ")\n",
    "\n",
    "\n",
    "# definition of the buttons\n",
    "bc = widgets.Button(\n",
    "    description = 'Cancel the goal',\n",
    "    disabled = False,\n",
    "    button_style='danger',\n",
    "    tootltip = 'Click me',\n",
    "    icon = ''\n",
    ")\n",
    "bt = widgets.Button(\n",
    "    description = 'PUBLISH',\n",
    "    disabled = False,\n",
    "    button_style='',\n",
    "    tootltip = 'Click me',\n",
    "    icon = '',\n",
    "    style = ButtonStyle(button_color = 'lightgreen',\n",
    "                        font_weight='bold')\n",
    ")\n",
    "\n",
    "\n",
    "# Buttons for the keyboard drive\n",
    "b_front = widgets.Button(\n",
    "    description = 'FRONT',\n",
    "    disabled = False,\n",
    "    button_style='',\n",
    "    tootltip = 'Click me',\n",
    "    icon = '',\n",
    "    style = ButtonStyle(button_color = 'lightblue',\n",
    "                        font_weight='bold')\n",
    ")\n",
    "b_front_r = widgets.Button(\n",
    "    description = 'FRONT-R',\n",
    "    disabled = False,\n",
    "    button_style='',\n",
    "    tootltip = 'Click me',\n",
    "    icon = '',\n",
    "    style = ButtonStyle(button_color = 'lightblue',\n",
    "                        font_weight='bold')\n",
    ")\n",
    "b_front_l = widgets.Button(\n",
    "    description = 'FRONT-L',\n",
    "    disabled = False,\n",
    "    button_style='',\n",
    "    tootltip = 'Click me',\n",
    "    icon = '',\n",
    "    style = ButtonStyle(button_color = 'lightblue',\n",
    "                        font_weight='bold')\n",
    ")\n",
    "b_stop = widgets.Button(\n",
    "    description = 'STOP',\n",
    "    disabled = False,\n",
    "    button_style='',\n",
    "    tootltip = 'Click me',\n",
    "    icon = '',\n",
    "    style = ButtonStyle(button_color = 'red',\n",
    "                        font_weight='bold')\n",
    ")\n",
    "b_turn_l = widgets.Button(\n",
    "    description = 'TURN-L',\n",
    "    disabled = False,\n",
    "    button_style='',\n",
    "    tootltip = 'Click me',\n",
    "    icon = '',\n",
    "    style = ButtonStyle(button_color = 'lightblue',\n",
    "                        font_weight='bold')\n",
    ")\n",
    "b_turn_r = widgets.Button(\n",
    "    description = 'TURN-R',\n",
    "    disabled = False,\n",
    "    button_style = '',\n",
    "    tootltip = 'Click me',\n",
    "    icon = '',\n",
    "    style = ButtonStyle(button_color = 'lightblue',\n",
    "                        font_weight='bold')\n",
    ")\n",
    "b_decrease = widgets.Button(\n",
    "    description = 'DEC VEL',\n",
    "    disabled = False,\n",
    "    tootltip = 'Click me',\n",
    "    icon = '',\n",
    "    style = ButtonStyle(button_color = 'yellow',\n",
    "                        font_weight='bold')\n",
    ")\n",
    "b_increase = widgets.Button(\n",
    "    description = 'INC VEL',\n",
    "    disabled = False,\n",
    "    button_style = '',\n",
    "    tootltip = 'Click me',\n",
    "    icon = '',\n",
    "    style = ButtonStyle(button_color = 'green',\n",
    "                        font_weight='bold')\n",
    ")\n",
    "b_back = widgets.Button(\n",
    "    description = 'BACK',\n",
    "    disabled = False,\n",
    "    button_style='',\n",
    "    tootltip = 'Click me',\n",
    "    icon = '',\n",
    "    style = ButtonStyle(button_color = 'lightblue',\n",
    "                        font_weight='bold')\n",
    ")\n",
    "\n",
    "\n",
    "# Buttons for the enable\n",
    "en_keyboard = widgets.Button(\n",
    "    description = 'ENABLE MANUAL',\n",
    "    disabled = False,\n",
    "    button_style='warning',\n",
    "    tootltip = 'Click me',\n",
    "    icon = '',\n",
    "    style = ButtonStyle(font_weight='bold')\n",
    ")\n",
    "\n",
    "# Definition of the rows to show\n",
    "first_row = widgets.HBox([b_front_l, b_front, b_front_r])\n",
    "second_row = widgets.HBox([b_turn_l, b_stop, b_turn_r])\n",
    "third_row = widgets.HBox([b_back, b_increase, b_decrease])"
   ]
  },
  {
   "cell_type": "markdown",
   "id": "14f12511",
   "metadata": {
    "ExecuteTime": {
     "end_time": "2022-03-30T09:31:06.948126Z",
     "start_time": "2022-03-30T09:31:06.921943Z"
    },
    "hide_input": false
   },
   "source": [
    "#### Widgets' function"
   ]
  },
  {
   "cell_type": "code",
   "execution_count": 7,
   "id": "245c5577",
   "metadata": {
    "ExecuteTime": {
     "end_time": "2022-04-09T15:20:48.271892Z",
     "start_time": "2022-04-09T15:20:47.898271Z"
    },
    "hide_input": false
   },
   "outputs": [],
   "source": [
    "# Functions for the click button of the keyboard\n",
    "def front_vel(b_front):\n",
    "    global pubV\n",
    "    global vLin\n",
    "    global v\n",
    "    global mod\n",
    "    global front_bt\n",
    "    \n",
    "    front_bt += 1\n",
    "    \n",
    "    if(mod):\n",
    "        v.linear.x = vLin\n",
    "        v.angular.z = 0.0\n",
    "        pubV.publish(v)\n",
    "    \n",
    "def front_r_vel(b_front_r):\n",
    "    global pubV\n",
    "    global vLin\n",
    "    global vAng\n",
    "    global v\n",
    "    global mod\n",
    "    global frontR_bt\n",
    "    \n",
    "    frontR_bt += 1\n",
    "    \n",
    "    if(mod):\n",
    "        v.linear.x = vLin\n",
    "        v.angular.z = -vAng\n",
    "        pubV.publish(v)\n",
    "    \n",
    "def front_l_vel(b_front_l):\n",
    "    global pubV\n",
    "    global vLin\n",
    "    global vAng\n",
    "    global v\n",
    "    global mod\n",
    "    global frontL_bt\n",
    "    \n",
    "    frontL_bt += 1\n",
    "    \n",
    "    if(mod):\n",
    "        v.linear.x = vLin\n",
    "        v.angular.z = vAng\n",
    "        pubV.publish(v)\n",
    "    \n",
    "def turn_r_vel(b_turn_r):\n",
    "    global pubV\n",
    "    global vAng\n",
    "    global v\n",
    "    global mod\n",
    "    global turnR_bt\n",
    "    \n",
    "    turnR_bt += 1\n",
    "    \n",
    "    if(mod):\n",
    "        v.linear.x = 0.0\n",
    "        v.angular.z = -vAng\n",
    "        pubV.publish(v)\n",
    "    \n",
    "def turn_l_vel(b_turn_l):\n",
    "    global pubV\n",
    "    global vAng\n",
    "    global v\n",
    "    global mod\n",
    "    global turnL_bt\n",
    "    \n",
    "    turnL_bt += 1\n",
    "    \n",
    "    if(mod):\n",
    "        v.linear.x = 0.0\n",
    "        v.angular.z = vAng\n",
    "        pubV.publish(v)\n",
    "    \n",
    "def back_vel(b_back):\n",
    "    global pubV\n",
    "    global vLin\n",
    "    global v\n",
    "    global mod\n",
    "    global back_bt\n",
    "    \n",
    "    back_bt += 1\n",
    "    \n",
    "    if(mod):\n",
    "        v.linear.x = -vLin\n",
    "        v.angular.z = 0.0\n",
    "        pubV.publish(v)\n",
    "    \n",
    "def stop_vel(b_stop):\n",
    "    global pubV\n",
    "    global v\n",
    "    global mod\n",
    "    global stop_bt\n",
    "    \n",
    "    stop_bt += 1\n",
    "    \n",
    "    if(mod):\n",
    "        v.linear.x = 0.0\n",
    "        v.angular.z = 0.0\n",
    "        pubV.publish(v)\n",
    "    \n",
    "def inc_vel(b_increase):\n",
    "    global vLin\n",
    "    global vAng\n",
    "    global vMaxLin\n",
    "    global vMaxAng\n",
    "    global vMinLin\n",
    "    global vMinAng\n",
    "    global mod\n",
    "    global incV_bt\n",
    "    \n",
    "    incV_bt += 1\n",
    "    \n",
    "    if(mod):\n",
    "        if((vLin <= vMaxLin) and (vAng <= vMaxAng)):\n",
    "            vLin += 0.1*vLin\n",
    "            vAng += 0.1*vAng\n",
    "        else:\n",
    "            vLin = vMaxLin\n",
    "            vAng = vMaxAng\n",
    "    \n",
    "def dec_vel(b_decrease):\n",
    "    global vLin\n",
    "    global vAng\n",
    "    global vMaxLin\n",
    "    global vMaxAng\n",
    "    global vMinLin\n",
    "    global vMinAng\n",
    "    global mod\n",
    "    global decV_bt\n",
    "    \n",
    "    decV_bt += 1\n",
    "    \n",
    "    if(mod):\n",
    "        if((vLin >= vMinLin) and (vAng >= vMinAng)):\n",
    "            vLin -= 0.1*vLin\n",
    "            vAng -= 0.1*vAng\n",
    "        else:\n",
    "            vLin = vMinLin\n",
    "            vAng = vMinAng\n",
    "    \n",
    "# Definition of the function for the button click\n",
    "# Function for the button bt to publish the position\n",
    "def pub_pos(bt):\n",
    "    global G\n",
    "    global pub\n",
    "    global g\n",
    "    global mod\n",
    "    global v\n",
    "    global pub\n",
    "    global publish_bt\n",
    "    \n",
    "    publish_bt += 1\n",
    "    \n",
    "    if(mod):\n",
    "        mod = False\n",
    "    \n",
    "    # if there is already a goal it will be cancelled\n",
    "    if(G):\n",
    "        cancelGoal(False)\n",
    "    \n",
    "    g.goal.target_pose.header.frame_id = \"map\"\n",
    "    g.goal.target_pose.pose.position.x = xBox.value\n",
    "    g.goal.target_pose.pose.position.y = yBox.value\n",
    "    g.goal.target_pose.pose.orientation.w = 1.0\n",
    "    pub.publish(g)\n",
    "    G = True\n",
    "    \n",
    "# Function for the button bc to cancel the goal\n",
    "def bc_observer(bc):\n",
    "    global mod\n",
    "    global cancel_bt\n",
    "    \n",
    "    cancel_bt += 1\n",
    "    \n",
    "    mod = False\n",
    "    cancelGoal(False)\n",
    "\n",
    "# Function for the button en_keybord\n",
    "def key_fun(en_keyboard):\n",
    "    global mod\n",
    "    global enable_bt\n",
    "    \n",
    "    enable_bt += 1\n",
    "    \n",
    "    mod = True\n",
    "    cancelGoal(False)"
   ]
  },
  {
   "cell_type": "markdown",
   "id": "16efe8d5",
   "metadata": {
    "hide_input": true
   },
   "source": [
    "## Publish a (x,y) position"
   ]
  },
  {
   "cell_type": "code",
   "execution_count": 8,
   "id": "2bc38796",
   "metadata": {
    "ExecuteTime": {
     "end_time": "2022-04-09T15:20:48.611913Z",
     "start_time": "2022-04-09T15:20:48.310802Z"
    },
    "hide_input": false,
    "scrolled": true
   },
   "outputs": [
    {
     "data": {
      "application/vnd.jupyter.widget-view+json": {
       "model_id": "3f46869158734ed1aa848c18a3958ca3",
       "version_major": 2,
       "version_minor": 0
      },
      "text/plain": [
       "VBox(children=(BoundedFloatText(value=0.0, description='X:', max=20.0, min=-20.0, step=1.0), BoundedFloatText(…"
      ]
     },
     "metadata": {},
     "output_type": "display_data"
    },
    {
     "data": {
      "application/vnd.jupyter.widget-view+json": {
       "model_id": "dcc9df6b53574fec9d5bb51d489b368d",
       "version_major": 2,
       "version_minor": 0
      },
      "text/plain": [
       "Button(description='PUBLISH', style=ButtonStyle(button_color='lightgreen', font_weight='bold'))"
      ]
     },
     "metadata": {},
     "output_type": "display_data"
    }
   ],
   "source": [
    "# Code fot the publication with the bt button\n",
    "display(widgets.VBox([xBox, yBox]))\n",
    "display(bt)\n",
    "\n",
    "bt.on_click(pub_pos)"
   ]
  },
  {
   "cell_type": "markdown",
   "id": "3e2b51b4",
   "metadata": {
    "hide_input": true
   },
   "source": [
    "## Cancel the current goal"
   ]
  },
  {
   "cell_type": "code",
   "execution_count": 9,
   "id": "1e04d55a",
   "metadata": {
    "ExecuteTime": {
     "end_time": "2022-04-09T15:20:48.714742Z",
     "start_time": "2022-04-09T15:20:48.655552Z"
    },
    "hide_input": false
   },
   "outputs": [
    {
     "data": {
      "application/vnd.jupyter.widget-view+json": {
       "model_id": "ab94df1345974009a1cce4b552fea0e0",
       "version_major": 2,
       "version_minor": 0
      },
      "text/plain": [
       "Button(button_style='danger', description='Cancel the goal', style=ButtonStyle())"
      ]
     },
     "metadata": {},
     "output_type": "display_data"
    }
   ],
   "source": [
    "# Code to cancel the current goal set\n",
    "display(bc)\n",
    "\n",
    "bc.on_click(bc_observer)"
   ]
  },
  {
   "cell_type": "markdown",
   "id": "cc06b25d",
   "metadata": {},
   "source": [
    "## Drive by keyboard"
   ]
  },
  {
   "cell_type": "markdown",
   "id": "e853a28f",
   "metadata": {
    "ExecuteTime": {
     "end_time": "2022-04-03T09:03:51.622496Z",
     "start_time": "2022-04-03T09:03:51.594961Z"
    }
   },
   "source": [
    "### In order to use the keyboard below, you first need to enable it by clicking the button.\n",
    "#### To increment or decrement the velocity click the button and then press a command to make the differences visible"
   ]
  },
  {
   "cell_type": "code",
   "execution_count": 10,
   "id": "afdafd28",
   "metadata": {
    "ExecuteTime": {
     "end_time": "2022-04-09T15:20:49.093399Z",
     "start_time": "2022-04-09T15:20:48.752934Z"
    },
    "hide_input": false,
    "scrolled": true
   },
   "outputs": [
    {
     "data": {
      "application/vnd.jupyter.widget-view+json": {
       "model_id": "654e13ae31474817aca3d344fd2089d0",
       "version_major": 2,
       "version_minor": 0
      },
      "text/plain": [
       "Button(button_style='warning', description='ENABLE MANUAL', style=ButtonStyle(font_weight='bold'))"
      ]
     },
     "metadata": {},
     "output_type": "display_data"
    },
    {
     "data": {
      "application/vnd.jupyter.widget-view+json": {
       "model_id": "79d9c7269f7f49d9a80d7bea74f78387",
       "version_major": 2,
       "version_minor": 0
      },
      "text/plain": [
       "VBox(children=(HBox(children=(Button(description='FRONT-L', style=ButtonStyle(button_color='lightblue', font_w…"
      ]
     },
     "metadata": {},
     "output_type": "display_data"
    }
   ],
   "source": [
    "# Button to enable the keyboard use\n",
    "display(en_keyboard)\n",
    "\n",
    "en_keyboard.on_click(key_fun)\n",
    "\n",
    "# Code to drive the robot by the keyboard use\n",
    "display(widgets.VBox([first_row, second_row, third_row]))\n",
    "\n",
    "b_front.on_click(front_vel)\n",
    "b_front_r.on_click(front_r_vel)\n",
    "b_front_l.on_click(front_l_vel)\n",
    "b_turn_r.on_click(turn_r_vel)\n",
    "b_turn_l.on_click(turn_l_vel)\n",
    "b_back.on_click(back_vel)\n",
    "b_stop.on_click(stop_vel)\n",
    "b_increase.on_click(inc_vel)\n",
    "b_decrease.on_click(dec_vel)"
   ]
  },
  {
   "cell_type": "markdown",
   "id": "b4e8d6f8",
   "metadata": {},
   "source": [
    "## Map"
   ]
  },
  {
   "cell_type": "code",
   "execution_count": 11,
   "id": "df02ca28",
   "metadata": {
    "ExecuteTime": {
     "end_time": "2022-04-09T15:20:49.549308Z",
     "start_time": "2022-04-09T15:20:49.099176Z"
    },
    "hide_input": false,
    "scrolled": true
   },
   "outputs": [
    {
     "data": {
      "application/vnd.jupyter.widget-view+json": {
       "model_id": "6ca34c4625cc412b92626528f7f262d7",
       "version_major": 2,
       "version_minor": 0
      },
      "text/plain": [
       "Viewer(objects=[GridModel(), LaserScan(ros=ROSConnection(url='ws://localhost:9090'), tf_client=TFClient(fixed_…"
      ]
     },
     "metadata": {},
     "output_type": "display_data"
    }
   ],
   "source": [
    "# Definition of the elements needed for the map\n",
    "view = ros3d.Viewer()\n",
    "rc = ros3d.ROSConnection(url = \"ws://localhost:9090\") \n",
    "tf_client = ros3d.TFClient(ros = rc, fixed_frame = 'map')\n",
    "laser_view = ros3d.LaserScan(topic = \"/scan\", ros = rc, tf_client = tf_client) \n",
    "map_view = ros3d.OccupancyGrid(topic = \"/map\", ros = rc, tf_client = tf_client) \n",
    "path = ros3d.Path(topic = \"/move_base/NavfnROS/plan\", ros = rc, tf_client = tf_client)\n",
    "urdf = ros3d.URDFModel(ros = rc, tf_client = tf_client, path = os.environ.get('JUPYROS_ASSETS_URL', 'http://localhost:3000')) \n",
    "grid = ros3d.GridModel()\n",
    "view.objects = [grid, laser_view, map_view, path, urdf]\n",
    "\n",
    "# Map visualization\n",
    "view"
   ]
  },
  {
   "cell_type": "markdown",
   "id": "2152cb9d",
   "metadata": {},
   "source": [
    "## Pie chart to store the amount of goal reached and not reached or canceled"
   ]
  },
  {
   "cell_type": "code",
   "execution_count": 12,
   "id": "6d50c081",
   "metadata": {
    "ExecuteTime": {
     "end_time": "2022-04-09T15:20:50.391960Z",
     "start_time": "2022-04-09T15:20:49.558095Z"
    },
    "scrolled": false
   },
   "outputs": [
    {
     "data": {
      "application/vnd.jupyter.widget-view+json": {
       "model_id": "7ed54c8565f640c3b897a152049ce8d4",
       "version_major": 2,
       "version_minor": 0
      },
      "text/plain": [
       "Canvas(toolbar=Toolbar(toolitems=[('Home', 'Reset original view', 'home', 'home'), ('Back', 'Back to previous …"
      ]
     },
     "metadata": {},
     "output_type": "display_data"
    }
   ],
   "source": [
    "%matplotlib widget\n",
    "\n",
    "class PieVisualiser:\n",
    "    def __init__(self):\n",
    "        self.fig1, self.ax = plt.subplots()\n",
    "        #self.labels = 'Reached', 'Not Reached/Cancel'\n",
    "        \n",
    "    def pie_init(self):\n",
    "        return self.ln\n",
    "    \n",
    "    def pie_callback(self, msg):\n",
    "        global tot_reached\n",
    "        global tot_notReached\n",
    "        \n",
    "        sizes = [tot_reached, tot_notReached]\n",
    "        colors = ['green', 'red']\n",
    "        patches, texts = plt.pie(sizes, colors=colors, startangle=90)\n",
    "        labels = [r'Reacehd: (' + str(tot_reached) + ')' ,r'Reacehd: (' + str(tot_notReached) + ')']\n",
    "        \n",
    "        explode = (0, 0)\n",
    "        \n",
    "        self.ax.pie(sizes, explode = explode, colors = colors, autopct = '%1.1f%%',shadow = False, startangle = 90)\n",
    "        plt.legend(patches, labels, loc=\"best\")\n",
    "        \n",
    "    def update_pie(self, frame):  \n",
    "        return self.ln\n",
    "    \n",
    "visP = PieVisualiser()\n",
    "# Used a subscription to the /odom topic to have the possibility to spin the program automatically\n",
    "subP = rospy.Subscriber('/clock', Clock, visP.pie_callback)\n",
    "aniP = FuncAnimation(visP.fig1, visP.update_pie, init_func = visP.pie_init)"
   ]
  },
  {
   "cell_type": "markdown",
   "id": "91876c83",
   "metadata": {},
   "source": [
    "## Path trajectory followed by the robot"
   ]
  },
  {
   "cell_type": "code",
   "execution_count": 13,
   "id": "b2c561c6",
   "metadata": {
    "ExecuteTime": {
     "end_time": "2022-04-09T15:21:17.995613Z",
     "start_time": "2022-04-09T15:21:11.891169Z"
    }
   },
   "outputs": [
    {
     "data": {
      "application/vnd.jupyter.widget-view+json": {
       "model_id": "48b5baa1668e41569a3c432b818c38cf",
       "version_major": 2,
       "version_minor": 0
      },
      "text/plain": [
       "Canvas(toolbar=Toolbar(toolitems=[('Home', 'Reset original view', 'home', 'home'), ('Back', 'Back to previous …"
      ]
     },
     "metadata": {},
     "output_type": "display_data"
    },
    {
     "data": {
      "application/vnd.jupyter.widget-view+json": {
       "model_id": "993e0b2e924c4230b532bb9c3658f220",
       "version_major": 2,
       "version_minor": 0
      },
      "text/plain": [
       "Canvas(toolbar=Toolbar(toolitems=[('Home', 'Reset original view', 'home', 'home'), ('Back', 'Back to previous …"
      ]
     },
     "metadata": {},
     "output_type": "display_data"
    },
    {
     "name": "stderr",
     "output_type": "stream",
     "text": [
      "/tmp/ipykernel_7759/1748107334.py:6: MatplotlibDeprecationWarning: Adding an axes using the same arguments as a previous axes currently reuses the earlier instance.  In a future version, a new instance will always be created and returned.  Meanwhile, this warning can be suppressed, and the future behavior ensured, by passing a unique label to each axes instance.\n",
      "  self.ln, = plt.plot([], [], 'ro')\n"
     ]
    },
    {
     "ename": "ValueError",
     "evalue": "Unknown element o",
     "output_type": "error",
     "traceback": [
      "\u001b[0;31m---------------------------------------------------------------------------\u001b[0m",
      "\u001b[0;31mValueError\u001b[0m                                Traceback (most recent call last)",
      "\u001b[0;32m/tmp/ipykernel_7759/1748107334.py\u001b[0m in \u001b[0;36m<module>\u001b[0;34m\u001b[0m\n\u001b[1;32m     20\u001b[0m         \u001b[0;32mreturn\u001b[0m \u001b[0mself\u001b[0m\u001b[0;34m.\u001b[0m\u001b[0mln\u001b[0m\u001b[0;34m\u001b[0m\u001b[0;34m\u001b[0m\u001b[0m\n\u001b[1;32m     21\u001b[0m \u001b[0;34m\u001b[0m\u001b[0m\n\u001b[0;32m---> 22\u001b[0;31m \u001b[0mvis\u001b[0m \u001b[0;34m=\u001b[0m \u001b[0mVisualiser\u001b[0m\u001b[0;34m(\u001b[0m\u001b[0;34m)\u001b[0m\u001b[0;34m\u001b[0m\u001b[0;34m\u001b[0m\u001b[0m\n\u001b[0m\u001b[1;32m     23\u001b[0m \u001b[0msubO\u001b[0m \u001b[0;34m=\u001b[0m \u001b[0mrospy\u001b[0m\u001b[0;34m.\u001b[0m\u001b[0mSubscriber\u001b[0m\u001b[0;34m(\u001b[0m\u001b[0;34m'/odom'\u001b[0m\u001b[0;34m,\u001b[0m \u001b[0mOdometry\u001b[0m\u001b[0;34m,\u001b[0m \u001b[0mvis\u001b[0m\u001b[0;34m.\u001b[0m\u001b[0modom_callback\u001b[0m\u001b[0;34m)\u001b[0m\u001b[0;34m\u001b[0m\u001b[0;34m\u001b[0m\u001b[0m\n\u001b[1;32m     24\u001b[0m \u001b[0mani\u001b[0m \u001b[0;34m=\u001b[0m \u001b[0mFuncAnimation\u001b[0m\u001b[0;34m(\u001b[0m\u001b[0mvis\u001b[0m\u001b[0;34m.\u001b[0m\u001b[0mfig\u001b[0m\u001b[0;34m,\u001b[0m \u001b[0mvis\u001b[0m\u001b[0;34m.\u001b[0m\u001b[0mupdate_plot\u001b[0m\u001b[0;34m,\u001b[0m \u001b[0minit_func\u001b[0m \u001b[0;34m=\u001b[0m \u001b[0mvis\u001b[0m\u001b[0;34m.\u001b[0m\u001b[0mplot_init\u001b[0m\u001b[0;34m)\u001b[0m\u001b[0;34m\u001b[0m\u001b[0;34m\u001b[0m\u001b[0m\n",
      "\u001b[0;32m/tmp/ipykernel_7759/1748107334.py\u001b[0m in \u001b[0;36m__init__\u001b[0;34m(self)\u001b[0m\n\u001b[1;32m      4\u001b[0m     \u001b[0;32mdef\u001b[0m \u001b[0m__init__\u001b[0m\u001b[0;34m(\u001b[0m\u001b[0mself\u001b[0m\u001b[0;34m)\u001b[0m\u001b[0;34m:\u001b[0m\u001b[0;34m\u001b[0m\u001b[0;34m\u001b[0m\u001b[0m\n\u001b[1;32m      5\u001b[0m         \u001b[0mself\u001b[0m\u001b[0;34m.\u001b[0m\u001b[0mfig\u001b[0m\u001b[0;34m,\u001b[0m \u001b[0mself\u001b[0m\u001b[0;34m.\u001b[0m\u001b[0max\u001b[0m \u001b[0;34m=\u001b[0m \u001b[0mplt\u001b[0m\u001b[0;34m.\u001b[0m\u001b[0msubplots\u001b[0m\u001b[0;34m(\u001b[0m\u001b[0;34m)\u001b[0m\u001b[0;34m\u001b[0m\u001b[0;34m\u001b[0m\u001b[0m\n\u001b[0;32m----> 6\u001b[0;31m         \u001b[0mself\u001b[0m\u001b[0;34m.\u001b[0m\u001b[0mln\u001b[0m\u001b[0;34m,\u001b[0m \u001b[0;34m=\u001b[0m \u001b[0mplt\u001b[0m\u001b[0;34m.\u001b[0m\u001b[0mplot\u001b[0m\u001b[0;34m(\u001b[0m\u001b[0;34m[\u001b[0m\u001b[0;34m]\u001b[0m\u001b[0;34m,\u001b[0m \u001b[0;34m[\u001b[0m\u001b[0;34m]\u001b[0m\u001b[0;34m,\u001b[0m \u001b[0;34m'ro'\u001b[0m\u001b[0;34m)\u001b[0m\u001b[0;34m\u001b[0m\u001b[0;34m\u001b[0m\u001b[0m\n\u001b[0m\u001b[1;32m      7\u001b[0m         \u001b[0mself\u001b[0m\u001b[0;34m.\u001b[0m\u001b[0mx_data\u001b[0m\u001b[0;34m,\u001b[0m \u001b[0mself\u001b[0m\u001b[0;34m.\u001b[0m\u001b[0my_data\u001b[0m \u001b[0;34m=\u001b[0m \u001b[0;34m[\u001b[0m\u001b[0;34m]\u001b[0m \u001b[0;34m,\u001b[0m \u001b[0;34m[\u001b[0m\u001b[0;34m]\u001b[0m\u001b[0;34m\u001b[0m\u001b[0;34m\u001b[0m\u001b[0m\n\u001b[1;32m      8\u001b[0m \u001b[0;34m\u001b[0m\u001b[0m\n",
      "\u001b[0;32m/usr/lib/python3/dist-packages/matplotlib/pyplot.py\u001b[0m in \u001b[0;36mplot\u001b[0;34m(scalex, scaley, data, *args, **kwargs)\u001b[0m\n\u001b[1;32m   2785\u001b[0m \u001b[0;34m@\u001b[0m\u001b[0mdocstring\u001b[0m\u001b[0;34m.\u001b[0m\u001b[0mcopy\u001b[0m\u001b[0;34m(\u001b[0m\u001b[0mAxes\u001b[0m\u001b[0;34m.\u001b[0m\u001b[0mplot\u001b[0m\u001b[0;34m)\u001b[0m\u001b[0;34m\u001b[0m\u001b[0;34m\u001b[0m\u001b[0m\n\u001b[1;32m   2786\u001b[0m \u001b[0;32mdef\u001b[0m \u001b[0mplot\u001b[0m\u001b[0;34m(\u001b[0m\u001b[0;34m*\u001b[0m\u001b[0margs\u001b[0m\u001b[0;34m,\u001b[0m \u001b[0mscalex\u001b[0m\u001b[0;34m=\u001b[0m\u001b[0;32mTrue\u001b[0m\u001b[0;34m,\u001b[0m \u001b[0mscaley\u001b[0m\u001b[0;34m=\u001b[0m\u001b[0;32mTrue\u001b[0m\u001b[0;34m,\u001b[0m \u001b[0mdata\u001b[0m\u001b[0;34m=\u001b[0m\u001b[0;32mNone\u001b[0m\u001b[0;34m,\u001b[0m \u001b[0;34m**\u001b[0m\u001b[0mkwargs\u001b[0m\u001b[0;34m)\u001b[0m\u001b[0;34m:\u001b[0m\u001b[0;34m\u001b[0m\u001b[0;34m\u001b[0m\u001b[0m\n\u001b[0;32m-> 2787\u001b[0;31m     return gca().plot(\n\u001b[0m\u001b[1;32m   2788\u001b[0m         *args, scalex=scalex, scaley=scaley, **({\"data\": data} if data\n\u001b[1;32m   2789\u001b[0m         is not None else {}), **kwargs)\n",
      "\u001b[0;32m/usr/lib/python3/dist-packages/matplotlib/pyplot.py\u001b[0m in \u001b[0;36mgca\u001b[0;34m(**kwargs)\u001b[0m\n\u001b[1;32m    917\u001b[0m     \u001b[0mmatplotlib\u001b[0m\u001b[0;34m.\u001b[0m\u001b[0mfigure\u001b[0m\u001b[0;34m.\u001b[0m\u001b[0mFigure\u001b[0m\u001b[0;34m.\u001b[0m\u001b[0mgca\u001b[0m \u001b[0;34m:\u001b[0m \u001b[0mThe\u001b[0m \u001b[0mfigure\u001b[0m\u001b[0;31m'\u001b[0m\u001b[0ms\u001b[0m \u001b[0mgca\u001b[0m \u001b[0mmethod\u001b[0m\u001b[0;34m.\u001b[0m\u001b[0;34m\u001b[0m\u001b[0;34m\u001b[0m\u001b[0m\n\u001b[1;32m    918\u001b[0m     \"\"\"\n\u001b[0;32m--> 919\u001b[0;31m     \u001b[0;32mreturn\u001b[0m \u001b[0mgcf\u001b[0m\u001b[0;34m(\u001b[0m\u001b[0;34m)\u001b[0m\u001b[0;34m.\u001b[0m\u001b[0mgca\u001b[0m\u001b[0;34m(\u001b[0m\u001b[0;34m**\u001b[0m\u001b[0mkwargs\u001b[0m\u001b[0;34m)\u001b[0m\u001b[0;34m\u001b[0m\u001b[0;34m\u001b[0m\u001b[0m\n\u001b[0m\u001b[1;32m    920\u001b[0m \u001b[0;34m\u001b[0m\u001b[0m\n\u001b[1;32m    921\u001b[0m \u001b[0;34m\u001b[0m\u001b[0m\n",
      "\u001b[0;32m/usr/lib/python3/dist-packages/matplotlib/figure.py\u001b[0m in \u001b[0;36mgca\u001b[0;34m(self, **kwargs)\u001b[0m\n\u001b[1;32m   1930\u001b[0m \u001b[0;34m\u001b[0m\u001b[0m\n\u001b[1;32m   1931\u001b[0m         \u001b[0;31m# no axes found, so create one which spans the figure\u001b[0m\u001b[0;34m\u001b[0m\u001b[0;34m\u001b[0m\u001b[0;34m\u001b[0m\u001b[0m\n\u001b[0;32m-> 1932\u001b[0;31m         \u001b[0;32mreturn\u001b[0m \u001b[0mself\u001b[0m\u001b[0;34m.\u001b[0m\u001b[0madd_subplot\u001b[0m\u001b[0;34m(\u001b[0m\u001b[0;36m1\u001b[0m\u001b[0;34m,\u001b[0m \u001b[0;36m1\u001b[0m\u001b[0;34m,\u001b[0m \u001b[0;36m1\u001b[0m\u001b[0;34m,\u001b[0m \u001b[0;34m**\u001b[0m\u001b[0mkwargs\u001b[0m\u001b[0;34m)\u001b[0m\u001b[0;34m\u001b[0m\u001b[0;34m\u001b[0m\u001b[0m\n\u001b[0m\u001b[1;32m   1933\u001b[0m \u001b[0;34m\u001b[0m\u001b[0m\n\u001b[1;32m   1934\u001b[0m     \u001b[0;32mdef\u001b[0m \u001b[0msca\u001b[0m\u001b[0;34m(\u001b[0m\u001b[0mself\u001b[0m\u001b[0;34m,\u001b[0m \u001b[0ma\u001b[0m\u001b[0;34m)\u001b[0m\u001b[0;34m:\u001b[0m\u001b[0;34m\u001b[0m\u001b[0;34m\u001b[0m\u001b[0m\n",
      "\u001b[0;32m/usr/lib/python3/dist-packages/matplotlib/figure.py\u001b[0m in \u001b[0;36madd_subplot\u001b[0;34m(self, *args, **kwargs)\u001b[0m\n\u001b[1;32m   1414\u001b[0m             \u001b[0ma\u001b[0m \u001b[0;34m=\u001b[0m \u001b[0msubplot_class_factory\u001b[0m\u001b[0;34m(\u001b[0m\u001b[0mprojection_class\u001b[0m\u001b[0;34m)\u001b[0m\u001b[0;34m(\u001b[0m\u001b[0mself\u001b[0m\u001b[0;34m,\u001b[0m \u001b[0;34m*\u001b[0m\u001b[0margs\u001b[0m\u001b[0;34m,\u001b[0m \u001b[0;34m**\u001b[0m\u001b[0mkwargs\u001b[0m\u001b[0;34m)\u001b[0m\u001b[0;34m\u001b[0m\u001b[0;34m\u001b[0m\u001b[0m\n\u001b[1;32m   1415\u001b[0m \u001b[0;34m\u001b[0m\u001b[0m\n\u001b[0;32m-> 1416\u001b[0;31m         \u001b[0;32mreturn\u001b[0m \u001b[0mself\u001b[0m\u001b[0;34m.\u001b[0m\u001b[0m_add_axes_internal\u001b[0m\u001b[0;34m(\u001b[0m\u001b[0mkey\u001b[0m\u001b[0;34m,\u001b[0m \u001b[0ma\u001b[0m\u001b[0;34m)\u001b[0m\u001b[0;34m\u001b[0m\u001b[0;34m\u001b[0m\u001b[0m\n\u001b[0m\u001b[1;32m   1417\u001b[0m \u001b[0;34m\u001b[0m\u001b[0m\n\u001b[1;32m   1418\u001b[0m     \u001b[0;32mdef\u001b[0m \u001b[0m_add_axes_internal\u001b[0m\u001b[0;34m(\u001b[0m\u001b[0mself\u001b[0m\u001b[0;34m,\u001b[0m \u001b[0mkey\u001b[0m\u001b[0;34m,\u001b[0m \u001b[0max\u001b[0m\u001b[0;34m)\u001b[0m\u001b[0;34m:\u001b[0m\u001b[0;34m\u001b[0m\u001b[0;34m\u001b[0m\u001b[0m\n",
      "\u001b[0;32m/usr/lib/python3/dist-packages/matplotlib/figure.py\u001b[0m in \u001b[0;36m_add_axes_internal\u001b[0;34m(self, key, ax)\u001b[0m\n\u001b[1;32m   1418\u001b[0m     \u001b[0;32mdef\u001b[0m \u001b[0m_add_axes_internal\u001b[0m\u001b[0;34m(\u001b[0m\u001b[0mself\u001b[0m\u001b[0;34m,\u001b[0m \u001b[0mkey\u001b[0m\u001b[0;34m,\u001b[0m \u001b[0max\u001b[0m\u001b[0;34m)\u001b[0m\u001b[0;34m:\u001b[0m\u001b[0;34m\u001b[0m\u001b[0;34m\u001b[0m\u001b[0m\n\u001b[1;32m   1419\u001b[0m         \u001b[0;34m\"\"\"Private helper for `add_axes` and `add_subplot`.\"\"\"\u001b[0m\u001b[0;34m\u001b[0m\u001b[0;34m\u001b[0m\u001b[0m\n\u001b[0;32m-> 1420\u001b[0;31m         \u001b[0mself\u001b[0m\u001b[0;34m.\u001b[0m\u001b[0m_axstack\u001b[0m\u001b[0;34m.\u001b[0m\u001b[0madd\u001b[0m\u001b[0;34m(\u001b[0m\u001b[0mkey\u001b[0m\u001b[0;34m,\u001b[0m \u001b[0max\u001b[0m\u001b[0;34m)\u001b[0m\u001b[0;34m\u001b[0m\u001b[0;34m\u001b[0m\u001b[0m\n\u001b[0m\u001b[1;32m   1421\u001b[0m         \u001b[0mself\u001b[0m\u001b[0;34m.\u001b[0m\u001b[0msca\u001b[0m\u001b[0;34m(\u001b[0m\u001b[0max\u001b[0m\u001b[0;34m)\u001b[0m\u001b[0;34m\u001b[0m\u001b[0;34m\u001b[0m\u001b[0m\n\u001b[1;32m   1422\u001b[0m         \u001b[0max\u001b[0m\u001b[0;34m.\u001b[0m\u001b[0m_remove_method\u001b[0m \u001b[0;34m=\u001b[0m \u001b[0mself\u001b[0m\u001b[0;34m.\u001b[0m\u001b[0m_remove_ax\u001b[0m\u001b[0;34m\u001b[0m\u001b[0;34m\u001b[0m\u001b[0m\n",
      "\u001b[0;32m/usr/lib/python3/dist-packages/matplotlib/figure.py\u001b[0m in \u001b[0;36madd\u001b[0;34m(self, key, a)\u001b[0m\n\u001b[1;32m    133\u001b[0m         \u001b[0ma_existing\u001b[0m \u001b[0;34m=\u001b[0m \u001b[0mself\u001b[0m\u001b[0;34m.\u001b[0m\u001b[0mget\u001b[0m\u001b[0;34m(\u001b[0m\u001b[0mkey\u001b[0m\u001b[0;34m)\u001b[0m\u001b[0;34m\u001b[0m\u001b[0;34m\u001b[0m\u001b[0m\n\u001b[1;32m    134\u001b[0m         \u001b[0;32mif\u001b[0m \u001b[0ma_existing\u001b[0m \u001b[0;32mis\u001b[0m \u001b[0;32mnot\u001b[0m \u001b[0;32mNone\u001b[0m\u001b[0;34m:\u001b[0m\u001b[0;34m\u001b[0m\u001b[0;34m\u001b[0m\u001b[0m\n\u001b[0;32m--> 135\u001b[0;31m             \u001b[0msuper\u001b[0m\u001b[0;34m(\u001b[0m\u001b[0;34m)\u001b[0m\u001b[0;34m.\u001b[0m\u001b[0mremove\u001b[0m\u001b[0;34m(\u001b[0m\u001b[0;34m(\u001b[0m\u001b[0mkey\u001b[0m\u001b[0;34m,\u001b[0m \u001b[0ma_existing\u001b[0m\u001b[0;34m)\u001b[0m\u001b[0;34m)\u001b[0m\u001b[0;34m\u001b[0m\u001b[0;34m\u001b[0m\u001b[0m\n\u001b[0m\u001b[1;32m    136\u001b[0m             cbook._warn_external(\n\u001b[1;32m    137\u001b[0m                 \"key {!r} already existed; Axes is being replaced\".format(key))\n",
      "\u001b[0;32m/usr/lib/python3/dist-packages/matplotlib/cbook/__init__.py\u001b[0m in \u001b[0;36mremove\u001b[0;34m(self, o)\u001b[0m\n\u001b[1;32m    741\u001b[0m         \u001b[0;34m\"\"\"Remove *o* from the stack.\"\"\"\u001b[0m\u001b[0;34m\u001b[0m\u001b[0;34m\u001b[0m\u001b[0m\n\u001b[1;32m    742\u001b[0m         \u001b[0;32mif\u001b[0m \u001b[0mo\u001b[0m \u001b[0;32mnot\u001b[0m \u001b[0;32min\u001b[0m \u001b[0mself\u001b[0m\u001b[0;34m.\u001b[0m\u001b[0m_elements\u001b[0m\u001b[0;34m:\u001b[0m\u001b[0;34m\u001b[0m\u001b[0;34m\u001b[0m\u001b[0m\n\u001b[0;32m--> 743\u001b[0;31m             \u001b[0;32mraise\u001b[0m \u001b[0mValueError\u001b[0m\u001b[0;34m(\u001b[0m\u001b[0;34m'Unknown element o'\u001b[0m\u001b[0;34m)\u001b[0m\u001b[0;34m\u001b[0m\u001b[0;34m\u001b[0m\u001b[0m\n\u001b[0m\u001b[1;32m    744\u001b[0m         \u001b[0mold\u001b[0m \u001b[0;34m=\u001b[0m \u001b[0mself\u001b[0m\u001b[0;34m.\u001b[0m\u001b[0m_elements\u001b[0m\u001b[0;34m[\u001b[0m\u001b[0;34m:\u001b[0m\u001b[0;34m]\u001b[0m\u001b[0;34m\u001b[0m\u001b[0;34m\u001b[0m\u001b[0m\n\u001b[1;32m    745\u001b[0m         \u001b[0mself\u001b[0m\u001b[0;34m.\u001b[0m\u001b[0mclear\u001b[0m\u001b[0;34m(\u001b[0m\u001b[0;34m)\u001b[0m\u001b[0;34m\u001b[0m\u001b[0;34m\u001b[0m\u001b[0m\n",
      "\u001b[0;31mValueError\u001b[0m: Unknown element o"
     ]
    }
   ],
   "source": [
    "%matplotlib widget\n",
    "\n",
    "class Visualiser:\n",
    "    def __init__(self):\n",
    "        self.fig, self.ax = plt.subplots() \n",
    "        self.ln, = plt.plot([], [], 'ro') \n",
    "        self.x_data, self.y_data = [] , []\n",
    "        \n",
    "    def plot_init(self): \n",
    "        self.ax.set_xlim(-10, 10) \n",
    "        self.ax.set_ylim(-10, 10) \n",
    "        return self.ln\n",
    "    \n",
    "    def odom_callback(self, msg): \n",
    "        self.y_data.append(msg.pose.pose.position.y) \n",
    "        self.x_data.append(msg.pose.pose.position.x)\n",
    "        \n",
    "    def update_plot(self, frame): \n",
    "        self.ln.set_data(self.x_data, self.y_data) \n",
    "        return self.ln\n",
    "    \n",
    "vis = Visualiser()\n",
    "subO = rospy.Subscriber('/odom', Odometry, vis.odom_callback)\n",
    "ani = FuncAnimation(vis.fig, vis.update_plot, init_func = vis.plot_init) "
   ]
  },
  {
   "cell_type": "markdown",
   "id": "c5f7984d",
   "metadata": {},
   "source": [
    "## Laser scan in the robot frame"
   ]
  },
  {
   "cell_type": "code",
   "execution_count": 14,
   "id": "17653be5",
   "metadata": {
    "ExecuteTime": {
     "end_time": "2022-04-09T15:09:25.396325Z",
     "start_time": "2022-04-09T15:09:25.331343Z"
    },
    "scrolled": false
   },
   "outputs": [
    {
     "data": {
      "application/vnd.jupyter.widget-view+json": {
       "model_id": "abc91fd268cd4bcfa0d72862a801a493",
       "version_major": 2,
       "version_minor": 0
      },
      "text/plain": [
       "Canvas(toolbar=Toolbar(toolitems=[('Home', 'Reset original view', 'home', 'home'), ('Back', 'Back to previous …"
      ]
     },
     "metadata": {},
     "output_type": "display_data"
    }
   ],
   "source": [
    "%matplotlib widget\n",
    "\n",
    "class LaserVisualiser:\n",
    "    \n",
    "    global angle_interval\n",
    "    \n",
    "    def __init__(self):\n",
    "        self.fig, self.ax = plt.subplots() \n",
    "        self.ln, = plt.plot([], [], 'r-') \n",
    "        self.x_data, self.y_data = [] , []\n",
    "    \n",
    "    def laser_init(self): \n",
    "        self.ax.set_xlim(-360, 360) \n",
    "        self.ax.set_ylim(0, 10) \n",
    "        return self.ln\n",
    "    \n",
    "    def laser_callback(self, msg):\n",
    "        \n",
    "        for i in range(0,719,10):\n",
    "            intensity = msg.ranges[i]\n",
    "            theta = (angle_interval * i - 90) * 2 * math.pi/360\n",
    "            if(i < 360):\n",
    "                x_datum = intensity * math.cos(theta)\n",
    "            \n",
    "            elif(i > 360):\n",
    "                x_datum = - intensity * math.cos(theta)\n",
    "                \n",
    "            y_datum = intensity * math.sin(theta)\n",
    "            \n",
    "            #self.x_data.append(x_datum)\n",
    "            #self.y_data.append(y_datum)\n",
    "            self.x_data.append(i-359)\n",
    "            self.y_data.append(intensity)\n",
    "            \n",
    "    \n",
    "    def update_laserPlot(self, frame): \n",
    "        self.ln.set_data(self.x_data, self.y_data) \n",
    "        return self.ln\n",
    "    \n",
    "visL = LaserVisualiser()\n",
    "subL = rospy.Subscriber('/scan', LaserScan, visL.laser_callback)\n",
    "aniL = FuncAnimation(visL.fig, visL.update_laserPlot, init_func = visL.laser_init) "
   ]
  },
  {
   "cell_type": "code",
   "execution_count": null,
   "id": "1b75f5a9",
   "metadata": {},
   "outputs": [],
   "source": []
  }
 ],
 "metadata": {
  "kernelspec": {
   "display_name": "Python 3 (ipykernel)",
   "language": "python",
   "name": "python3"
  },
  "language_info": {
   "codemirror_mode": {
    "name": "ipython",
    "version": 3
   },
   "file_extension": ".py",
   "mimetype": "text/x-python",
   "name": "python",
   "nbconvert_exporter": "python",
   "pygments_lexer": "ipython3",
   "version": "3.8.5"
  }
 },
 "nbformat": 4,
 "nbformat_minor": 5
}

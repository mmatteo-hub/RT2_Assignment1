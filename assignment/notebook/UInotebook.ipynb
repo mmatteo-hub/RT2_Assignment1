{
 "cells": [
  {
   "cell_type": "markdown",
   "id": "4b86663c",
   "metadata": {
    "hide_input": true
   },
   "source": [
    "# UI for RT1_Assignment3"
   ]
  },
  {
   "cell_type": "code",
   "execution_count": 1,
   "id": "f8daa6f5",
   "metadata": {
    "ExecuteTime": {
     "end_time": "2022-03-26T10:46:06.694703Z",
     "start_time": "2022-03-26T10:45:59.987759Z"
    },
    "hide_input": false
   },
   "outputs": [],
   "source": [
    "# import\n",
    "from IPython.display import display\n",
    "from move_base_msgs.msg import MoveBaseActionGoal, MoveBaseGoal\n",
    "import actionlib\n",
    "from actionlib_msgs.msg import GoalID\n",
    "import rospy\n",
    "import ipywidgets as widgets\n",
    "from ipywidgets import Button, Layout, ButtonStyle, GridBox, VBox, HBox, interact, interactive, fixed, interact_manual\n",
    "from __future__ import print_function\n",
    "from jupyros import ros3d \n",
    "import os"
   ]
  },
  {
   "cell_type": "code",
   "execution_count": 2,
   "id": "7513522e",
   "metadata": {
    "ExecuteTime": {
     "end_time": "2022-03-26T10:46:07.592610Z",
     "start_time": "2022-03-26T10:46:06.710673Z"
    },
    "hide_input": true
   },
   "outputs": [],
   "source": [
    "rospy.init_node('UI_node_jupyter') "
   ]
  },
  {
   "cell_type": "markdown",
   "id": "fc835b8b",
   "metadata": {},
   "source": [
    "## Menù"
   ]
  },
  {
   "cell_type": "code",
   "execution_count": 3,
   "id": "3b098076",
   "metadata": {
    "ExecuteTime": {
     "end_time": "2022-03-26T10:46:07.698265Z",
     "start_time": "2022-03-26T10:46:07.598674Z"
    },
    "hide_input": true
   },
   "outputs": [],
   "source": [
    "# definition of the widgets for the position publication\n",
    "xBox = widgets.BoundedFloatText(\n",
    "    value=0.0,\n",
    "    min=-10.00,\n",
    "    max=10.0,\n",
    "    step=1,\n",
    "    description='X:',\n",
    "    disabled=False\n",
    ")\n",
    "yBox = widgets.BoundedFloatText(\n",
    "    value=0.0,\n",
    "    min=-10.0,\n",
    "    max=10.0,\n",
    "    step=1,\n",
    "    description='Y:',\n",
    "    disabled=False\n",
    ")"
   ]
  },
  {
   "cell_type": "code",
   "execution_count": 4,
   "id": "e0cef73a",
   "metadata": {
    "ExecuteTime": {
     "end_time": "2022-03-26T10:46:07.925292Z",
     "start_time": "2022-03-26T10:46:07.720646Z"
    },
    "hide_input": false
   },
   "outputs": [],
   "source": [
    "# definition of the button\n",
    "b1 = widgets.Button(\n",
    "    description='Publish a position',\n",
    "    disabled=False,\n",
    "    button_style='',\n",
    "    tootltip='Click me',\n",
    "    icon=''\n",
    ")\n",
    "b2 = widgets.Button(\n",
    "    description='Drive by keyboard',\n",
    "    disabled=False,\n",
    "    button_style='',\n",
    "    tootltip='Click me',\n",
    "    icon=''\n",
    ")\n",
    "b3 = widgets.Button(\n",
    "    description='Cancel the goal',\n",
    "    disabled=False,\n",
    "    button_style='',\n",
    "    tootltip='Click me',\n",
    "    icon=''\n",
    ")\n",
    "b4 = widgets.Button(\n",
    "    description='Quit the program',\n",
    "    disabled=False,\n",
    "    button_style='',\n",
    "    tootltip='Click me',\n",
    "    icon=''\n",
    ")\n",
    "bt = widgets.Button(\n",
    "    description='PUBLISH!',\n",
    "    disabled=False,\n",
    "    button_style='',\n",
    "    tootltip='Click me',\n",
    "    icon=''\n",
    ")"
   ]
  },
  {
   "cell_type": "code",
   "execution_count": 5,
   "id": "3a1d55dc",
   "metadata": {
    "ExecuteTime": {
     "end_time": "2022-03-26T10:46:07.993023Z",
     "start_time": "2022-03-26T10:46:07.931185Z"
    },
    "hide_input": false,
    "scrolled": true
   },
   "outputs": [],
   "source": [
    "# Definition of the function for the button click\n",
    "# Function of the button inside b1\n",
    "def pub_pos(bt):\n",
    "    pub = rospy.Publisher(\"/move_base/goal\", MoveBaseActionGoal, queue_size=10)\n",
    "    global g\n",
    "    g = MoveBaseActionGoal()\n",
    "    g.goal.target_pose.header.frame_id = \"map\"\n",
    "    g.goal.target_pose.pose.position.x = xBox.value\n",
    "    g.goal.target_pose.pose.position.y = yBox.value\n",
    "    g.goal.target_pose.pose.orientation.w = 1.0\n",
    "    g.goal_id.id = \"g\"\n",
    "    pub.publish(g)\n",
    "    bt.icon='check'\n",
    "\n",
    "# Function for the button 1\n",
    "def b1_observer(sender):\n",
    "    b1.icon='check'\n",
    "    b2.icon=''\n",
    "    b3.icon=''\n",
    "    b4.icon=''\n",
    "    display(widgets.VBox([xBox, yBox]))\n",
    "    display(bt)\n",
    "    bt.on_click(pub_pos)\n",
    "\n",
    "# Function for the button 2\n",
    "def b2_observer(sender):\n",
    "    b1.icon=''\n",
    "    b2.icon='check'\n",
    "    b3.icon=''\n",
    "    b4.icon=''\n",
    "    \n",
    "\n",
    "# Function for the button 3\n",
    "def b3_observer(sender):\n",
    "    b1.icon=''\n",
    "    b2.icon=''\n",
    "    b3.icon='check'\n",
    "    b4.icon=''\n",
    "    pubC = rospy.Publisher(\"/move_base/cancel\", GoalID, queue_size=10)\n",
    "    gCanc = GoalID()\n",
    "    if(g.goal_id.id != \"\"):\n",
    "        gCanc.id = g.goal_id.id\n",
    "        pubC.publish(gCanc)\n",
    "        g.goal_id.id = \"\"\n",
    "        print(\"Goal cancelled successfully\")\n",
    "    else:\n",
    "        print(\"No goal to cancel\")\n",
    "    \n",
    "\n",
    "# Function for the button 4\n",
    "def b4_observer(sender):\n",
    "    b1.icon=''\n",
    "    b2.icon=''\n",
    "    b3.icon=''\n",
    "    b4.icon='check'\n",
    "    print(\"4\")"
   ]
  },
  {
   "cell_type": "code",
   "execution_count": 6,
   "id": "2b06a155",
   "metadata": {
    "ExecuteTime": {
     "end_time": "2022-03-26T10:46:08.185209Z",
     "start_time": "2022-03-26T10:46:08.017090Z"
    },
    "hide_input": false
   },
   "outputs": [
    {
     "data": {
      "application/vnd.jupyter.widget-view+json": {
       "model_id": "5d4ea4cedae849b79e7e4a7f96d10c06",
       "version_major": 2,
       "version_minor": 0
      },
      "text/plain": [
       "HBox(children=(Button(description='Publish a position', style=ButtonStyle()), Button(description='Drive by key…"
      ]
     },
     "metadata": {},
     "output_type": "display_data"
    },
    {
     "data": {
      "application/vnd.jupyter.widget-view+json": {
       "model_id": "c10a1a9ed9c84e4d8f57187d8c312f53",
       "version_major": 2,
       "version_minor": 0
      },
      "text/plain": [
       "VBox(children=(BoundedFloatText(value=0.0, description='X:', max=10.0, min=-10.0, step=1.0), BoundedFloatText(…"
      ]
     },
     "metadata": {},
     "output_type": "display_data"
    },
    {
     "data": {
      "application/vnd.jupyter.widget-view+json": {
       "model_id": "9f1a4736fa1c418f818f2ed5dd8d874d",
       "version_major": 2,
       "version_minor": 0
      },
      "text/plain": [
       "Button(description='PUBLISH!', style=ButtonStyle())"
      ]
     },
     "metadata": {},
     "output_type": "display_data"
    },
    {
     "data": {
      "application/vnd.jupyter.widget-view+json": {
       "model_id": "7c15b7a58c9c421581538b098f302a23",
       "version_major": 2,
       "version_minor": 0
      },
      "text/plain": [
       "VBox(children=(BoundedFloatText(value=0.0, description='X:', max=10.0, min=-10.0, step=1.0), BoundedFloatText(…"
      ]
     },
     "metadata": {},
     "output_type": "display_data"
    },
    {
     "data": {
      "application/vnd.jupyter.widget-view+json": {
       "model_id": "9f1a4736fa1c418f818f2ed5dd8d874d",
       "version_major": 2,
       "version_minor": 0
      },
      "text/plain": [
       "Button(description='PUBLISH!', style=ButtonStyle())"
      ]
     },
     "metadata": {},
     "output_type": "display_data"
    }
   ],
   "source": [
    "# Manage of the click button\n",
    "b1.on_click(b1_observer)\n",
    "b2.on_click(b2_observer)\n",
    "b3.on_click(b3_observer)\n",
    "b4.on_click(b4_observer)\n",
    "\n",
    "# Visualization of the box\n",
    "widgets.HBox([b1,b2,b3,b4])"
   ]
  },
  {
   "cell_type": "markdown",
   "id": "b4e8d6f8",
   "metadata": {},
   "source": [
    "## Map"
   ]
  },
  {
   "cell_type": "code",
   "execution_count": 7,
   "id": "df02ca28",
   "metadata": {
    "ExecuteTime": {
     "end_time": "2022-03-26T10:46:08.527872Z",
     "start_time": "2022-03-26T10:46:08.206351Z"
    },
    "hide_input": false,
    "scrolled": true
   },
   "outputs": [
    {
     "data": {
      "application/vnd.jupyter.widget-view+json": {
       "model_id": "369dff286dd04e208ad00c22b416b633",
       "version_major": 2,
       "version_minor": 0
      },
      "text/plain": [
       "Viewer(objects=[GridModel(), LaserScan(ros=ROSConnection(url='ws://localhost:9090'), tf_client=TFClient(fixed_…"
      ]
     },
     "metadata": {},
     "output_type": "display_data"
    }
   ],
   "source": [
    "# Definition of the elements needed for the map\n",
    "v = ros3d.Viewer()\n",
    "rc = ros3d.ROSConnection(url=\"ws://localhost:9090\") \n",
    "tf_client = ros3d.TFClient(ros=rc, fixed_frame='map')\n",
    "laser_view = ros3d.LaserScan(topic=\"/scan\", ros=rc, tf_client=tf_client) \n",
    "map_view = ros3d.OccupancyGrid(topic=\"/map\", ros=rc, tf_client=tf_client) \n",
    "path = ros3d.Path(topic=\"/move_base/NavfnROS/plan\", ros=rc, tf_client=tf_client)\n",
    "urdf = ros3d.URDFModel(ros=rc, tf_client=tf_client, path=os.environ.get('JUPYROS_ASSETS_URL', 'http://localhost:3000')) \n",
    "g = ros3d.GridModel()\n",
    "v.objects = [g, laser_view, map_view, path, urdf]\n",
    "\n",
    "# Map visualization\n",
    "v"
   ]
  }
 ],
 "metadata": {
  "kernelspec": {
   "display_name": "Python 3 (ipykernel)",
   "language": "python",
   "name": "python3"
  },
  "language_info": {
   "codemirror_mode": {
    "name": "ipython",
    "version": 3
   },
   "file_extension": ".py",
   "mimetype": "text/x-python",
   "name": "python",
   "nbconvert_exporter": "python",
   "pygments_lexer": "ipython3",
   "version": "3.8.5"
  }
 },
 "nbformat": 4,
 "nbformat_minor": 5
}

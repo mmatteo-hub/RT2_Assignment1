{
 "cells": [
  {
   "cell_type": "markdown",
   "id": "4b86663c",
   "metadata": {
    "hide_input": true
   },
   "source": [
    "# UI for RT1_Assignment3"
   ]
  },
  {
   "cell_type": "code",
   "execution_count": 1,
   "id": "f8daa6f5",
   "metadata": {
    "ExecuteTime": {
     "end_time": "2022-03-28T09:45:32.249029Z",
     "start_time": "2022-03-28T09:45:22.613004Z"
    },
    "hide_input": false
   },
   "outputs": [],
   "source": [
    "# import\n",
    "from IPython.display import display\n",
    "from move_base_msgs.msg import MoveBaseActionGoal, MoveBaseGoal\n",
    "from geometry_msgs.msg import Twist\n",
    "import actionlib\n",
    "from actionlib_msgs.msg import GoalID\n",
    "import rospy\n",
    "import ipywidgets as widgets\n",
    "from ipywidgets import Button, Layout, ButtonStyle, GridBox, VBox, HBox, interact, interactive, fixed, interact_manual\n",
    "from __future__ import print_function\n",
    "from jupyros import ros3d \n",
    "import os"
   ]
  },
  {
   "cell_type": "code",
   "execution_count": 2,
   "id": "7513522e",
   "metadata": {
    "ExecuteTime": {
     "end_time": "2022-03-28T09:45:33.407432Z",
     "start_time": "2022-03-28T09:45:32.276936Z"
    },
    "hide_input": false
   },
   "outputs": [],
   "source": [
    "rospy.init_node('UI_node_jupyter') "
   ]
  },
  {
   "cell_type": "code",
   "execution_count": 3,
   "id": "24ce7644",
   "metadata": {
    "ExecuteTime": {
     "end_time": "2022-03-28T09:45:33.469156Z",
     "start_time": "2022-03-28T09:45:33.412535Z"
    }
   },
   "outputs": [],
   "source": [
    "global pub\n",
    "pub = rospy.Publisher(\"/move_base/goal\", MoveBaseActionGoal, queue_size=10)\n",
    "global pubC\n",
    "pubC = rospy.Publisher(\"/move_base/cancel\", GoalID, queue_size=10)\n",
    "global pubV\n",
    "pubV = rospy.Publisher(\"/cmd_vel\", Twist, queue_size=10)\n",
    "\n",
    "vLin = 0.5\n",
    "vAng = 1.0\n",
    "vMaxLin = 2.0\n",
    "vMaxAng = 4.0\n",
    "vMinLin = 0.25\n",
    "vMinAng = 0.5"
   ]
  },
  {
   "cell_type": "markdown",
   "id": "fc835b8b",
   "metadata": {},
   "source": [
    "## Menù"
   ]
  },
  {
   "cell_type": "code",
   "execution_count": 4,
   "id": "41bc2c17",
   "metadata": {
    "ExecuteTime": {
     "end_time": "2022-03-28T09:45:33.677943Z",
     "start_time": "2022-03-28T09:45:33.638216Z"
    }
   },
   "outputs": [],
   "source": [
    "#### In this cell we define all the widgets used in this UI"
   ]
  },
  {
   "cell_type": "code",
   "execution_count": 5,
   "id": "3b098076",
   "metadata": {
    "ExecuteTime": {
     "end_time": "2022-03-28T09:45:35.237330Z",
     "start_time": "2022-03-28T09:45:33.681537Z"
    },
    "hide_input": false
   },
   "outputs": [],
   "source": [
    "# definition of the widgets for the position publication\n",
    "xBox = widgets.BoundedFloatText(\n",
    "    value=0.0,\n",
    "    min=-10.00,\n",
    "    max=10.0,\n",
    "    step=1,\n",
    "    description='X:',\n",
    "    disabled=False\n",
    ")\n",
    "yBox = widgets.BoundedFloatText(\n",
    "    value=0.0,\n",
    "    min=-10.0,\n",
    "    max=10.0,\n",
    "    step=1,\n",
    "    description='Y:',\n",
    "    disabled=False\n",
    ")\n",
    "# definition of the buttons\n",
    "bc = widgets.Button(\n",
    "    description='Cancel the goal',\n",
    "    disabled=False,\n",
    "    button_style='',\n",
    "    tootltip='Click me',\n",
    "    icon=''\n",
    ")\n",
    "bt = widgets.Button(\n",
    "    description='PUBLISH!',\n",
    "    disabled=False,\n",
    "    button_style='',\n",
    "    tootltip='Click me',\n",
    "    icon=''\n",
    ")\n",
    "\n",
    "\n",
    "# Buttons for the keyboard drive\n",
    "b_front = widgets.Button(\n",
    "    description='FRONT',\n",
    "    disabled=False,\n",
    "    button_style='',\n",
    "    tootltip='Click me',\n",
    "    icon=''\n",
    ")\n",
    "b_front_r = widgets.Button(\n",
    "    description='FRONT-R',\n",
    "    disabled=False,\n",
    "    button_style='',\n",
    "    tootltip='Click me',\n",
    "    icon=''\n",
    ")\n",
    "b_front_l = widgets.Button(\n",
    "    description='FRONT-L',\n",
    "    disabled=False,\n",
    "    button_style='',\n",
    "    tootltip='Click me',\n",
    "    icon=''\n",
    ")\n",
    "b_stop = widgets.Button(\n",
    "    description='STOP',\n",
    "    disabled=False,\n",
    "    button_style='',\n",
    "    tootltip='Click me',\n",
    "    icon=''\n",
    ")\n",
    "b_turn_l = widgets.Button(\n",
    "    description='TURN-L',\n",
    "    disabled=False,\n",
    "    button_style='',\n",
    "    tootltip='Click me',\n",
    "    icon=''\n",
    ")\n",
    "b_turn_r = widgets.Button(\n",
    "    description='TURN-R',\n",
    "    disabled=False,\n",
    "    button_style='',\n",
    "    tootltip='Click me',\n",
    "    icon=''\n",
    ")\n",
    "b_decrease = widgets.Button(\n",
    "    description='DEC. VEL',\n",
    "    disabled=False,\n",
    "    button_style='',\n",
    "    tootltip='Click me',\n",
    "    icon=''\n",
    ")\n",
    "b_increase = widgets.Button(\n",
    "    description='INC. VEL',\n",
    "    disabled=False,\n",
    "    button_style='',\n",
    "    tootltip='Click me',\n",
    "    icon=''\n",
    ")\n",
    "b_back = widgets.Button(\n",
    "    description='BACK',\n",
    "    disabled=False,\n",
    "    button_style='',\n",
    "    tootltip='Click me',\n",
    "    icon=''\n",
    ")\n",
    "\n",
    "# Definition of the rows to show\n",
    "first_row=widgets.HBox([b_front_l, b_front, b_front_r])\n",
    "second_row=widgets.HBox([b_turn_l, b_stop, b_turn_r])\n",
    "third_row=widgets.HBox([b_back, b_increase, b_decrease])"
   ]
  },
  {
   "cell_type": "code",
   "execution_count": 6,
   "id": "54b6297a",
   "metadata": {
    "ExecuteTime": {
     "end_time": "2022-03-28T09:45:35.360080Z",
     "start_time": "2022-03-28T09:45:35.281358Z"
    }
   },
   "outputs": [],
   "source": [
    "#### Here we define all the functions used for the widgets"
   ]
  },
  {
   "cell_type": "code",
   "execution_count": 7,
   "id": "245c5577",
   "metadata": {
    "ExecuteTime": {
     "end_time": "2022-03-28T09:45:35.719138Z",
     "start_time": "2022-03-28T09:45:35.424737Z"
    }
   },
   "outputs": [],
   "source": [
    "# Functions for the enable buttons\n",
    "def enable_goal():\n",
    "    publication_goal = True\n",
    "    publication_cancel = False\n",
    "    publication_keyboard = False\n",
    "\n",
    "def enable_cancel():\n",
    "    publication_goal = False\n",
    "    publication_cancel = True\n",
    "    publication_keyboard = False\n",
    "\n",
    "def enable_keyboard():\n",
    "    publication_goal = False\n",
    "    publication_cancel = False\n",
    "    publication_keyboard = True\n",
    "\n",
    "# Functions for the click button of the keyboard\n",
    "def front_vel(b_front):\n",
    "    global vLin\n",
    "    global pubV\n",
    "    global v\n",
    "    v = Twist()\n",
    "    v.linear.x = vLin\n",
    "    v.angular.z = 0.0\n",
    "    pubV.publish(v)\n",
    "    \n",
    "def front_r_vel(b_front_r):\n",
    "    global vLin\n",
    "    global vAng\n",
    "    global v\n",
    "    v = Twist()\n",
    "    v.linear.x = vLin\n",
    "    v.angular.z = -vAng\n",
    "    pubV.publish(v)\n",
    "    \n",
    "def front_l_vel(b_front_l):\n",
    "    global vLin\n",
    "    global vAng\n",
    "    global v\n",
    "    v = Twist()\n",
    "    v.linear.x = vLin\n",
    "    v.angular.z = vAng\n",
    "    pubV.publish(v)\n",
    "    \n",
    "def turn_r_vel(b_turn_r):\n",
    "    global vAng\n",
    "    global v\n",
    "    v = Twist()\n",
    "    v.linear.x = 0.0\n",
    "    v.angular.z = -vAng\n",
    "    pubV.publish(v)\n",
    "    \n",
    "def turn_l_vel(b_turn_l):\n",
    "    global vAng\n",
    "    global v\n",
    "    v = Twist()\n",
    "    v.linear.x = 0.0\n",
    "    v.angular.z = vAng\n",
    "    pubV.publish(v)\n",
    "    \n",
    "def back_vel(b_back):\n",
    "    global vLin\n",
    "    global v\n",
    "    v = Twist()\n",
    "    v.linear.x = -vLin\n",
    "    v.angular.z = 0.0\n",
    "    pubV.publish(v)\n",
    "    \n",
    "def stop_vel(b_stop):\n",
    "    global v\n",
    "    v = Twist()\n",
    "    v.linear.x = 0.0\n",
    "    v.angular.z = 0.0\n",
    "    pubV.publish(v)\n",
    "    \n",
    "def inc_vel(b_increase):\n",
    "    global vLin\n",
    "    global vAng\n",
    "    global vMaxLin\n",
    "    global vMaxAng\n",
    "    global vMinLin\n",
    "    global vMinAng\n",
    "    global v\n",
    "    v = Twist()\n",
    "    if((vLin <= vMaxLin) and (vAng <= vMaxAng)):\n",
    "        vLin += 0.1*vLin\n",
    "        vAng += 0.1*vAng\n",
    "    else:\n",
    "        vLin = vMaxLin\n",
    "        vAng = vMaxAng\n",
    "        \n",
    "    v.linear.x = Vlin\n",
    "    v.angular.z = Vang\n",
    "    \n",
    "    pubV.publish(v)\n",
    "    \n",
    "def dec_vel(b_decrease):\n",
    "    global vLin\n",
    "    global vAng\n",
    "    global vMaxLin\n",
    "    global vMaxAng\n",
    "    global vMinLin\n",
    "    global vMinAng\n",
    "    global v\n",
    "    v = Twist()\n",
    "    if((vLin >= vMinLin) and (vAng >= vMinAng)):\n",
    "        vLin -= 0.1*vLin\n",
    "        vAng -= 0.1*vAng\n",
    "    else:\n",
    "        vLin = vMinLin\n",
    "        vAng = vMinAng\n",
    "        \n",
    "    v.linear.x = Vlin\n",
    "    v.angular.z = Vang\n",
    "    \n",
    "    pubV.publish(v)\n",
    "    \n",
    "# Definition of the function for the button click\n",
    "# Function of the button bt to publish the position\n",
    "def pub_pos(bt):\n",
    "    global g\n",
    "    g = MoveBaseActionGoal()\n",
    "    g.goal.target_pose.header.frame_id = \"map\"\n",
    "    g.goal.target_pose.pose.position.x = xBox.value\n",
    "    g.goal.target_pose.pose.position.y = yBox.value\n",
    "    g.goal.target_pose.pose.orientation.w = 1.0\n",
    "    g.goal_id.id = \"g\"\n",
    "    pub.publish(g)\n",
    "    \n",
    "# Function of the button bc to cancel the goal\n",
    "def bc_observer(bc):\n",
    "    global gCanc\n",
    "    global g\n",
    "    gCanc = GoalID()\n",
    "    if(g.goal_id.id == \"g\"):\n",
    "        gCanc.id = g.goal_id.id\n",
    "        pubC.publish(gCanc)\n",
    "        g.goal_id.id = \"\"\n",
    "        print(\"Goal cancelled successfully\")\n",
    "    else:\n",
    "        print(\"No goal to cancel\")"
   ]
  },
  {
   "cell_type": "markdown",
   "id": "16efe8d5",
   "metadata": {},
   "source": [
    "## Publish a (x,y) position"
   ]
  },
  {
   "cell_type": "code",
   "execution_count": 8,
   "id": "2bc38796",
   "metadata": {
    "ExecuteTime": {
     "end_time": "2022-03-28T09:45:36.081807Z",
     "start_time": "2022-03-28T09:45:35.758719Z"
    }
   },
   "outputs": [
    {
     "data": {
      "application/vnd.jupyter.widget-view+json": {
       "model_id": "124c1f2c49974b3f81489fb6bd4ac2b3",
       "version_major": 2,
       "version_minor": 0
      },
      "text/plain": [
       "VBox(children=(BoundedFloatText(value=0.0, description='X:', max=10.0, min=-10.0, step=1.0), BoundedFloatText(…"
      ]
     },
     "metadata": {},
     "output_type": "display_data"
    },
    {
     "data": {
      "application/vnd.jupyter.widget-view+json": {
       "model_id": "6e1f5cb9532d4fd59a059df4a4d126b7",
       "version_major": 2,
       "version_minor": 0
      },
      "text/plain": [
       "Button(description='PUBLISH!', style=ButtonStyle())"
      ]
     },
     "metadata": {},
     "output_type": "display_data"
    }
   ],
   "source": [
    "# Code fot the publication with the bt button\n",
    "display(widgets.VBox([xBox, yBox]))\n",
    "display(bt)\n",
    "bt.on_click(pub_pos)"
   ]
  },
  {
   "cell_type": "markdown",
   "id": "3e2b51b4",
   "metadata": {},
   "source": [
    "## Cancel the current goal"
   ]
  },
  {
   "cell_type": "code",
   "execution_count": 9,
   "id": "1e04d55a",
   "metadata": {
    "ExecuteTime": {
     "end_time": "2022-03-28T09:45:36.176246Z",
     "start_time": "2022-03-28T09:45:36.118459Z"
    }
   },
   "outputs": [
    {
     "data": {
      "application/vnd.jupyter.widget-view+json": {
       "model_id": "8984049ebb6147a6a880e8d3aefaf4b3",
       "version_major": 2,
       "version_minor": 0
      },
      "text/plain": [
       "Button(description='Cancel the goal', style=ButtonStyle())"
      ]
     },
     "metadata": {},
     "output_type": "display_data"
    },
    {
     "name": "stdout",
     "output_type": "stream",
     "text": [
      "Goal cancelled successfully\n"
     ]
    }
   ],
   "source": [
    "# Code to cancel the current goal set\n",
    "display(bc)\n",
    "bc.on_click(bc_observer)"
   ]
  },
  {
   "cell_type": "markdown",
   "id": "cc06b25d",
   "metadata": {},
   "source": [
    "## Drive by keyboard"
   ]
  },
  {
   "cell_type": "code",
   "execution_count": 10,
   "id": "afdafd28",
   "metadata": {
    "ExecuteTime": {
     "end_time": "2022-03-28T09:45:36.460993Z",
     "start_time": "2022-03-28T09:45:36.209022Z"
    },
    "scrolled": true
   },
   "outputs": [
    {
     "data": {
      "application/vnd.jupyter.widget-view+json": {
       "model_id": "33c737c39f1d4beba597e3aa2ebfe08b",
       "version_major": 2,
       "version_minor": 0
      },
      "text/plain": [
       "VBox(children=(HBox(children=(Button(description='FRONT-L', style=ButtonStyle()), Button(description='FRONT', …"
      ]
     },
     "metadata": {},
     "output_type": "display_data"
    }
   ],
   "source": [
    "# Code to drive the robot by the keyboard use\n",
    "display(widgets.VBox([first_row, second_row, third_row]))\n",
    "\n",
    "b_front.on_click(front_vel)\n",
    "b_front_r.on_click(front_r_vel)\n",
    "b_front_l.on_click(front_l_vel)\n",
    "b_turn_r.on_click(turn_r_vel)\n",
    "b_turn_l.on_click(turn_l_vel)\n",
    "b_back.on_click(back_vel)\n",
    "b_stop.on_click(stop_vel)\n",
    "b_increase.on_click(inc_vel)\n",
    "b_decrease.on_click(dec_vel)"
   ]
  },
  {
   "cell_type": "markdown",
   "id": "b4e8d6f8",
   "metadata": {},
   "source": [
    "## Map"
   ]
  },
  {
   "cell_type": "code",
   "execution_count": 11,
   "id": "df02ca28",
   "metadata": {
    "ExecuteTime": {
     "end_time": "2022-03-28T09:45:36.688107Z",
     "start_time": "2022-03-28T09:45:36.479813Z"
    },
    "hide_input": false,
    "scrolled": true
   },
   "outputs": [
    {
     "data": {
      "application/vnd.jupyter.widget-view+json": {
       "model_id": "d63b65e054ab427d89f633606335770b",
       "version_major": 2,
       "version_minor": 0
      },
      "text/plain": [
       "Viewer(objects=[GridModel(), LaserScan(ros=ROSConnection(url='ws://localhost:9090'), tf_client=TFClient(fixed_…"
      ]
     },
     "metadata": {},
     "output_type": "display_data"
    }
   ],
   "source": [
    "# Definition of the elements needed for the map\n",
    "v = ros3d.Viewer()\n",
    "rc = ros3d.ROSConnection(url=\"ws://localhost:9090\") \n",
    "tf_client = ros3d.TFClient(ros=rc, fixed_frame='map')\n",
    "laser_view = ros3d.LaserScan(topic=\"/scan\", ros=rc, tf_client=tf_client) \n",
    "map_view = ros3d.OccupancyGrid(topic=\"/map\", ros=rc, tf_client=tf_client) \n",
    "path = ros3d.Path(topic=\"/move_base/NavfnROS/plan\", ros=rc, tf_client=tf_client)\n",
    "urdf = ros3d.URDFModel(ros=rc, tf_client=tf_client, path=os.environ.get('JUPYROS_ASSETS_URL', 'http://localhost:3000')) \n",
    "g = ros3d.GridModel()\n",
    "v.objects = [g, laser_view, map_view, path, urdf]\n",
    "\n",
    "# Map visualization\n",
    "v"
   ]
  },
  {
   "cell_type": "code",
   "execution_count": null,
   "id": "74c2b1e3",
   "metadata": {},
   "outputs": [],
   "source": []
  }
 ],
 "metadata": {
  "kernelspec": {
   "display_name": "Python 3 (ipykernel)",
   "language": "python",
   "name": "python3"
  },
  "language_info": {
   "codemirror_mode": {
    "name": "ipython",
    "version": 3
   },
   "file_extension": ".py",
   "mimetype": "text/x-python",
   "name": "python",
   "nbconvert_exporter": "python",
   "pygments_lexer": "ipython3",
   "version": "3.8.5"
  }
 },
 "nbformat": 4,
 "nbformat_minor": 5
}

{
 "cells": [
  {
   "cell_type": "markdown",
   "id": "4b86663c",
   "metadata": {
    "hide_input": true
   },
   "source": [
    "# UI for RT1_Assignment3"
   ]
  },
  {
   "cell_type": "code",
   "execution_count": 1,
   "id": "f8daa6f5",
   "metadata": {
    "ExecuteTime": {
     "end_time": "2022-04-08T14:57:32.100507Z",
     "start_time": "2022-04-08T14:57:07.879144Z"
    },
    "hide_input": false
   },
   "outputs": [],
   "source": [
    "# import\n",
    "from IPython.display import display\n",
    "from move_base_msgs.msg import MoveBaseActionGoal, MoveBaseGoal, MoveBaseActionFeedback\n",
    "from geometry_msgs.msg import Twist\n",
    "import actionlib\n",
    "from actionlib_msgs.msg import GoalID\n",
    "import rospy\n",
    "import ipywidgets as widgets\n",
    "from ipywidgets import Button, Layout, ButtonStyle, GridBox, VBox, HBox, interact, interactive, fixed, interact_manual\n",
    "from __future__ import print_function\n",
    "from jupyros import ros3d \n",
    "import jupyros as jr\n",
    "import os\n",
    "import matplotlib.pyplot as plt\n",
    "import tf\n",
    "import math\n",
    "from nav_msgs.msg import Odometry\n",
    "from sensor_msgs.msg import LaserScan\n",
    "from tf.transformations import quaternion_matrix \n",
    "import numpy as np\n",
    "from matplotlib.animation import FuncAnimation"
   ]
  },
  {
   "cell_type": "code",
   "execution_count": 2,
   "id": "e47d453e",
   "metadata": {
    "ExecuteTime": {
     "end_time": "2022-04-08T14:57:33.310784Z",
     "start_time": "2022-04-08T14:57:32.215637Z"
    }
   },
   "outputs": [],
   "source": [
    "rospy.init_node('UI_node_jupyter')"
   ]
  },
  {
   "cell_type": "code",
   "execution_count": 3,
   "id": "e44f3558",
   "metadata": {
    "ExecuteTime": {
     "end_time": "2022-04-08T14:57:33.477716Z",
     "start_time": "2022-04-08T14:57:33.381948Z"
    }
   },
   "outputs": [],
   "source": [
    "# Functions for the pub and sub\n",
    "def currGoal(m = MoveBaseActionGoal):\n",
    "    global xG \n",
    "    global yG\n",
    "    \n",
    "    xG = m.goal.target_pose.pose.position.x;\n",
    "    yG = m.goal.target_pose.pose.position.x;\n",
    "    \n",
    "def takeStatus(msg = MoveBaseActionFeedback):\n",
    "    global goal_id\n",
    "    global xG\n",
    "    global yG\n",
    "    global th\n",
    "    global tot_reached\n",
    "    \n",
    "    goal_id = msg.status.goal_id.id;\n",
    "    \n",
    "    if(G):\n",
    "        if(abs(msg.feedback.base_position.pose.position.x - xG) <= th and abs(msg.feedback.base_position.pose.position.y - yG) <= th):\n",
    "            cancelGoal()\n",
    "            tot_reached += 1\n",
    "            tot_notReached -= 1\n",
    "            \n",
    "def cancelGoal():\n",
    "    global goal_id\n",
    "    global G\n",
    "    global tot_notReached\n",
    "    \n",
    "    if(G):\n",
    "        goalToCancel = GoalID()\n",
    "        goalToCancel.id = goal_id\n",
    "        pubC.publish(goalToCancel)\n",
    "        G = False\n",
    "        tot_notReached += 1"
   ]
  },
  {
   "cell_type": "code",
   "execution_count": 4,
   "id": "94e5d11b",
   "metadata": {
    "ExecuteTime": {
     "end_time": "2022-04-08T14:57:33.866503Z",
     "start_time": "2022-04-08T14:57:33.457695Z"
    }
   },
   "outputs": [],
   "source": [
    "# Publishers definition\n",
    "pub = rospy.Publisher(\"/move_base/goal\", MoveBaseActionGoal, queue_size = 1)\n",
    "pubC = rospy.Publisher(\"/move_base/cancel\", GoalID, queue_size = 1)\n",
    "pubV = rospy.Publisher(\"/cmd_vel\", Twist, queue_size = 1)\n",
    "\n",
    "# Subscribers definition\n",
    "subM = rospy.Subscriber(\"/move_base/feedback\", MoveBaseActionFeedback, takeStatus);\n",
    "subG = rospy.Subscriber(\"/move_base/goal\", MoveBaseActionGoal, currGoal)"
   ]
  },
  {
   "cell_type": "code",
   "execution_count": 5,
   "id": "24ce7644",
   "metadata": {
    "ExecuteTime": {
     "end_time": "2022-04-08T14:57:33.988790Z",
     "start_time": "2022-04-08T14:57:33.876353Z"
    },
    "hide_input": false
   },
   "outputs": [],
   "source": [
    "# Variable for the goal and the cancellation\n",
    "g = MoveBaseActionGoal()\n",
    "v = Twist()\n",
    "\n",
    "# Variables for the linear and angular velocity\n",
    "vLin = 0.5\n",
    "vAng = 1.0\n",
    "vMaxLin = 2.0\n",
    "vMaxAng = 4.0\n",
    "vMinLin = 0.25\n",
    "vMinAng = 0.5\n",
    "\n",
    "# Variable to store the number of times a goal is reached or not reached/cancelled\n",
    "tot_reached = 0\n",
    "tot_notReached = 0\n",
    "\n",
    "# Variable to store the number of pression of a button\n",
    "publish_bt = 0\n",
    "cancel_bt = 0\n",
    "enable_bt = 0\n",
    "front_bt = 0\n",
    "frontR_bt = 0\n",
    "frontL_bt = 0\n",
    "turnR_bt = 0\n",
    "turnL_bt = 0\n",
    "stop_bt = 0\n",
    "back_bt = 0\n",
    "incV_bt = 0\n",
    "decV_bt = 0\n",
    "\n",
    "# Bool\n",
    "G = False\n",
    "\n",
    "# Variable for the current goal position\n",
    "xG = 0\n",
    "yG = 0\n",
    "\n",
    "# Threshold for the distance from the goal\n",
    "th = 0.5\n",
    "\n",
    "# variable defining the angle accuracy of the robot laser scan\n",
    "angle_interval = 0.25\n",
    "\n",
    "# Variable for the keyboard use (initialized to False)\n",
    "# Goal publication: mod = False\n",
    "# Keyboard use: mod = True\n",
    "# Goal Cancellation: mod = False\n",
    "mod = False;"
   ]
  },
  {
   "cell_type": "markdown",
   "id": "fc835b8b",
   "metadata": {},
   "source": [
    "## Menù"
   ]
  },
  {
   "cell_type": "markdown",
   "id": "85267963",
   "metadata": {
    "ExecuteTime": {
     "end_time": "2022-03-30T09:31:05.443705Z",
     "start_time": "2022-03-30T09:31:05.409638Z"
    },
    "hide_input": false
   },
   "source": [
    "#### UI widgets"
   ]
  },
  {
   "cell_type": "code",
   "execution_count": 6,
   "id": "3b098076",
   "metadata": {
    "ExecuteTime": {
     "end_time": "2022-04-08T14:57:36.332451Z",
     "start_time": "2022-04-08T14:57:34.021914Z"
    },
    "hide_input": false
   },
   "outputs": [],
   "source": [
    "# definition of the widgets for the position publication\n",
    "xBox = widgets.BoundedFloatText(\n",
    "    value = 0.0,\n",
    "    min = -20.00,\n",
    "    max = 20.0,\n",
    "    step = 1,\n",
    "    description = 'X:',\n",
    "    disabled = False\n",
    ")\n",
    "yBox = widgets.BoundedFloatText(\n",
    "    value = 0.0,\n",
    "    min = -20.00,\n",
    "    max = 20.0,\n",
    "    step = 1,\n",
    "    description = 'Y:',\n",
    "    disabled = False\n",
    ")\n",
    "\n",
    "\n",
    "# definition of the buttons\n",
    "bc = widgets.Button(\n",
    "    description = 'Cancel the goal',\n",
    "    disabled = False,\n",
    "    button_style='danger',\n",
    "    tootltip = 'Click me',\n",
    "    icon = ''\n",
    ")\n",
    "bt = widgets.Button(\n",
    "    description = 'PUBLISH',\n",
    "    disabled = False,\n",
    "    button_style='',\n",
    "    tootltip = 'Click me',\n",
    "    icon = '',\n",
    "    style = ButtonStyle(button_color = 'lightgreen',\n",
    "                        font_weight='bold')\n",
    ")\n",
    "\n",
    "\n",
    "# Buttons for the keyboard drive\n",
    "b_front = widgets.Button(\n",
    "    description = 'FRONT',\n",
    "    disabled = False,\n",
    "    button_style='',\n",
    "    tootltip = 'Click me',\n",
    "    icon = '',\n",
    "    style = ButtonStyle(button_color = 'lightblue',\n",
    "                        font_weight='bold')\n",
    ")\n",
    "b_front_r = widgets.Button(\n",
    "    description = 'FRONT-R',\n",
    "    disabled = False,\n",
    "    button_style='',\n",
    "    tootltip = 'Click me',\n",
    "    icon = '',\n",
    "    style = ButtonStyle(button_color = 'lightblue',\n",
    "                        font_weight='bold')\n",
    ")\n",
    "b_front_l = widgets.Button(\n",
    "    description = 'FRONT-L',\n",
    "    disabled = False,\n",
    "    button_style='',\n",
    "    tootltip = 'Click me',\n",
    "    icon = '',\n",
    "    style = ButtonStyle(button_color = 'lightblue',\n",
    "                        font_weight='bold')\n",
    ")\n",
    "b_stop = widgets.Button(\n",
    "    description = 'STOP',\n",
    "    disabled = False,\n",
    "    button_style='',\n",
    "    tootltip = 'Click me',\n",
    "    icon = '',\n",
    "    style = ButtonStyle(button_color = 'red',\n",
    "                        font_weight='bold')\n",
    ")\n",
    "b_turn_l = widgets.Button(\n",
    "    description = 'TURN-L',\n",
    "    disabled = False,\n",
    "    button_style='',\n",
    "    tootltip = 'Click me',\n",
    "    icon = '',\n",
    "    style = ButtonStyle(button_color = 'lightblue',\n",
    "                        font_weight='bold')\n",
    ")\n",
    "b_turn_r = widgets.Button(\n",
    "    description = 'TURN-R',\n",
    "    disabled = False,\n",
    "    button_style = '',\n",
    "    tootltip = 'Click me',\n",
    "    icon = '',\n",
    "    style = ButtonStyle(button_color = 'lightblue',\n",
    "                        font_weight='bold')\n",
    ")\n",
    "b_decrease = widgets.Button(\n",
    "    description = 'DEC VEL',\n",
    "    disabled = False,\n",
    "    tootltip = 'Click me',\n",
    "    icon = '',\n",
    "    style = ButtonStyle(button_color = 'yellow',\n",
    "                        font_weight='bold')\n",
    ")\n",
    "b_increase = widgets.Button(\n",
    "    description = 'INC VEL',\n",
    "    disabled = False,\n",
    "    button_style = '',\n",
    "    tootltip = 'Click me',\n",
    "    icon = '',\n",
    "    style = ButtonStyle(button_color = 'green',\n",
    "                        font_weight='bold')\n",
    ")\n",
    "b_back = widgets.Button(\n",
    "    description = 'BACK',\n",
    "    disabled = False,\n",
    "    button_style='',\n",
    "    tootltip = 'Click me',\n",
    "    icon = '',\n",
    "    style = ButtonStyle(button_color = 'lightblue',\n",
    "                        font_weight='bold')\n",
    ")\n",
    "\n",
    "\n",
    "# Buttons for the enable\n",
    "en_keyboard = widgets.Button(\n",
    "    description = 'ENABLE MANUAL',\n",
    "    disabled = False,\n",
    "    button_style='warning',\n",
    "    tootltip = 'Click me',\n",
    "    icon = '',\n",
    "    style = ButtonStyle(font_weight='bold')\n",
    ")\n",
    "\n",
    "# Definition of the rows to show\n",
    "first_row = widgets.HBox([b_front_l, b_front, b_front_r])\n",
    "second_row = widgets.HBox([b_turn_l, b_stop, b_turn_r])\n",
    "third_row = widgets.HBox([b_back, b_increase, b_decrease])"
   ]
  },
  {
   "cell_type": "markdown",
   "id": "14f12511",
   "metadata": {
    "ExecuteTime": {
     "end_time": "2022-03-30T09:31:06.948126Z",
     "start_time": "2022-03-30T09:31:06.921943Z"
    },
    "hide_input": false
   },
   "source": [
    "#### Widgets' function"
   ]
  },
  {
   "cell_type": "code",
   "execution_count": 7,
   "id": "245c5577",
   "metadata": {
    "ExecuteTime": {
     "end_time": "2022-04-08T14:57:36.848838Z",
     "start_time": "2022-04-08T14:57:36.337637Z"
    },
    "hide_input": false
   },
   "outputs": [],
   "source": [
    "# Functions for the click button of the keyboard\n",
    "def front_vel(b_front):\n",
    "    global pubV\n",
    "    global vLin\n",
    "    global v\n",
    "    global mod\n",
    "    global front_bt\n",
    "    \n",
    "    front_bt += 1\n",
    "    \n",
    "    if(mod):\n",
    "        v.linear.x = vLin\n",
    "        v.angular.z = 0.0\n",
    "        pubV.publish(v)\n",
    "    \n",
    "def front_r_vel(b_front_r):\n",
    "    global pubV\n",
    "    global vLin\n",
    "    global vAng\n",
    "    global v\n",
    "    global mod\n",
    "    global frontR_bt\n",
    "    \n",
    "    frontR_bt += 1\n",
    "    \n",
    "    if(mod):\n",
    "        v.linear.x = vLin\n",
    "        v.angular.z = -vAng\n",
    "        pubV.publish(v)\n",
    "    \n",
    "def front_l_vel(b_front_l):\n",
    "    global pubV\n",
    "    global vLin\n",
    "    global vAng\n",
    "    global v\n",
    "    global mod\n",
    "    global frontL_bt\n",
    "    \n",
    "    frontL_bt += 1\n",
    "    \n",
    "    if(mod):\n",
    "        v.linear.x = vLin\n",
    "        v.angular.z = vAng\n",
    "        pubV.publish(v)\n",
    "    \n",
    "def turn_r_vel(b_turn_r):\n",
    "    global pubV\n",
    "    global vAng\n",
    "    global v\n",
    "    global mod\n",
    "    global turnR_bt\n",
    "    \n",
    "    turnR_bt += 1\n",
    "    \n",
    "    if(mod):\n",
    "        v.linear.x = 0.0\n",
    "        v.angular.z = -vAng\n",
    "        pubV.publish(v)\n",
    "    \n",
    "def turn_l_vel(b_turn_l):\n",
    "    global pubV\n",
    "    global vAng\n",
    "    global v\n",
    "    global mod\n",
    "    global turnL_bt\n",
    "    \n",
    "    turnL_bt += 1\n",
    "    \n",
    "    if(mod):\n",
    "        v.linear.x = 0.0\n",
    "        v.angular.z = vAng\n",
    "        pubV.publish(v)\n",
    "    \n",
    "def back_vel(b_back):\n",
    "    global pubV\n",
    "    global vLin\n",
    "    global v\n",
    "    global mod\n",
    "    global back_bt\n",
    "    \n",
    "    back_bt += 1\n",
    "    \n",
    "    if(mod):\n",
    "        v.linear.x = -vLin\n",
    "        v.angular.z = 0.0\n",
    "        pubV.publish(v)\n",
    "    \n",
    "def stop_vel(b_stop):\n",
    "    global pubV\n",
    "    global v\n",
    "    global mod\n",
    "    global stop_bt\n",
    "    \n",
    "    stop_bt += 1\n",
    "    \n",
    "    if(mod):\n",
    "        v.linear.x = 0.0\n",
    "        v.angular.z = 0.0\n",
    "        pubV.publish(v)\n",
    "    \n",
    "def inc_vel(b_increase):\n",
    "    global vLin\n",
    "    global vAng\n",
    "    global vMaxLin\n",
    "    global vMaxAng\n",
    "    global vMinLin\n",
    "    global vMinAng\n",
    "    global mod\n",
    "    global incV_bt\n",
    "    \n",
    "    incV_bt += 1\n",
    "    \n",
    "    if(mod):\n",
    "        if((vLin <= vMaxLin) and (vAng <= vMaxAng)):\n",
    "            vLin += 0.1*vLin\n",
    "            vAng += 0.1*vAng\n",
    "        else:\n",
    "            vLin = vMaxLin\n",
    "            vAng = vMaxAng\n",
    "    \n",
    "def dec_vel(b_decrease):\n",
    "    global vLin\n",
    "    global vAng\n",
    "    global vMaxLin\n",
    "    global vMaxAng\n",
    "    global vMinLin\n",
    "    global vMinAng\n",
    "    global mod\n",
    "    global decV_bt\n",
    "    \n",
    "    decV_bt += 1\n",
    "    \n",
    "    if(mod):\n",
    "        if((vLin >= vMinLin) and (vAng >= vMinAng)):\n",
    "            vLin -= 0.1*vLin\n",
    "            vAng -= 0.1*vAng\n",
    "        else:\n",
    "            vLin = vMinLin\n",
    "            vAng = vMinAng\n",
    "    \n",
    "# Definition of the function for the button click\n",
    "# Function for the button bt to publish the position\n",
    "def pub_pos(bt):\n",
    "    global G\n",
    "    global pub\n",
    "    global g\n",
    "    global mod\n",
    "    global v\n",
    "    global pub\n",
    "    global publish_bt\n",
    "    \n",
    "    publish_bt += 1\n",
    "    \n",
    "    if(mod):\n",
    "        mod = False\n",
    "    \n",
    "    # if there is already a goal it will be cancelled\n",
    "    if(G):\n",
    "        cancelGoal()\n",
    "    \n",
    "    g.goal.target_pose.header.frame_id = \"map\"\n",
    "    g.goal.target_pose.pose.position.x = xBox.value\n",
    "    g.goal.target_pose.pose.position.y = yBox.value\n",
    "    g.goal.target_pose.pose.orientation.w = 1.0\n",
    "    pub.publish(g)\n",
    "    G = True\n",
    "    \n",
    "# Function for the button bc to cancel the goal\n",
    "def bc_observer(bc):\n",
    "    global mod\n",
    "    global cancel_bt\n",
    "    \n",
    "    cancel_bt += 1\n",
    "    \n",
    "    mod = False\n",
    "    cancelGoal()\n",
    "\n",
    "# Function for the button en_keybord\n",
    "def key_fun(en_keyboard):\n",
    "    global mod\n",
    "    global enable_bt\n",
    "    \n",
    "    enable_bt += 1\n",
    "    \n",
    "    mod = True\n",
    "    cancelGoal()"
   ]
  },
  {
   "cell_type": "markdown",
   "id": "16efe8d5",
   "metadata": {
    "hide_input": true
   },
   "source": [
    "## Publish a (x,y) position"
   ]
  },
  {
   "cell_type": "code",
   "execution_count": 8,
   "id": "2bc38796",
   "metadata": {
    "ExecuteTime": {
     "end_time": "2022-04-08T14:57:37.275787Z",
     "start_time": "2022-04-08T14:57:36.917640Z"
    },
    "hide_input": false,
    "scrolled": true
   },
   "outputs": [
    {
     "data": {
      "application/vnd.jupyter.widget-view+json": {
       "model_id": "f1e0d319558248e0bb8d44939fecd100",
       "version_major": 2,
       "version_minor": 0
      },
      "text/plain": [
       "VBox(children=(BoundedFloatText(value=0.0, description='X:', max=20.0, min=-20.0, step=1.0), BoundedFloatText(…"
      ]
     },
     "metadata": {},
     "output_type": "display_data"
    },
    {
     "data": {
      "application/vnd.jupyter.widget-view+json": {
       "model_id": "92974d80f7d0422b9ef75e728ed98ae9",
       "version_major": 2,
       "version_minor": 0
      },
      "text/plain": [
       "Button(description='PUBLISH', style=ButtonStyle(button_color='lightgreen', font_weight='bold'))"
      ]
     },
     "metadata": {},
     "output_type": "display_data"
    }
   ],
   "source": [
    "# Code fot the publication with the bt button\n",
    "display(widgets.VBox([xBox, yBox]))\n",
    "display(bt)\n",
    "\n",
    "bt.on_click(pub_pos)"
   ]
  },
  {
   "cell_type": "markdown",
   "id": "3e2b51b4",
   "metadata": {
    "hide_input": true
   },
   "source": [
    "## Cancel the current goal"
   ]
  },
  {
   "cell_type": "code",
   "execution_count": 9,
   "id": "1e04d55a",
   "metadata": {
    "ExecuteTime": {
     "end_time": "2022-04-08T14:57:37.517568Z",
     "start_time": "2022-04-08T14:57:37.279112Z"
    },
    "hide_input": false
   },
   "outputs": [
    {
     "data": {
      "application/vnd.jupyter.widget-view+json": {
       "model_id": "8015134bfe9446eca98c657e15a98828",
       "version_major": 2,
       "version_minor": 0
      },
      "text/plain": [
       "Button(button_style='danger', description='Cancel the goal', style=ButtonStyle())"
      ]
     },
     "metadata": {},
     "output_type": "display_data"
    }
   ],
   "source": [
    "# Code to cancel the current goal set\n",
    "display(bc)\n",
    "\n",
    "bc.on_click(bc_observer)"
   ]
  },
  {
   "cell_type": "markdown",
   "id": "cc06b25d",
   "metadata": {},
   "source": [
    "## Drive by keyboard"
   ]
  },
  {
   "cell_type": "markdown",
   "id": "e853a28f",
   "metadata": {
    "ExecuteTime": {
     "end_time": "2022-04-03T09:03:51.622496Z",
     "start_time": "2022-04-03T09:03:51.594961Z"
    }
   },
   "source": [
    "### In order to use the keyboard below, you first need to enable it by clicking the button.\n",
    "#### To increment or decrement the velocity click the button and then press a command to make the differences visible"
   ]
  },
  {
   "cell_type": "code",
   "execution_count": 10,
   "id": "afdafd28",
   "metadata": {
    "ExecuteTime": {
     "end_time": "2022-04-08T14:57:38.099544Z",
     "start_time": "2022-04-08T14:57:37.618603Z"
    },
    "hide_input": false,
    "scrolled": true
   },
   "outputs": [
    {
     "data": {
      "application/vnd.jupyter.widget-view+json": {
       "model_id": "59074f69feba42dcbe11f6da80b6d069",
       "version_major": 2,
       "version_minor": 0
      },
      "text/plain": [
       "Button(button_style='warning', description='ENABLE MANUAL', style=ButtonStyle(font_weight='bold'))"
      ]
     },
     "metadata": {},
     "output_type": "display_data"
    },
    {
     "data": {
      "application/vnd.jupyter.widget-view+json": {
       "model_id": "8d771ae8cf17473e85a4ce0383241647",
       "version_major": 2,
       "version_minor": 0
      },
      "text/plain": [
       "VBox(children=(HBox(children=(Button(description='FRONT-L', style=ButtonStyle(button_color='lightblue', font_w…"
      ]
     },
     "metadata": {},
     "output_type": "display_data"
    }
   ],
   "source": [
    "# Button to enable the keyboard use\n",
    "display(en_keyboard)\n",
    "\n",
    "en_keyboard.on_click(key_fun)\n",
    "\n",
    "# Code to drive the robot by the keyboard use\n",
    "display(widgets.VBox([first_row, second_row, third_row]))\n",
    "\n",
    "b_front.on_click(front_vel)\n",
    "b_front_r.on_click(front_r_vel)\n",
    "b_front_l.on_click(front_l_vel)\n",
    "b_turn_r.on_click(turn_r_vel)\n",
    "b_turn_l.on_click(turn_l_vel)\n",
    "b_back.on_click(back_vel)\n",
    "b_stop.on_click(stop_vel)\n",
    "b_increase.on_click(inc_vel)\n",
    "b_decrease.on_click(dec_vel)"
   ]
  },
  {
   "cell_type": "markdown",
   "id": "b4e8d6f8",
   "metadata": {},
   "source": [
    "## Map"
   ]
  },
  {
   "cell_type": "code",
   "execution_count": 21,
   "id": "df02ca28",
   "metadata": {
    "ExecuteTime": {
     "end_time": "2022-04-08T14:56:25.170465Z",
     "start_time": "2022-04-08T14:56:24.587823Z"
    },
    "hide_input": false,
    "scrolled": true
   },
   "outputs": [
    {
     "data": {
      "application/vnd.jupyter.widget-view+json": {
       "model_id": "2a0c768c598b4263ad1b60a004df5da5",
       "version_major": 2,
       "version_minor": 0
      },
      "text/plain": [
       "Viewer(objects=[GridModel(), LaserScan(ros=ROSConnection(url='ws://localhost:9090'), tf_client=TFClient(fixed_…"
      ]
     },
     "metadata": {},
     "output_type": "display_data"
    }
   ],
   "source": [
    "# Definition of the elements needed for the map\n",
    "view = ros3d.Viewer()\n",
    "rc = ros3d.ROSConnection(url = \"ws://localhost:9090\") \n",
    "tf_client = ros3d.TFClient(ros = rc, fixed_frame = 'map')\n",
    "laser_view = ros3d.LaserScan(topic = \"/scan\", ros = rc, tf_client = tf_client) \n",
    "map_view = ros3d.OccupancyGrid(topic = \"/map\", ros = rc, tf_client = tf_client) \n",
    "path = ros3d.Path(topic = \"/move_base/NavfnROS/plan\", ros = rc, tf_client = tf_client)\n",
    "urdf = ros3d.URDFModel(ros = rc, tf_client = tf_client, path = os.environ.get('JUPYROS_ASSETS_URL', 'http://localhost:3000')) \n",
    "grid = ros3d.GridModel()\n",
    "view.objects = [grid, laser_view, map_view, path, urdf]\n",
    "\n",
    "# Map visualization\n",
    "view"
   ]
  },
  {
   "cell_type": "markdown",
   "id": "2152cb9d",
   "metadata": {},
   "source": [
    "## Histogram chart to store the amount of goal reached and not reached or cancelled"
   ]
  },
  {
   "cell_type": "code",
   "execution_count": 22,
   "id": "6d50c081",
   "metadata": {
    "ExecuteTime": {
     "end_time": "2022-04-08T14:56:26.686401Z",
     "start_time": "2022-04-08T14:56:25.276511Z"
    },
    "scrolled": true
   },
   "outputs": [
    {
     "data": {
      "application/vnd.jupyter.widget-view+json": {
       "model_id": "691281ef778045eba78a69b45dadd083",
       "version_major": 2,
       "version_minor": 0
      },
      "text/plain": [
       "Canvas(toolbar=Toolbar(toolitems=[('Home', 'Reset original view', 'home', 'home'), ('Back', 'Back to previous …"
      ]
     },
     "metadata": {},
     "output_type": "display_data"
    }
   ],
   "source": [
    "%matplotlib widget\n",
    "\n",
    "class HistVisualiser:\n",
    "    def __init__(self):\n",
    "        self.fig, self.ax = plt.subplots() \n",
    "        self.ln, = plt.plot([], [], 'ro')\n",
    "        \n",
    "    def hist_init(self):\n",
    "        return self.ln\n",
    "    \n",
    "    def hist_callback(self, msg):\n",
    "        global tot_reached\n",
    "        global tot_notReached\n",
    "        \n",
    "        index = np.arange(1);\n",
    "        eConf = {'ecolor': '0.3'}\n",
    "        num_reached = (tot_reached); std_reached = (0) \n",
    "        num_notReached = (tot_notReached); std_notReached = (0)\n",
    "        plt.bar(index, num_reached, align = 'edge', width = 0.4, alpha = 1, color = 'g', yerr = std_reached, error_kw = eConf, label = 'Goal Reached') \n",
    "        plt.bar(index+0.5, num_notReached, align = 'edge', width = 0.4, alpha = 1, color = 'r', yerr = std_notReached, error_kw = eConf, label = 'Goal Not Reached/Cancelled')\n",
    "        plt.title('Goal reached vs not reached/cancelled')\n",
    "        \n",
    "    def update_hist(self, frame):  \n",
    "        return self.ln\n",
    "    \n",
    "visH = HistVisualiser()\n",
    "# Used a subscription to the /odom topic to have the possibility to spin the program automatically\n",
    "subH = rospy.Subscriber('/odom', Odometry, visH.hist_callback)\n",
    "aniH = FuncAnimation(visH.fig, visH.update_hist, init_func = visH.hist_init)"
   ]
  },
  {
   "cell_type": "markdown",
   "id": "91876c83",
   "metadata": {},
   "source": [
    "## Path trajectory followed by the robot"
   ]
  },
  {
   "cell_type": "code",
   "execution_count": 13,
   "id": "b2c561c6",
   "metadata": {
    "ExecuteTime": {
     "end_time": "2022-04-08T14:58:18.368025Z",
     "start_time": "2022-04-08T14:58:17.196256Z"
    }
   },
   "outputs": [
    {
     "data": {
      "application/vnd.jupyter.widget-view+json": {
       "model_id": "013205ff055d49ad92733cdec4ffaf41",
       "version_major": 2,
       "version_minor": 0
      },
      "text/plain": [
       "Canvas(toolbar=Toolbar(toolitems=[('Home', 'Reset original view', 'home', 'home'), ('Back', 'Back to previous …"
      ]
     },
     "metadata": {},
     "output_type": "display_data"
    }
   ],
   "source": [
    "%matplotlib widget\n",
    "\n",
    "class Visualiser:\n",
    "    def __init__(self):\n",
    "        self.fig, self.ax = plt.subplots() \n",
    "        self.ln, = plt.plot([], [], 'ro') \n",
    "        self.x_data, self.y_data = [] , []\n",
    "        \n",
    "    def plot_init(self): \n",
    "        self.ax.set_xlim(-10, 10) \n",
    "        self.ax.set_ylim(-10, 10) \n",
    "        return self.ln\n",
    "    \n",
    "    def odom_callback(self, msg): \n",
    "        self.y_data.append(msg.pose.pose.position.y) \n",
    "        self.x_data.append(msg.pose.pose.position.x)\n",
    "        \n",
    "    def update_plot(self, frame): \n",
    "        self.ln.set_data(self.x_data, self.y_data) \n",
    "        return self.ln\n",
    "    \n",
    "vis = Visualiser()\n",
    "subO = rospy.Subscriber('/odom', Odometry, vis.odom_callback)\n",
    "ani = FuncAnimation(vis.fig, vis.update_plot, init_func = vis.plot_init) "
   ]
  },
  {
   "cell_type": "markdown",
   "id": "c5f7984d",
   "metadata": {},
   "source": [
    "## Laser scan in the robot frame"
   ]
  },
  {
   "cell_type": "code",
   "execution_count": null,
   "id": "17653be5",
   "metadata": {
    "ExecuteTime": {
     "start_time": "2022-04-08T15:42:48.726Z"
    },
    "scrolled": false
   },
   "outputs": [],
   "source": [
    "%matplotlib widget\n",
    "\n",
    "class LaserVisualiser:\n",
    "    \n",
    "    global angle_interval\n",
    "    \n",
    "    def __init__(self):\n",
    "        self.fig, self.ax = plt.subplots() \n",
    "        self.ln, = plt.plot([], [], 'r.') \n",
    "        self.x_data, self.y_data = [] , []\n",
    "    \n",
    "    def laser_init(self): \n",
    "        self.ax.set_xlim(-360, 360) \n",
    "        self.ax.set_ylim(0, 10) \n",
    "        return self.ln\n",
    "    \n",
    "    def laser_callback(self, msg):\n",
    "        \n",
    "        for i in range(0,719,1):\n",
    "            intensity = msg.ranges[i]\n",
    "            theta = (angle_interval * i - 90) * 2 * math.pi/360\n",
    "            if(i < 360):\n",
    "                x_datum = intensity * math.cos(theta)\n",
    "            \n",
    "            elif(i > 360):\n",
    "                x_datum = - intensity * math.cos(theta)\n",
    "                \n",
    "            y_datum = intensity * math.sin(theta)\n",
    "            \n",
    "            self.x_data.append(x_datum)\n",
    "            self.y_data.append(y_datum)\n",
    "            #self.x_data.append(i-359)\n",
    "            #self.y_data.append(intensity)\n",
    "            \n",
    "    \n",
    "    def update_laserPlot(self, frame): \n",
    "        self.ln.set_data(self.x_data, self.y_data) \n",
    "        return self.ln\n",
    "    \n",
    "visL = LaserVisualiser()\n",
    "subL = rospy.Subscriber('/scan', LaserScan, visL.laser_callback)\n",
    "aniL = FuncAnimation(visL.fig, visL.update_laserPlot, init_func = visL.laser_init) "
   ]
  },
  {
   "cell_type": "code",
   "execution_count": 35,
   "id": "4f49fd5f",
   "metadata": {
    "ExecuteTime": {
     "end_time": "2022-04-08T15:39:33.904229Z",
     "start_time": "2022-04-08T15:39:32.424069Z"
    }
   },
   "outputs": [
    {
     "name": "stderr",
     "output_type": "stream",
     "text": [
      "[ERROR] [1649432372.459646, 2176.248000]: bad callback: <bound method LaserVisualiser.laser_callback of <__main__.LaserVisualiser object at 0x7ff8b5b161c0>>\n",
      "Traceback (most recent call last):\n",
      "  File \"/opt/ros/noetic/lib/python3/dist-packages/rospy/topics.py\", line 750, in _invoke_callback\n",
      "    cb(msg)\n",
      "  File \"/tmp/ipykernel_3962/47440050.py\", line 32, in laser_callback\n",
      "    self.x_data.aoppend(i)\n",
      "AttributeError: 'list' object has no attribute 'aoppend'\n",
      "\n",
      "[ERROR] [1649432372.515035, 2176.256000]: bad callback: <bound method LaserVisualiser.laser_callback of <__main__.LaserVisualiser object at 0x7ff8b5b16940>>\n",
      "Traceback (most recent call last):\n",
      "  File \"/opt/ros/noetic/lib/python3/dist-packages/rospy/topics.py\", line 750, in _invoke_callback\n",
      "    cb(msg)\n",
      "  File \"/tmp/ipykernel_3962/47440050.py\", line 32, in laser_callback\n",
      "    self.x_data.aoppend(i)\n",
      "AttributeError: 'list' object has no attribute 'aoppend'\n",
      "\n",
      "[ERROR] [1649432372.659051, 2176.278000]: bad callback: <bound method LaserVisualiser.laser_callback of <__main__.LaserVisualiser object at 0x7ff8b5b161c0>>\n",
      "Traceback (most recent call last):\n",
      "  File \"/opt/ros/noetic/lib/python3/dist-packages/rospy/topics.py\", line 750, in _invoke_callback\n",
      "    cb(msg)\n",
      "  File \"/tmp/ipykernel_3962/47440050.py\", line 32, in laser_callback\n",
      "    self.x_data.aoppend(i)\n",
      "AttributeError: 'list' object has no attribute 'aoppend'\n",
      "\n",
      "[ERROR] [1649432372.661370, 2176.278000]: bad callback: <bound method LaserVisualiser.laser_callback of <__main__.LaserVisualiser object at 0x7ff8b5b16940>>\n",
      "Traceback (most recent call last):\n",
      "  File \"/opt/ros/noetic/lib/python3/dist-packages/rospy/topics.py\", line 750, in _invoke_callback\n",
      "    cb(msg)\n",
      "  File \"/tmp/ipykernel_3962/47440050.py\", line 32, in laser_callback\n",
      "    self.x_data.aoppend(i)\n",
      "AttributeError: 'list' object has no attribute 'aoppend'\n",
      "\n",
      "[ERROR] [1649432372.730328, 2176.302000]: bad callback: <bound method LaserVisualiser.laser_callback of <__main__.LaserVisualiser object at 0x7ff8b5b161c0>>\n",
      "Traceback (most recent call last):\n",
      "  File \"/opt/ros/noetic/lib/python3/dist-packages/rospy/topics.py\", line 750, in _invoke_callback\n",
      "    cb(msg)\n",
      "  File \"/tmp/ipykernel_3962/47440050.py\", line 32, in laser_callback\n",
      "    self.x_data.aoppend(i)\n",
      "AttributeError: 'list' object has no attribute 'aoppend'\n",
      "\n"
     ]
    },
    {
     "data": {
      "application/vnd.jupyter.widget-view+json": {
       "model_id": "d620bb2048114320a947df1fa05315e4",
       "version_major": 2,
       "version_minor": 0
      },
      "text/plain": [
       "Canvas(toolbar=Toolbar(toolitems=[('Home', 'Reset original view', 'home', 'home'), ('Back', 'Back to previous …"
      ]
     },
     "metadata": {},
     "output_type": "display_data"
    },
    {
     "name": "stderr",
     "output_type": "stream",
     "text": [
      "[ERROR] [1649432372.764183, 2176.302000]: bad callback: <bound method LaserVisualiser.laser_callback of <__main__.LaserVisualiser object at 0x7ff8b5b16940>>\n",
      "Traceback (most recent call last):\n",
      "  File \"/opt/ros/noetic/lib/python3/dist-packages/rospy/topics.py\", line 750, in _invoke_callback\n",
      "    cb(msg)\n",
      "  File \"/tmp/ipykernel_3962/47440050.py\", line 32, in laser_callback\n",
      "    self.x_data.aoppend(i)\n",
      "AttributeError: 'list' object has no attribute 'aoppend'\n",
      "\n",
      "[ERROR] [1649432372.798518, 2176.302000]: bad callback: <bound method LaserVisualiser.laser_callback of <__main__.LaserVisualiser object at 0x7ff8b5b161c0>>\n",
      "Traceback (most recent call last):\n",
      "  File \"/opt/ros/noetic/lib/python3/dist-packages/rospy/topics.py\", line 750, in _invoke_callback\n",
      "    cb(msg)\n",
      "  File \"/tmp/ipykernel_3962/47440050.py\", line 32, in laser_callback\n",
      "    self.x_data.aoppend(i)\n",
      "AttributeError: 'list' object has no attribute 'aoppend'\n",
      "\n",
      "[ERROR] [1649432372.801943, 2176.302000]: bad callback: <bound method LaserVisualiser.laser_callback of <__main__.LaserVisualiser object at 0x7ff8b5b16940>>\n",
      "Traceback (most recent call last):\n",
      "  File \"/opt/ros/noetic/lib/python3/dist-packages/rospy/topics.py\", line 750, in _invoke_callback\n",
      "    cb(msg)\n",
      "  File \"/tmp/ipykernel_3962/47440050.py\", line 32, in laser_callback\n",
      "    self.x_data.aoppend(i)\n",
      "AttributeError: 'list' object has no attribute 'aoppend'\n",
      "\n",
      "[ERROR] [1649432372.901625, 2176.376000]: bad callback: <bound method LaserVisualiser.laser_callback of <__main__.LaserVisualiser object at 0x7ff8b5b161c0>>\n",
      "Traceback (most recent call last):\n",
      "  File \"/opt/ros/noetic/lib/python3/dist-packages/rospy/topics.py\", line 750, in _invoke_callback\n",
      "    cb(msg)\n",
      "  File \"/tmp/ipykernel_3962/47440050.py\", line 32, in laser_callback\n",
      "    self.x_data.aoppend(i)\n",
      "AttributeError: 'list' object has no attribute 'aoppend'\n",
      "\n",
      "[ERROR] [1649432372.904444, 2176.376000]: bad callback: <bound method LaserVisualiser.laser_callback of <__main__.LaserVisualiser object at 0x7ff8b5b16940>>\n",
      "Traceback (most recent call last):\n",
      "  File \"/opt/ros/noetic/lib/python3/dist-packages/rospy/topics.py\", line 750, in _invoke_callback\n",
      "    cb(msg)\n",
      "  File \"/tmp/ipykernel_3962/47440050.py\", line 32, in laser_callback\n",
      "    self.x_data.aoppend(i)\n",
      "AttributeError: 'list' object has no attribute 'aoppend'\n",
      "\n",
      "[ERROR] [1649432373.315362, 2176.408000]: bad callback: <bound method LaserVisualiser.laser_callback of <__main__.LaserVisualiser object at 0x7ff8b5b161c0>>\n",
      "Traceback (most recent call last):\n",
      "  File \"/opt/ros/noetic/lib/python3/dist-packages/rospy/topics.py\", line 750, in _invoke_callback\n",
      "    cb(msg)\n",
      "  File \"/tmp/ipykernel_3962/47440050.py\", line 32, in laser_callback\n",
      "    self.x_data.aoppend(i)\n",
      "AttributeError: 'list' object has no attribute 'aoppend'\n",
      "\n",
      "[ERROR] [1649432373.329172, 2176.408000]: bad callback: <bound method LaserVisualiser.laser_callback of <__main__.LaserVisualiser object at 0x7ff8b5b16940>>\n",
      "Traceback (most recent call last):\n",
      "  File \"/opt/ros/noetic/lib/python3/dist-packages/rospy/topics.py\", line 750, in _invoke_callback\n",
      "    cb(msg)\n",
      "  File \"/tmp/ipykernel_3962/47440050.py\", line 32, in laser_callback\n",
      "    self.x_data.aoppend(i)\n",
      "AttributeError: 'list' object has no attribute 'aoppend'\n",
      "\n",
      "[ERROR] [1649432373.377674, 2176.408000]: bad callback: <bound method LaserVisualiser.laser_callback of <__main__.LaserVisualiser object at 0x7ff8b5b161c0>>\n",
      "Traceback (most recent call last):\n",
      "  File \"/opt/ros/noetic/lib/python3/dist-packages/rospy/topics.py\", line 750, in _invoke_callback\n",
      "    cb(msg)\n",
      "  File \"/tmp/ipykernel_3962/47440050.py\", line 32, in laser_callback\n",
      "    self.x_data.aoppend(i)\n",
      "AttributeError: 'list' object has no attribute 'aoppend'\n",
      "\n",
      "[ERROR] [1649432373.436295, 2176.413000]: bad callback: <bound method LaserVisualiser.laser_callback of <__main__.LaserVisualiser object at 0x7ff8b5b16940>>\n",
      "Traceback (most recent call last):\n",
      "  File \"/opt/ros/noetic/lib/python3/dist-packages/rospy/topics.py\", line 750, in _invoke_callback\n",
      "    cb(msg)\n",
      "  File \"/tmp/ipykernel_3962/47440050.py\", line 32, in laser_callback\n",
      "    self.x_data.aoppend(i)\n",
      "AttributeError: 'list' object has no attribute 'aoppend'\n",
      "\n",
      "[ERROR] [1649432373.482522, 2176.413000]: bad callback: <bound method LaserVisualiser.laser_callback of <__main__.LaserVisualiser object at 0x7ff8b5b161c0>>\n",
      "Traceback (most recent call last):\n",
      "  File \"/opt/ros/noetic/lib/python3/dist-packages/rospy/topics.py\", line 750, in _invoke_callback\n",
      "    cb(msg)\n",
      "  File \"/tmp/ipykernel_3962/47440050.py\", line 32, in laser_callback\n",
      "    self.x_data.aoppend(i)\n",
      "AttributeError: 'list' object has no attribute 'aoppend'\n",
      "\n",
      "[ERROR] [1649432373.560517, 2176.588000]: bad callback: <bound method LaserVisualiser.laser_callback of <__main__.LaserVisualiser object at 0x7ff8b5b16940>>\n",
      "Traceback (most recent call last):\n",
      "  File \"/opt/ros/noetic/lib/python3/dist-packages/rospy/topics.py\", line 750, in _invoke_callback\n",
      "    cb(msg)\n",
      "  File \"/tmp/ipykernel_3962/47440050.py\", line 32, in laser_callback\n",
      "    self.x_data.aoppend(i)\n",
      "AttributeError: 'list' object has no attribute 'aoppend'\n",
      "\n",
      "[ERROR] [1649432373.680929, 2176.588000]: bad callback: <bound method LaserVisualiser.laser_callback of <__main__.LaserVisualiser object at 0x7ff8b5b161c0>>\n",
      "Traceback (most recent call last):\n",
      "  File \"/opt/ros/noetic/lib/python3/dist-packages/rospy/topics.py\", line 750, in _invoke_callback\n",
      "    cb(msg)\n",
      "  File \"/tmp/ipykernel_3962/47440050.py\", line 32, in laser_callback\n",
      "    self.x_data.aoppend(i)\n",
      "AttributeError: 'list' object has no attribute 'aoppend'\n",
      "\n"
     ]
    },
    {
     "ename": "IndexError",
     "evalue": "list index out of range",
     "output_type": "error",
     "traceback": [
      "\u001b[0;31m---------------------------------------------------------------------------\u001b[0m",
      "\u001b[0;31mIndexError\u001b[0m                                Traceback (most recent call last)",
      "\u001b[0;32m/tmp/ipykernel_3962/2808985206.py\u001b[0m in \u001b[0;36m<module>\u001b[0;34m\u001b[0m\n\u001b[1;32m      9\u001b[0m     \u001b[0mtheta\u001b[0m \u001b[0;34m=\u001b[0m \u001b[0;36m0.25\u001b[0m\u001b[0;34m*\u001b[0m\u001b[0mi\u001b[0m\u001b[0;34m\u001b[0m\u001b[0;34m\u001b[0m\u001b[0m\n\u001b[1;32m     10\u001b[0m     \u001b[0mfig\u001b[0m\u001b[0;34m,\u001b[0m \u001b[0max\u001b[0m \u001b[0;34m=\u001b[0m \u001b[0mplt\u001b[0m\u001b[0;34m.\u001b[0m\u001b[0msubplots\u001b[0m\u001b[0;34m(\u001b[0m\u001b[0msubplot_kw\u001b[0m\u001b[0;34m=\u001b[0m\u001b[0;34m{\u001b[0m\u001b[0;34m'projection'\u001b[0m\u001b[0;34m:\u001b[0m \u001b[0;34m'polar'\u001b[0m\u001b[0;34m}\u001b[0m\u001b[0;34m)\u001b[0m\u001b[0;34m\u001b[0m\u001b[0;34m\u001b[0m\u001b[0m\n\u001b[0;32m---> 11\u001b[0;31m     \u001b[0max\u001b[0m\u001b[0;34m.\u001b[0m\u001b[0mplot\u001b[0m\u001b[0;34m(\u001b[0m\u001b[0mtheta\u001b[0m\u001b[0;34m,\u001b[0m \u001b[0mmsg\u001b[0m\u001b[0;34m.\u001b[0m\u001b[0mranges\u001b[0m\u001b[0;34m[\u001b[0m\u001b[0mi\u001b[0m\u001b[0;34m]\u001b[0m\u001b[0;34m)\u001b[0m\u001b[0;34m\u001b[0m\u001b[0;34m\u001b[0m\u001b[0m\n\u001b[0m\u001b[1;32m     12\u001b[0m     \u001b[0max\u001b[0m\u001b[0;34m.\u001b[0m\u001b[0mset_rmax\u001b[0m\u001b[0;34m(\u001b[0m\u001b[0;36m2\u001b[0m\u001b[0;34m)\u001b[0m\u001b[0;34m\u001b[0m\u001b[0;34m\u001b[0m\u001b[0m\n\u001b[1;32m     13\u001b[0m     \u001b[0max\u001b[0m\u001b[0;34m.\u001b[0m\u001b[0mset_rticks\u001b[0m\u001b[0;34m(\u001b[0m\u001b[0;34m[\u001b[0m\u001b[0;36m0.5\u001b[0m\u001b[0;34m,\u001b[0m \u001b[0;36m1\u001b[0m\u001b[0;34m,\u001b[0m \u001b[0;36m1.5\u001b[0m\u001b[0;34m,\u001b[0m \u001b[0;36m2\u001b[0m\u001b[0;34m]\u001b[0m\u001b[0;34m)\u001b[0m  \u001b[0;31m# Less radial ticks\u001b[0m\u001b[0;34m\u001b[0m\u001b[0;34m\u001b[0m\u001b[0m\n",
      "\u001b[0;31mIndexError\u001b[0m: list index out of range"
     ]
    },
    {
     "name": "stderr",
     "output_type": "stream",
     "text": [
      "[ERROR] [1649432373.730087, 2176.588000]: bad callback: <bound method LaserVisualiser.laser_callback of <__main__.LaserVisualiser object at 0x7ff8b5b16940>>\n",
      "Traceback (most recent call last):\n",
      "  File \"/opt/ros/noetic/lib/python3/dist-packages/rospy/topics.py\", line 750, in _invoke_callback\n",
      "    cb(msg)\n",
      "  File \"/tmp/ipykernel_3962/47440050.py\", line 32, in laser_callback\n",
      "    self.x_data.aoppend(i)\n",
      "AttributeError: 'list' object has no attribute 'aoppend'\n",
      "\n"
     ]
    }
   ],
   "source": [
    "import numpy as np\n",
    "import matplotlib.pyplot as plt\n",
    "\n",
    "msg = LaserScan()\n",
    "\n",
    "for i in range(0,719,1):\n",
    "    #r = msg.ranges[i]\n",
    "    #theta = (angle_interval * i - 90) * 2 * math.pi/360\n",
    "    theta = 0.25*i\n",
    "    fig, ax = plt.subplots(subplot_kw={'projection': 'polar'})\n",
    "    ax.plot(theta, msg.ranges[i])\n",
    "    ax.set_rmax(2)\n",
    "    ax.set_rticks([0.5, 1, 1.5, 2])  # Less radial ticks\n",
    "    ax.set_rlabel_position(-22.5)  # Move radial labels away from plotted line\n",
    "    ax.grid(True)\n",
    "\n",
    "ax.set_title(\"A line plot on a polar axis\", va='bottom')\n",
    "plt.show()"
   ]
  },
  {
   "cell_type": "code",
   "execution_count": null,
   "id": "76ce9775",
   "metadata": {},
   "outputs": [],
   "source": []
  }
 ],
 "metadata": {
  "kernelspec": {
   "display_name": "Python 3 (ipykernel)",
   "language": "python",
   "name": "python3"
  },
  "language_info": {
   "codemirror_mode": {
    "name": "ipython",
    "version": 3
   },
   "file_extension": ".py",
   "mimetype": "text/x-python",
   "name": "python",
   "nbconvert_exporter": "python",
   "pygments_lexer": "ipython3",
   "version": "3.8.5"
  }
 },
 "nbformat": 4,
 "nbformat_minor": 5
}
